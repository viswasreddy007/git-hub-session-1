{
 "cells": [
  {
   "cell_type": "markdown",
   "id": "d9ab1038-78ed-42e8-8334-9bd0df119977",
   "metadata": {},
   "source": [
    "- step1 import pacakage name\n",
    "- step2 dir(pacage name)\n",
    "  #methods will display\n",
    "- step3 help(pacakgename>methodname)\n",
    "- step4 <pacakege_name.<method_name>()"
   ]
  },
  {
   "cell_type": "code",
   "execution_count": 8,
   "id": "9841d55d-85de-4ed3-ad7c-d4caa0054375",
   "metadata": {},
   "outputs": [
    {
     "name": "stdout",
     "output_type": "stream",
     "text": [
      "Help on int object:\n",
      "\n",
      "class int(object)\n",
      " |  int([x]) -> integer\n",
      " |  int(x, base=10) -> integer\n",
      " |  \n",
      " |  Convert a number or string to an integer, or return 0 if no arguments\n",
      " |  are given.  If x is a number, return x.__int__().  For floating point\n",
      " |  numbers, this truncates towards zero.\n",
      " |  \n",
      " |  If x is not a number or if base is given, then x must be a string,\n",
      " |  bytes, or bytearray instance representing an integer literal in the\n",
      " |  given base.  The literal can be preceded by '+' or '-' and be surrounded\n",
      " |  by whitespace.  The base defaults to 10.  Valid bases are 0 and 2-36.\n",
      " |  Base 0 means to interpret the base from the string as an integer literal.\n",
      " |  >>> int('0b100', base=0)\n",
      " |  4\n",
      " |  \n",
      " |  Built-in subclasses:\n",
      " |      bool\n",
      " |  \n",
      " |  Methods defined here:\n",
      " |  \n",
      " |  __abs__(self, /)\n",
      " |      abs(self)\n",
      " |  \n",
      " |  __add__(self, value, /)\n",
      " |      Return self+value.\n",
      " |  \n",
      " |  __and__(self, value, /)\n",
      " |      Return self&value.\n",
      " |  \n",
      " |  __bool__(self, /)\n",
      " |      True if self else False\n",
      " |  \n",
      " |  __ceil__(...)\n",
      " |      Ceiling of an Integral returns itself.\n",
      " |  \n",
      " |  __divmod__(self, value, /)\n",
      " |      Return divmod(self, value).\n",
      " |  \n",
      " |  __eq__(self, value, /)\n",
      " |      Return self==value.\n",
      " |  \n",
      " |  __float__(self, /)\n",
      " |      float(self)\n",
      " |  \n",
      " |  __floor__(...)\n",
      " |      Flooring an Integral returns itself.\n",
      " |  \n",
      " |  __floordiv__(self, value, /)\n",
      " |      Return self//value.\n",
      " |  \n",
      " |  __format__(self, format_spec, /)\n",
      " |      Default object formatter.\n",
      " |  \n",
      " |  __ge__(self, value, /)\n",
      " |      Return self>=value.\n",
      " |  \n",
      " |  __getattribute__(self, name, /)\n",
      " |      Return getattr(self, name).\n",
      " |  \n",
      " |  __getnewargs__(self, /)\n",
      " |  \n",
      " |  __gt__(self, value, /)\n",
      " |      Return self>value.\n",
      " |  \n",
      " |  __hash__(self, /)\n",
      " |      Return hash(self).\n",
      " |  \n",
      " |  __index__(self, /)\n",
      " |      Return self converted to an integer, if self is suitable for use as an index into a list.\n",
      " |  \n",
      " |  __int__(self, /)\n",
      " |      int(self)\n",
      " |  \n",
      " |  __invert__(self, /)\n",
      " |      ~self\n",
      " |  \n",
      " |  __le__(self, value, /)\n",
      " |      Return self<=value.\n",
      " |  \n",
      " |  __lshift__(self, value, /)\n",
      " |      Return self<<value.\n",
      " |  \n",
      " |  __lt__(self, value, /)\n",
      " |      Return self<value.\n",
      " |  \n",
      " |  __mod__(self, value, /)\n",
      " |      Return self%value.\n",
      " |  \n",
      " |  __mul__(self, value, /)\n",
      " |      Return self*value.\n",
      " |  \n",
      " |  __ne__(self, value, /)\n",
      " |      Return self!=value.\n",
      " |  \n",
      " |  __neg__(self, /)\n",
      " |      -self\n",
      " |  \n",
      " |  __or__(self, value, /)\n",
      " |      Return self|value.\n",
      " |  \n",
      " |  __pos__(self, /)\n",
      " |      +self\n",
      " |  \n",
      " |  __pow__(self, value, mod=None, /)\n",
      " |      Return pow(self, value, mod).\n",
      " |  \n",
      " |  __radd__(self, value, /)\n",
      " |      Return value+self.\n",
      " |  \n",
      " |  __rand__(self, value, /)\n",
      " |      Return value&self.\n",
      " |  \n",
      " |  __rdivmod__(self, value, /)\n",
      " |      Return divmod(value, self).\n",
      " |  \n",
      " |  __repr__(self, /)\n",
      " |      Return repr(self).\n",
      " |  \n",
      " |  __rfloordiv__(self, value, /)\n",
      " |      Return value//self.\n",
      " |  \n",
      " |  __rlshift__(self, value, /)\n",
      " |      Return value<<self.\n",
      " |  \n",
      " |  __rmod__(self, value, /)\n",
      " |      Return value%self.\n",
      " |  \n",
      " |  __rmul__(self, value, /)\n",
      " |      Return value*self.\n",
      " |  \n",
      " |  __ror__(self, value, /)\n",
      " |      Return value|self.\n",
      " |  \n",
      " |  __round__(...)\n",
      " |      Rounding an Integral returns itself.\n",
      " |      \n",
      " |      Rounding with an ndigits argument also returns an integer.\n",
      " |  \n",
      " |  __rpow__(self, value, mod=None, /)\n",
      " |      Return pow(value, self, mod).\n",
      " |  \n",
      " |  __rrshift__(self, value, /)\n",
      " |      Return value>>self.\n",
      " |  \n",
      " |  __rshift__(self, value, /)\n",
      " |      Return self>>value.\n",
      " |  \n",
      " |  __rsub__(self, value, /)\n",
      " |      Return value-self.\n",
      " |  \n",
      " |  __rtruediv__(self, value, /)\n",
      " |      Return value/self.\n",
      " |  \n",
      " |  __rxor__(self, value, /)\n",
      " |      Return value^self.\n",
      " |  \n",
      " |  __sizeof__(self, /)\n",
      " |      Returns size in memory, in bytes.\n",
      " |  \n",
      " |  __sub__(self, value, /)\n",
      " |      Return self-value.\n",
      " |  \n",
      " |  __truediv__(self, value, /)\n",
      " |      Return self/value.\n",
      " |  \n",
      " |  __trunc__(...)\n",
      " |      Truncating an Integral returns itself.\n",
      " |  \n",
      " |  __xor__(self, value, /)\n",
      " |      Return self^value.\n",
      " |  \n",
      " |  as_integer_ratio(self, /)\n",
      " |      Return integer ratio.\n",
      " |      \n",
      " |      Return a pair of integers, whose ratio is exactly equal to the original int\n",
      " |      and with a positive denominator.\n",
      " |      \n",
      " |      >>> (10).as_integer_ratio()\n",
      " |      (10, 1)\n",
      " |      >>> (-10).as_integer_ratio()\n",
      " |      (-10, 1)\n",
      " |      >>> (0).as_integer_ratio()\n",
      " |      (0, 1)\n",
      " |  \n",
      " |  bit_count(self, /)\n",
      " |      Number of ones in the binary representation of the absolute value of self.\n",
      " |      \n",
      " |      Also known as the population count.\n",
      " |      \n",
      " |      >>> bin(13)\n",
      " |      '0b1101'\n",
      " |      >>> (13).bit_count()\n",
      " |      3\n",
      " |  \n",
      " |  bit_length(self, /)\n",
      " |      Number of bits necessary to represent self in binary.\n",
      " |      \n",
      " |      >>> bin(37)\n",
      " |      '0b100101'\n",
      " |      >>> (37).bit_length()\n",
      " |      6\n",
      " |  \n",
      " |  conjugate(...)\n",
      " |      Returns self, the complex conjugate of any int.\n",
      " |  \n",
      " |  to_bytes(self, /, length=1, byteorder='big', *, signed=False)\n",
      " |      Return an array of bytes representing an integer.\n",
      " |      \n",
      " |      length\n",
      " |        Length of bytes object to use.  An OverflowError is raised if the\n",
      " |        integer is not representable with the given number of bytes.  Default\n",
      " |        is length 1.\n",
      " |      byteorder\n",
      " |        The byte order used to represent the integer.  If byteorder is 'big',\n",
      " |        the most significant byte is at the beginning of the byte array.  If\n",
      " |        byteorder is 'little', the most significant byte is at the end of the\n",
      " |        byte array.  To request the native byte order of the host system, use\n",
      " |        `sys.byteorder' as the byte order value.  Default is to use 'big'.\n",
      " |      signed\n",
      " |        Determines whether two's complement is used to represent the integer.\n",
      " |        If signed is False and a negative integer is given, an OverflowError\n",
      " |        is raised.\n",
      " |  \n",
      " |  ----------------------------------------------------------------------\n",
      " |  Class methods defined here:\n",
      " |  \n",
      " |  from_bytes(bytes, byteorder='big', *, signed=False) from builtins.type\n",
      " |      Return the integer represented by the given array of bytes.\n",
      " |      \n",
      " |      bytes\n",
      " |        Holds the array of bytes to convert.  The argument must either\n",
      " |        support the buffer protocol or be an iterable object producing bytes.\n",
      " |        Bytes and bytearray are examples of built-in objects that support the\n",
      " |        buffer protocol.\n",
      " |      byteorder\n",
      " |        The byte order used to represent the integer.  If byteorder is 'big',\n",
      " |        the most significant byte is at the beginning of the byte array.  If\n",
      " |        byteorder is 'little', the most significant byte is at the end of the\n",
      " |        byte array.  To request the native byte order of the host system, use\n",
      " |        `sys.byteorder' as the byte order value.  Default is to use 'big'.\n",
      " |      signed\n",
      " |        Indicates whether two's complement is used to represent the integer.\n",
      " |  \n",
      " |  ----------------------------------------------------------------------\n",
      " |  Static methods defined here:\n",
      " |  \n",
      " |  __new__(*args, **kwargs) from builtins.type\n",
      " |      Create and return a new object.  See help(type) for accurate signature.\n",
      " |  \n",
      " |  ----------------------------------------------------------------------\n",
      " |  Data descriptors defined here:\n",
      " |  \n",
      " |  denominator\n",
      " |      the denominator of a rational number in lowest terms\n",
      " |  \n",
      " |  imag\n",
      " |      the imaginary part of a complex number\n",
      " |  \n",
      " |  numerator\n",
      " |      the numerator of a rational number in lowest terms\n",
      " |  \n",
      " |  real\n",
      " |      the real part of a complex number\n",
      "\n"
     ]
    }
   ],
   "source": [
    "import random\n",
    "help(random.randint(0,9))"
   ]
  },
  {
   "cell_type": "markdown",
   "id": "653c2042-7d39-44ec-bb99-58fffd4da5e4",
   "metadata": {},
   "source": [
    "- () : functions or methods\n",
    "- only functions or methods callable\n",
    "- if somthing says **not callable** maenas it is not a function\n",
    "- if is not a func means you need remove the brackets\n",
    "- **bound** means add the brackets\n",
    "- function === add the brackets\n",
    "- not callable == remove brackets "
   ]
  },
  {
   "cell_type": "markdown",
   "id": "41a19bff-76fb-4eab-86c1-a4ea7c774eb9",
   "metadata": {},
   "source": [
    "# time pacakage"
   ]
  },
  {
   "cell_type": "code",
   "execution_count": 5,
   "id": "35663066-d587-48aa-b211-aa068a8b05fb",
   "metadata": {},
   "outputs": [
    {
     "name": "stdout",
     "output_type": "stream",
     "text": [
      "father : hello\n",
      "d : hai pappa how are you?\n",
      "father : do you have school today ?\n"
     ]
    }
   ],
   "source": [
    "import time\n",
    "print('father : hello')\n",
    "time.sleep(4)\n",
    "print('d : hai pappa how are you?')\n",
    "time.sleep(2)\n",
    "print('father : do you have school today ?')"
   ]
  },
  {
   "cell_type": "markdown",
   "id": "401ea8b7-25b9-4a6a-aa35-ed7a50d3a551",
   "metadata": {},
   "source": [
    "- computers vision is used to image operations\n",
    "- vedio operations\n",
    "- we called it as opencv2\n",
    "- pacakge name = cv2"
   ]
  },
  {
   "cell_type": "code",
   "execution_count": 10,
   "id": "e8cfcb2b-8624-493d-8d5d-13874338974c",
   "metadata": {},
   "outputs": [],
   "source": [
    "import cv2"
   ]
  },
  {
   "cell_type": "markdown",
   "id": "dcd339bd-72f9-499f-a9c5-537f2378ba0a",
   "metadata": {},
   "source": [
    "- whenever the module is not found we need to install it\n",
    "- here our pacakge name is cv2\n",
    "- 99% installation will be like this \n",
    "- pip install <pacakage name>\n",
    "- some pacakges installation name will be different and python imprt name is diff but everything wil start with pip\n",
    "- just google it ==> so many chanels\n",
    "- https error means internet problem\n",
    "`"
   ]
  },
  {
   "cell_type": "code",
   "execution_count": 11,
   "id": "55142dd8-8edd-407c-addb-07d2cbca5292",
   "metadata": {},
   "outputs": [],
   "source": [
    "import cv2"
   ]
  },
  {
   "cell_type": "code",
   "execution_count": 12,
   "id": "1c8ac5d3-14eb-4671-b702-9c2292c0125a",
   "metadata": {},
   "outputs": [],
   "source": [
    "import streamlit"
   ]
  },
  {
   "cell_type": "markdown",
   "id": "39b11b0c-8056-4eba-8280-4c84916fe7c8",
   "metadata": {},
   "source": [
    "- **PIP FREEZE IS THE COMMAND TO KNOW THE ALREADY EXISTED PACAKEGES IN OUR LAPTOP**"
   ]
  },
  {
   "cell_type": "code",
   "execution_count": 13,
   "id": "44ef171a-4e6a-4e29-a180-fdc6657db7de",
   "metadata": {},
   "outputs": [],
   "source": [
    "import numpy"
   ]
  },
  {
   "cell_type": "code",
   "execution_count": 14,
   "id": "252fced4-e0c1-452c-9f84-1a7c6d22c145",
   "metadata": {},
   "outputs": [
    {
     "data": {
      "text/plain": [
       "<module 'numpy' from 'C:\\\\Users\\\\viswa\\\\Downloads\\\\anaconda\\\\Lib\\\\site-packages\\\\numpy\\\\__init__.py'>"
      ]
     },
     "execution_count": 14,
     "metadata": {},
     "output_type": "execute_result"
    }
   ],
   "source": [
    "numpy"
   ]
  },
  {
   "cell_type": "markdown",
   "id": "c0333c70-ec92-41f5-8702-0ef8cd614688",
   "metadata": {},
   "source": [
    "!pip install opencv-python\n",
    "\n",
    "**in jupiter notebook we need add ! mark**\n",
    "**in anaconda prompt no need of ! mark**\n",
    "**directly name you can provide**\n"
   ]
  },
  {
   "cell_type": "code",
   "execution_count": 18,
   "id": "332b863f-cc21-4d63-b80f-f8b0d1e18771",
   "metadata": {},
   "outputs": [
    {
     "name": "stdout",
     "output_type": "stream",
     "text": [
      "Requirement already satisfied: opencv-python in c:\\users\\viswa\\downloads\\anaconda\\lib\\site-packages (4.10.0.84)\n",
      "Requirement already satisfied: numpy>=1.21.2 in c:\\users\\viswa\\downloads\\anaconda\\lib\\site-packages (from opencv-python) (1.26.4)\n"
     ]
    }
   ],
   "source": [
    "!pip install opencv-python"
   ]
  },
  {
   "cell_type": "code",
   "execution_count": 20,
   "id": "06f2873c-dfdd-4f19-ad5a-70dca8563a9e",
   "metadata": {},
   "outputs": [
    {
     "name": "stdout",
     "output_type": "stream",
     "text": [
      "30\n"
     ]
    }
   ],
   "source": [
    "#hard coding\n",
    "a=10\n",
    "b=20\n",
    "print(a+b)"
   ]
  },
  {
   "cell_type": "code",
   "execution_count": 23,
   "id": "ab18217e-d183-4abe-84ab-f8e8f5cdecb8",
   "metadata": {},
   "outputs": [
    {
     "name": "stdin",
     "output_type": "stream",
     "text": [
      " 100\n",
      " 200\n"
     ]
    },
    {
     "name": "stdout",
     "output_type": "stream",
     "text": [
      "300\n"
     ]
    }
   ],
   "source": [
    "#dynamic coding\n",
    "a=eval(input())\n",
    "b=eval(input())\n",
    "print(a+b)"
   ]
  },
  {
   "cell_type": "code",
   "execution_count": 24,
   "id": "539e7345-3e4e-4fc9-954b-b3c57a7ec885",
   "metadata": {},
   "outputs": [
    {
     "name": "stdout",
     "output_type": "stream",
     "text": [
      "the addition of 79 and 162 is 241\n"
     ]
    }
   ],
   "source": [
    "#we can take the numbers random also\n",
    "import random\n",
    "a=random.randint(1,100)\n",
    "b=random.randint(100,200)\n",
    "print('the addition of',a,'and',b,'is',(a+b))"
   ]
  },
  {
   "cell_type": "markdown",
   "id": "ab9327c7-7687-4c9c-af19-c8b3734662af",
   "metadata": {},
   "source": [
    "**How we pass the numbers**\n",
    "- hard coding\n",
    "- using keyboard\n",
    "- using the random pacakge == taking numbers randomly"
   ]
  },
  {
   "cell_type": "code",
   "execution_count": null,
   "id": "8df903a5-dd1a-4157-b945-5a8a697e2a43",
   "metadata": {},
   "outputs": [],
   "source": [
    "a=10\n",
    "b=20\n",
    "print(a+b)\n",
    "\n",
    "################################################################3\n",
    "a=eval(input())\n",
    "b=eval(input())\n",
    "print(a+b)\n",
    "\n",
    "#############################################################\n",
    "import random\n",
    "a=random.randint(1,100)\n",
    "b=random.randint(100,200)\n",
    "print('the addition of',a,'and',b,'is',(a+b))"
   ]
  },
  {
   "cell_type": "code",
   "execution_count": 30,
   "id": "445fe5b0-6e8b-476d-81a0-61f3e3b34ea8",
   "metadata": {},
   "outputs": [
    {
     "name": "stdin",
     "output_type": "stream",
     "text": [
      "enter the number2 : 15\n"
     ]
    },
    {
     "name": "stdout",
     "output_type": "stream",
     "text": [
      "the average of 10 and 15 and 3 is = 9\n"
     ]
    }
   ],
   "source": [
    "a=10\n",
    "b=eval(input('enter the number2 :'))\n",
    "c=random.randint(1,9)\n",
    "d=(a+b+c)//3\n",
    "print('the average of',a,'and',b,'and',c,'is =',d)"
   ]
  },
  {
   "cell_type": "markdown",
   "id": "db213e96-3e8f-4d49-818a-dbbd5facfe95",
   "metadata": {},
   "source": [
    "**in the entire notebook if you import pacakge no need to import every time , just verify if the line is excuted or not  and all the pacakges will be imported starting only**"
   ]
  },
  {
   "cell_type": "markdown",
   "id": "1d6a5974-1294-4247-a7a1-6a7026633c63",
   "metadata": {},
   "source": [
    "# round  keyword"
   ]
  },
  {
   "cell_type": "code",
   "execution_count": 31,
   "id": "16773d1d-f813-4d13-b72c-9f7bb4855c2b",
   "metadata": {},
   "outputs": [
    {
     "name": "stdout",
     "output_type": "stream",
     "text": [
      "22\n"
     ]
    }
   ],
   "source": [
    "avg=22.27333456789\n",
    "print(round(avg))"
   ]
  },
  {
   "cell_type": "code",
   "execution_count": 33,
   "id": "e380892e-d162-4fb1-b545-a82305f637d9",
   "metadata": {},
   "outputs": [
    {
     "name": "stdout",
     "output_type": "stream",
     "text": [
      "22.27\n"
     ]
    }
   ],
   "source": [
    "avg=22.27333456789\n",
    "print(round(avg,2))"
   ]
  },
  {
   "cell_type": "code",
   "execution_count": 35,
   "id": "58a5d433-a0d2-44c8-a95d-a49306358b38",
   "metadata": {},
   "outputs": [
    {
     "name": "stdout",
     "output_type": "stream",
     "text": [
      "22.273\n"
     ]
    }
   ],
   "source": [
    "avg=22.27333456789\n",
    "print(round(avg,3))"
   ]
  },
  {
   "cell_type": "code",
   "execution_count": 3,
   "id": "ae1b35cb-7523-4a15-913b-0443c9734e74",
   "metadata": {},
   "outputs": [
    {
     "name": "stdin",
     "output_type": "stream",
     "text": [
      "enter the number2 : 154.5445454\n"
     ]
    },
    {
     "name": "stdout",
     "output_type": "stream",
     "text": [
      "the average of 10 and 154.5445454 and 5 is = 56.0\n"
     ]
    }
   ],
   "source": [
    "import random\n",
    "a=10\n",
    "b=eval(input('enter the number2 :'))\n",
    "c=random.randint(1,9)\n",
    "d=round((a+b+c)//3,3)\n",
    "print('the average of',a,'and',b,'and',c,'is =',d)"
   ]
  },
  {
   "cell_type": "code",
   "execution_count": null,
   "id": "d42177fd-b59d-4ecc-8b61-652a17d5194e",
   "metadata": {},
   "outputs": [],
   "source": []
  }
 ],
 "metadata": {
  "kernelspec": {
   "display_name": "Python 3 (ipykernel)",
   "language": "python",
   "name": "python3"
  },
  "language_info": {
   "codemirror_mode": {
    "name": "ipython",
    "version": 3
   },
   "file_extension": ".py",
   "mimetype": "text/x-python",
   "name": "python",
   "nbconvert_exporter": "python",
   "pygments_lexer": "ipython3",
   "version": "3.11.7"
  }
 },
 "nbformat": 4,
 "nbformat_minor": 5
}
