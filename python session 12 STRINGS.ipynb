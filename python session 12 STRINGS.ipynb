{
 "cells": [
  {
   "cell_type": "markdown",
   "id": "7da7a494-d302-48d4-81d8-158d4f170c0f",
   "metadata": {},
   "source": [
    "# STRINGS\n",
    "**10/07/2024   WEDNESSDAY**"
   ]
  },
  {
   "cell_type": "markdown",
   "id": "0e24d7e2-b59c-43e6-9289-8b5d89b7d78a",
   "metadata": {},
   "source": [
    "***============PART-1============***\n",
    "\n",
    "- initizilation\n",
    "- type\n",
    "- len\n",
    "- max\n",
    "- min\n",
    "- sorted\n",
    "- reveresed\n",
    "- in operator\n",
    "- for loop using in\n",
    "- indexing\n",
    "- for loop indexing\n",
    "- mutable concepts\n",
    "- concatination\n",
    "\n",
    "***============PART-2=============***\n",
    "\n",
    "- methods\n",
    "\n",
    "\n"
   ]
  },
  {
   "cell_type": "code",
   "execution_count": 3,
   "id": "994d0adb-1a56-4ade-a6e3-7f04ebf92913",
   "metadata": {},
   "outputs": [
    {
     "data": {
      "text/plain": [
       "'python'"
      ]
     },
     "execution_count": 3,
     "metadata": {},
     "output_type": "execute_result"
    }
   ],
   "source": [
    "# initilization\n",
    "\n",
    "str1='python'\n",
    "str2=\"python\"\n",
    "(str1)\n",
    "(str2)"
   ]
  },
  {
   "cell_type": "markdown",
   "id": "7d2a1d63-4cf2-44e8-95a1-e8abeabe8bfd",
   "metadata": {},
   "source": [
    "**NOTE**\n",
    "\n",
    "- if we mentionted single quotes or double quotes by default python provides in single qoutes only\n",
    "- so if we print the strings we will see answer ****without qoutes****\n",
    "- ***triple quotes*** are used to doc string\n",
    "- in order to convey the information aboubt coding part we will use doc string\n",
    "- anything inisde the single or double quotes is considered as string in python\n"
   ]
  },
  {
   "cell_type": "code",
   "execution_count": 4,
   "id": "8b7e77f4-d58e-4ba8-bfdf-eb84cdcb9ad0",
   "metadata": {},
   "outputs": [
    {
     "name": "stdout",
     "output_type": "stream",
     "text": [
      "python\n",
      "python\n"
     ]
    }
   ],
   "source": [
    "str1='python'\n",
    "str2=\"python\"\n",
    "print(str1)\n",
    "print(str2)"
   ]
  },
  {
   "cell_type": "markdown",
   "id": "23f878f8-ba0c-4d3b-9f65-a3cf6eb9078e",
   "metadata": {},
   "source": [
    "***TRIPLE QUOTES***"
   ]
  },
  {
   "cell_type": "code",
   "execution_count": 6,
   "id": "bd8a6886-d83b-4d23-855c-710ec382a970",
   "metadata": {},
   "outputs": [
    {
     "name": "stdout",
     "output_type": "stream",
     "text": [
      "hi how are you\n",
      "          im good\n"
     ]
    }
   ],
   "source": [
    "str1=\"\"\"hi how are you\n",
    "          im good\"\"\"\n",
    "print(str1)"
   ]
  },
  {
   "cell_type": "markdown",
   "id": "985df039-3993-4040-8dd6-705cda55de55",
   "metadata": {},
   "source": [
    "# **1) TYPE**"
   ]
  },
  {
   "cell_type": "code",
   "execution_count": 7,
   "id": "5a912d6d-2637-4745-bd16-15cb47264247",
   "metadata": {},
   "outputs": [
    {
     "data": {
      "text/plain": [
       "str"
      ]
     },
     "execution_count": 7,
     "metadata": {},
     "output_type": "execute_result"
    }
   ],
   "source": [
    "type(str1)"
   ]
  },
  {
   "cell_type": "code",
   "execution_count": null,
   "id": "7811a5e0-a484-4844-8dde-fe2e138bc7a0",
   "metadata": {},
   "outputs": [],
   "source": [
    "str4='4' # integer value in the form of string\n",
    "str5='10.5'  # float value in the form of string\n",
    "str6='123abc'   # aplpa value in the form of string\n",
    "str7='$%^&'  #  special value in the form of string\n",
    "str8='True'   # bool value in the form of string\n",
    "str9='sinx'   # integer value in the form of string\n"
   ]
  },
  {
   "cell_type": "markdown",
   "id": "08bee6d3-4b5b-44ff-8404-8361f307c574",
   "metadata": {},
   "source": [
    "# **2) length**"
   ]
  },
  {
   "cell_type": "code",
   "execution_count": 9,
   "id": "88fae5fa-d861-43cc-8882-795a6b6226e7",
   "metadata": {},
   "outputs": [
    {
     "name": "stdout",
     "output_type": "stream",
     "text": [
      "6\n"
     ]
    }
   ],
   "source": [
    "str1='python'\n",
    "print(len(str1))"
   ]
  },
  {
   "cell_type": "code",
   "execution_count": 13,
   "id": "2076261c-e75c-44cd-8322-595514a56ddc",
   "metadata": {},
   "outputs": [
    {
     "name": "stdout",
     "output_type": "stream",
     "text": [
      "11\n"
     ]
    }
   ],
   "source": [
    "a='viswasreddy'\n",
    "print(len(a))"
   ]
  },
  {
   "cell_type": "markdown",
   "id": "0868d676-01e6-42b9-a864-8455b3d202ca",
   "metadata": {},
   "source": [
    "# **3) maximum and minimum**"
   ]
  },
  {
   "cell_type": "code",
   "execution_count": 17,
   "id": "b8e55fd6-3ae3-41e7-8956-683d5a3ea15d",
   "metadata": {},
   "outputs": [
    {
     "name": "stdout",
     "output_type": "stream",
     "text": [
      "the maximum number is = 20\n",
      "the minimum number is = 10\n"
     ]
    }
   ],
   "source": [
    "a=10\n",
    "b=20\n",
    "print('the maximum number is =',max(a,b))\n",
    "print('the minimum number is =',min(a,b))"
   ]
  },
  {
   "cell_type": "code",
   "execution_count": 19,
   "id": "7fbb0ec4-9887-4bf4-8d1f-bc653dc0e1e1",
   "metadata": {},
   "outputs": [
    {
     "name": "stdout",
     "output_type": "stream",
     "text": [
      "the maximum letter is = y\n",
      "the minimum letter is = h\n"
     ]
    }
   ],
   "source": [
    "a='python'\n",
    "print('the maximum letter is =',max(a))\n",
    "print('the minimum letter is =',min(a))"
   ]
  },
  {
   "cell_type": "code",
   "execution_count": 20,
   "id": "c217ea25-6d57-4719-af18-94faedeb356d",
   "metadata": {},
   "outputs": [
    {
     "data": {
      "text/plain": [
       "(112, 121, 116, 104, 111, 110)"
      ]
     },
     "execution_count": 20,
     "metadata": {},
     "output_type": "execute_result"
    }
   ],
   "source": [
    "ord('p'),ord('y'),ord('t'),ord('h'),ord('o'),ord('n')"
   ]
  },
  {
   "cell_type": "markdown",
   "id": "f9882787-56cf-48ce-9933-5c3ad3688024",
   "metadata": {},
   "source": [
    "**keyowords vs methods**"
   ]
  },
  {
   "cell_type": "code",
   "execution_count": null,
   "id": "c712e263-8f6b-426a-a525-d4eb5f5b908e",
   "metadata": {},
   "outputs": [],
   "source": [
    "# keywords\n",
    "\n",
    "type(<>)\n",
    "print(<>)\n",
    "len(<>)\n",
    "max(<>)\n",
    "min(<>)\n",
    "eval(<>)\n",
    "input(<>)\n",
    "sum(<>)\n",
    "for()\n",
    "if()\n",
    "elif()\n",
    "else()\n",
    "try()\n",
    "except()\n",
    "sum()\n",
    "sort()"
   ]
  },
  {
   "cell_type": "code",
   "execution_count": null,
   "id": "1b379e77-b4f2-4c81-820b-e6283042888e",
   "metadata": {},
   "outputs": [],
   "source": [
    "- in order to use methods you need to call package\n",
    "\n",
    "import random\n",
    "random.randint()\n",
    "\n",
    "import math\n",
    "math.sqrt()\n",
    "\n",
    "import time\n",
    "time.sleep()"
   ]
  },
  {
   "cell_type": "markdown",
   "id": "6f8891e3-c0df-46b6-b369-3b9b6d65e8e4",
   "metadata": {},
   "source": [
    "# **4) sum**"
   ]
  },
  {
   "cell_type": "code",
   "execution_count": 21,
   "id": "92710b55-8af8-438b-b42b-050399ccc0f9",
   "metadata": {},
   "outputs": [
    {
     "name": "stdout",
     "output_type": "stream",
     "text": [
      "y\n"
     ]
    }
   ],
   "source": [
    "str1='python123'\n",
    "print(max(str1))"
   ]
  },
  {
   "cell_type": "code",
   "execution_count": 24,
   "id": "9c5c5652-e9ab-4a5d-8c39-5f5328f3a98a",
   "metadata": {},
   "outputs": [
    {
     "ename": "TypeError",
     "evalue": "unsupported operand type(s) for +: 'int' and 'str'",
     "output_type": "error",
     "traceback": [
      "\u001b[1;31m---------------------------------------------------------------------------\u001b[0m",
      "\u001b[1;31mTypeError\u001b[0m                                 Traceback (most recent call last)",
      "Cell \u001b[1;32mIn[24], line 2\u001b[0m\n\u001b[0;32m      1\u001b[0m str1\u001b[38;5;241m=\u001b[39m\u001b[38;5;124m'\u001b[39m\u001b[38;5;124mpython\u001b[39m\u001b[38;5;124m'\u001b[39m\n\u001b[1;32m----> 2\u001b[0m \u001b[38;5;28msum\u001b[39m(str1)\n",
      "\u001b[1;31mTypeError\u001b[0m: unsupported operand type(s) for +: 'int' and 'str'"
     ]
    }
   ],
   "source": [
    "str1='python'\n",
    "sum(str1)"
   ]
  },
  {
   "cell_type": "code",
   "execution_count": 25,
   "id": "30b51f88-e6db-4854-bab9-976abeff7697",
   "metadata": {},
   "outputs": [
    {
     "data": {
      "text/plain": [
       "6"
      ]
     },
     "execution_count": 25,
     "metadata": {},
     "output_type": "execute_result"
    }
   ],
   "source": [
    "sum([1,2,3])"
   ]
  },
  {
   "cell_type": "code",
   "execution_count": 26,
   "id": "83e4d81f-a961-4b2f-824a-5eec946b254f",
   "metadata": {},
   "outputs": [
    {
     "data": {
      "text/plain": [
       "'py'"
      ]
     },
     "execution_count": 26,
     "metadata": {},
     "output_type": "execute_result"
    }
   ],
   "source": [
    "('p'+'y')"
   ]
  },
  {
   "cell_type": "markdown",
   "id": "80542d27-95bf-44ae-96a1-18c0d4394ab5",
   "metadata": {},
   "source": [
    "- we cannot add the strings and intergers and string values cannot be added"
   ]
  },
  {
   "cell_type": "markdown",
   "id": "d0844a13-9978-48eb-908f-2c7475f404f4",
   "metadata": {},
   "source": [
    "# **5) sorted**"
   ]
  },
  {
   "cell_type": "code",
   "execution_count": 27,
   "id": "2ea4cfbc-a7cf-4075-874c-90d16aeb55fa",
   "metadata": {},
   "outputs": [
    {
     "name": "stdout",
     "output_type": "stream",
     "text": [
      "python\n"
     ]
    }
   ],
   "source": [
    "len('python')\n",
    "min('python')\n",
    "max('python')\n",
    "print('python')"
   ]
  },
  {
   "cell_type": "code",
   "execution_count": 28,
   "id": "9f0a8acf-8f10-4469-b6fc-fb70168acbf3",
   "metadata": {},
   "outputs": [
    {
     "data": {
      "text/plain": [
       "['h', 'n', 'o', 'p', 't', 'y']"
      ]
     },
     "execution_count": 28,
     "metadata": {},
     "output_type": "execute_result"
    }
   ],
   "source": [
    "sorted('python')"
   ]
  },
  {
   "cell_type": "markdown",
   "id": "4914b3ee-20d4-4571-89cd-045243eabac8",
   "metadata": {},
   "source": [
    "- sorted gives asending order based on ascii numbers\n",
    "\n",
    "- sorted is kind of a function\n",
    "\n",
    "- every function we have arguments\n",
    "\n",
    "- in that one default argument is **reversed=false**\n",
    "- by default sorted output gives **ascending order**\n",
    "- we can change the order,by provididing **revesere=True**\n",
    "- ***if we do not mentioned anything it will give the default answer***"
   ]
  },
  {
   "cell_type": "code",
   "execution_count": 35,
   "id": "7617f72b-366b-471c-bd58-76d60be6181a",
   "metadata": {},
   "outputs": [
    {
     "data": {
      "text/plain": [
       "['y', 't', 'p', 'o', 'n', 'h']"
      ]
     },
     "execution_count": 35,
     "metadata": {},
     "output_type": "execute_result"
    }
   ],
   "source": [
    "sorted('python',reverse=True)"
   ]
  },
  {
   "cell_type": "code",
   "execution_count": 36,
   "id": "0a28391e-e43b-4f34-84e8-9a05ce5ecfd6",
   "metadata": {},
   "outputs": [
    {
     "data": {
      "text/plain": [
       "0j"
      ]
     },
     "execution_count": 36,
     "metadata": {},
     "output_type": "execute_result"
    }
   ],
   "source": [
    "complex()  # 0+0j"
   ]
  },
  {
   "cell_type": "code",
   "execution_count": 37,
   "id": "640b3523-de70-4e47-98ca-16d689e5d792",
   "metadata": {},
   "outputs": [
    {
     "data": {
      "text/plain": [
       "(10+20j)"
      ]
     },
     "execution_count": 37,
     "metadata": {},
     "output_type": "execute_result"
    }
   ],
   "source": [
    "complex(10,20)"
   ]
  },
  {
   "cell_type": "code",
   "execution_count": 38,
   "id": "dde27680-713f-40f0-a6cf-f2e67d2d9a4c",
   "metadata": {},
   "outputs": [
    {
     "data": {
      "text/plain": [
       "(10+30j)"
      ]
     },
     "execution_count": 38,
     "metadata": {},
     "output_type": "execute_result"
    }
   ],
   "source": [
    "complex(real=10,imag=30)"
   ]
  },
  {
   "cell_type": "code",
   "execution_count": 39,
   "id": "86ebdf7c-954d-40ad-988d-fce80740470b",
   "metadata": {},
   "outputs": [
    {
     "ename": "TypeError",
     "evalue": "Random.randint() missing 2 required positional arguments: 'a' and 'b'",
     "output_type": "error",
     "traceback": [
      "\u001b[1;31m---------------------------------------------------------------------------\u001b[0m",
      "\u001b[1;31mTypeError\u001b[0m                                 Traceback (most recent call last)",
      "Cell \u001b[1;32mIn[39], line 2\u001b[0m\n\u001b[0;32m      1\u001b[0m \u001b[38;5;28;01mimport\u001b[39;00m \u001b[38;5;21;01mrandom\u001b[39;00m\n\u001b[1;32m----> 2\u001b[0m random\u001b[38;5;241m.\u001b[39mrandint()\n",
      "\u001b[1;31mTypeError\u001b[0m: Random.randint() missing 2 required positional arguments: 'a' and 'b'"
     ]
    }
   ],
   "source": [
    "import random\n",
    "random.randint()"
   ]
  },
  {
   "cell_type": "markdown",
   "id": "cfeb6b0c-561a-4417-b2cc-ee807ded558e",
   "metadata": {},
   "source": [
    "- function without arguguments\n",
    "- function with arguguments\n",
    "- function defaultt arguguments"
   ]
  },
  {
   "cell_type": "code",
   "execution_count": null,
   "id": "5350b290-e15c-4f78-9778-50be90eab038",
   "metadata": {},
   "outputs": [],
   "source": [
    "function()  # answer\n",
    "function(a,b)  # error\n",
    "function(a=1,b=2)  # answer"
   ]
  },
  {
   "cell_type": "code",
   "execution_count": 41,
   "id": "1e9dcd2b-438b-4106-b785-623e543f0838",
   "metadata": {},
   "outputs": [
    {
     "data": {
      "text/plain": [
       "0.5225544559052813"
      ]
     },
     "execution_count": 41,
     "metadata": {},
     "output_type": "execute_result"
    }
   ],
   "source": [
    "import random\n",
    "random.random()  # we will get the answer but the value is not in our hands"
   ]
  },
  {
   "cell_type": "code",
   "execution_count": 42,
   "id": "0d25b691-e717-46dc-9f00-43c2049fd61e",
   "metadata": {},
   "outputs": [
    {
     "data": {
      "text/plain": [
       "12"
      ]
     },
     "execution_count": 42,
     "metadata": {},
     "output_type": "execute_result"
    }
   ],
   "source": [
    "import random\n",
    "random.randint(10,20)  # answer we can change"
   ]
  },
  {
   "cell_type": "code",
   "execution_count": 44,
   "id": "052f0159-0dba-4bb5-97af-3287592dc2bc",
   "metadata": {},
   "outputs": [
    {
     "data": {
      "text/plain": [
       "0j"
      ]
     },
     "execution_count": 44,
     "metadata": {},
     "output_type": "execute_result"
    }
   ],
   "source": [
    "complex()  # by default 0,0"
   ]
  },
  {
   "cell_type": "code",
   "execution_count": 48,
   "id": "97b61809-21e8-4b81-8ac8-84617147fe48",
   "metadata": {},
   "outputs": [
    {
     "data": {
      "text/plain": [
       "27"
      ]
     },
     "execution_count": 48,
     "metadata": {},
     "output_type": "execute_result"
    }
   ],
   "source": [
    "random.randint(10,30)"
   ]
  },
  {
   "cell_type": "code",
   "execution_count": 47,
   "id": "cf5f0e3c-68c3-4d9f-8a05-ca3bb2123903",
   "metadata": {},
   "outputs": [
    {
     "ename": "TypeError",
     "evalue": "sorted expected 1 argument, got 0",
     "output_type": "error",
     "traceback": [
      "\u001b[1;31m---------------------------------------------------------------------------\u001b[0m",
      "\u001b[1;31mTypeError\u001b[0m                                 Traceback (most recent call last)",
      "Cell \u001b[1;32mIn[47], line 1\u001b[0m\n\u001b[1;32m----> 1\u001b[0m \u001b[38;5;28msorted\u001b[39m(iterable\u001b[38;5;241m=\u001b[39m\u001b[38;5;124m'\u001b[39m\u001b[38;5;124mpython\u001b[39m\u001b[38;5;124m'\u001b[39m)\n",
      "\u001b[1;31mTypeError\u001b[0m: sorted expected 1 argument, got 0"
     ]
    }
   ],
   "source": [
    "sorted(iterable='python')"
   ]
  },
  {
   "cell_type": "markdown",
   "id": "9f3fae58-1b40-41bd-b287-228e1bd35cde",
   "metadata": {},
   "source": [
    "**note**\n",
    "- we have argumnets before / after slash\n",
    "- we can use arguments names after / only\n",
    "- for examlple sorted has two arguments one iis iterable and another one is reversed\n",
    "- iterable is mentioned before / symbol\n",
    "- reverse is mentioned after / symbol\n",
    "- so we can use only reversse argumnets name while we are doing the work\n",
    "- we cannot ise iterable argument name\n",
    "- instead of using iterable name, we can provide direct value at that position"
   ]
  },
  {
   "cell_type": "markdown",
   "id": "75ef7f18-044b-4143-bfd9-adf6db751756",
   "metadata": {},
   "source": [
    "# **6) reversed**"
   ]
  },
  {
   "cell_type": "code",
   "execution_count": null,
   "id": "49dabac4-2429-4994-9ea9-8cd26048ca2f",
   "metadata": {},
   "outputs": [],
   "source": [
    "type()\n",
    "max()\n",
    "min()\n",
    "print()\n",
    "sorted()\n",
    "len()\n",
    "reversed()"
   ]
  },
  {
   "cell_type": "code",
   "execution_count": 50,
   "id": "216dee85-5e83-45a9-b01c-27801a23246e",
   "metadata": {},
   "outputs": [
    {
     "data": {
      "text/plain": [
       "<reversed at 0x2afc6d35270>"
      ]
     },
     "execution_count": 50,
     "metadata": {},
     "output_type": "execute_result"
    }
   ],
   "source": [
    "reversed('python1')"
   ]
  },
  {
   "cell_type": "markdown",
   "id": "b4781a53-4333-4276-8aa0-1335871b82fb",
   "metadata": {},
   "source": [
    "- iam already done this work your output is stored in that location\n",
    "- whenever you will see this kind of answer less than and graeter than symbol  or memory\n",
    "- use for loop to see the answer"
   ]
  },
  {
   "cell_type": "code",
   "execution_count": 54,
   "id": "cd7ccd42-096c-4775-859f-46620af62678",
   "metadata": {},
   "outputs": [
    {
     "name": "stdout",
     "output_type": "stream",
     "text": [
      "h g f e d c b a "
     ]
    }
   ],
   "source": [
    "str1='abcdefgh'\n",
    "output=reversed(str1)\n",
    "for i in output:\n",
    "    print(i,end=' ')\n"
   ]
  },
  {
   "cell_type": "code",
   "execution_count": 57,
   "id": "6ffe2685-b5e5-44f6-ac34-04610b2051da",
   "metadata": {},
   "outputs": [
    {
     "data": {
      "text/plain": [
       "['a', 'd', 'g', 'h', 'j']"
      ]
     },
     "execution_count": 57,
     "metadata": {},
     "output_type": "execute_result"
    }
   ],
   "source": [
    "sorted('ahjgd')"
   ]
  },
  {
   "cell_type": "code",
   "execution_count": 2,
   "id": "404d1760-0c8d-491d-9326-d82dccbc93a2",
   "metadata": {},
   "outputs": [
    {
     "name": "stdout",
     "output_type": "stream",
     "text": [
      "viswas reddy\n"
     ]
    }
   ],
   "source": [
    "a='viswas'\n",
    "b='reddy'\n",
    "print(a,b)"
   ]
  },
  {
   "cell_type": "code",
   "execution_count": 4,
   "id": "8a06712b-87af-490a-b5f5-8acb1bd48caf",
   "metadata": {},
   "outputs": [
    {
     "data": {
      "text/plain": [
       "115"
      ]
     },
     "execution_count": 4,
     "metadata": {},
     "output_type": "execute_result"
    }
   ],
   "source": [
    "ord('s')"
   ]
  },
  {
   "cell_type": "code",
   "execution_count": 14,
   "id": "414aa8c5-c38f-40ef-b30d-eb0935f5e22c",
   "metadata": {},
   "outputs": [
    {
     "data": {
      "text/plain": [
       "['s', 'r', 'n', 'h', 'e', 'a']"
      ]
     },
     "execution_count": 14,
     "metadata": {},
     "output_type": "execute_result"
    }
   ],
   "source": [
    "a='naresh'\n",
    "sorted(a,reverse=True)"
   ]
  },
  {
   "cell_type": "code",
   "execution_count": 13,
   "id": "6c853c9c-b036-492b-bbe9-68bf1d0fff58",
   "metadata": {},
   "outputs": [
    {
     "data": {
      "text/plain": [
       "['a', 'e', 'h', 'n', 'r', 's']"
      ]
     },
     "execution_count": 13,
     "metadata": {},
     "output_type": "execute_result"
    }
   ],
   "source": [
    "a='naresh'\n",
    "sorted(a)"
   ]
  },
  {
   "cell_type": "code",
   "execution_count": 15,
   "id": "731805e0-22f8-43b6-9f18-e32ed5affbff",
   "metadata": {},
   "outputs": [
    {
     "data": {
      "text/plain": [
       "<reversed at 0x149db793790>"
      ]
     },
     "execution_count": 15,
     "metadata": {},
     "output_type": "execute_result"
    }
   ],
   "source": [
    "reversed('viswasreddy')"
   ]
  },
  {
   "cell_type": "code",
   "execution_count": 16,
   "id": "fb949e34-9a82-48e7-aa10-928dc7ede26a",
   "metadata": {},
   "outputs": [
    {
     "name": "stdout",
     "output_type": "stream",
     "text": [
      "y d d e r s a w s i v "
     ]
    }
   ],
   "source": [
    "for i in reversed('viswasreddy'):\n",
    "    print(i,end=' ')"
   ]
  },
  {
   "cell_type": "code",
   "execution_count": 21,
   "id": "f6c23b16-34ca-4caf-bfcf-4b5215634e30",
   "metadata": {},
   "outputs": [
    {
     "data": {
      "text/plain": [
       "[1, 2, 10, 20, 30]"
      ]
     },
     "execution_count": 21,
     "metadata": {},
     "output_type": "execute_result"
    }
   ],
   "source": [
    "sorted([1,10,2,30,20])"
   ]
  },
  {
   "cell_type": "code",
   "execution_count": 24,
   "id": "48ff700f-9be6-4727-b1fb-2644df2ffb7f",
   "metadata": {},
   "outputs": [
    {
     "data": {
      "text/plain": [
       "[30, 20, 10, 2, 1]"
      ]
     },
     "execution_count": 24,
     "metadata": {},
     "output_type": "execute_result"
    }
   ],
   "source": [
    "sorted(([1,10,2,30,20]),reverse=True)"
   ]
  },
  {
   "cell_type": "markdown",
   "id": "d66f36c1-68d3-44ef-ab3b-856d44625fca",
   "metadata": {},
   "source": [
    "## **7) in operator**"
   ]
  },
  {
   "cell_type": "code",
   "execution_count": 27,
   "id": "1dc73693-2764-45a5-97ab-d81f4e8bd55e",
   "metadata": {},
   "outputs": [
    {
     "data": {
      "text/plain": [
       "True"
      ]
     },
     "execution_count": 27,
     "metadata": {},
     "output_type": "execute_result"
    }
   ],
   "source": [
    "a='naresh'\n",
    "'n' in a\n"
   ]
  },
  {
   "cell_type": "code",
   "execution_count": 28,
   "id": "04dc8d4d-4d07-4a37-b346-59fb536cc339",
   "metadata": {},
   "outputs": [
    {
     "data": {
      "text/plain": [
       "False"
      ]
     },
     "execution_count": 28,
     "metadata": {},
     "output_type": "execute_result"
    }
   ],
   "source": [
    "'n' not in a"
   ]
  },
  {
   "cell_type": "code",
   "execution_count": 30,
   "id": "0c2386e3-7afb-4960-a4f9-726e0db8819c",
   "metadata": {},
   "outputs": [
    {
     "name": "stdout",
     "output_type": "stream",
     "text": [
      "naresh"
     ]
    }
   ],
   "source": [
    "for i in a:\n",
    "    print(i,end='')"
   ]
  },
  {
   "cell_type": "markdown",
   "id": "41b71ea5-b7d6-4d5f-89d2-3eba36c92b46",
   "metadata": {},
   "source": [
    "**NOTE**\n",
    "\n",
    "- ***in operator*** directly access the letters"
   ]
  },
  {
   "cell_type": "code",
   "execution_count": 35,
   "id": "19b1d03b-7be6-490d-ab52-73c592488f73",
   "metadata": {},
   "outputs": [
    {
     "name": "stdout",
     "output_type": "stream",
     "text": [
      "there are 3 number of a in that string\n"
     ]
    }
   ],
   "source": [
    "# question1 ask user count how many 'a' are presnt in a given string\n",
    "# strr='hai naresh how are you'\n",
    "\n",
    "# idea = counter wrapper\n",
    "# step1 = count=0\n",
    "# step2 = using for loop in operator iterate through given string1\n",
    "# step3 = apply the if condition , whenver the letter equal to 'a'\n",
    "# step4 = count=count+1\n",
    "\n",
    "a='hai naresh how are you'\n",
    "b=0\n",
    "for i in a:\n",
    "    if i=='a':\n",
    "        b+=1\n",
    "print('there are',b,'number of a in that string')"
   ]
  },
  {
   "cell_type": "code",
   "execution_count": 39,
   "id": "bc66590e-5465-42bd-83bf-a8fb84658e80",
   "metadata": {},
   "outputs": [
    {
     "name": "stdout",
     "output_type": "stream",
     "text": [
      "the number of volwels present in that string = 9\n"
     ]
    }
   ],
   "source": [
    "# question=2 ask user find how many volwels are there in a string\n",
    "\n",
    "a='aeiouAEIOU'\n",
    "b='hai naresh how are you'\n",
    "c=0\n",
    "for i in b:\n",
    "    if i in a:\n",
    "        c+=1\n",
    "print('the number of volwels present in that string =',c)\n",
    "        "
   ]
  },
  {
   "cell_type": "code",
   "execution_count": 44,
   "id": "5410df4c-ae94-4780-ad2b-21fe6b0637cf",
   "metadata": {},
   "outputs": [
    {
     "name": "stdout",
     "output_type": "stream",
     "text": [
      "the total vowles present in this string = 9\n",
      "the unique vowles presnt in this string = 5\n"
     ]
    }
   ],
   "source": [
    "# question=3 str='hai naresh how are you'\n",
    "# we dont want repeated vowles\n",
    "# count the vowels and avoid the repeatation\n",
    "# generally unique volwels\n",
    "\n",
    "#idea \n",
    "# step1= count=0\n",
    "# step2 =take one more empty string for example str2=''\n",
    "# step3 =for loop \n",
    "# step4 =that letter should not available in str2\n",
    "# step5 = check vowel condition\n",
    "# step6 = both are true the count=count+1\n",
    "# step7 update the str2,, str2=str2+<letter>\n",
    "\n",
    "\n",
    "a='aeiouAEIOU'\n",
    "b='hai naresh how are you'\n",
    "c=0\n",
    "d=[]\n",
    "for i in b:\n",
    "    if i in a:\n",
    "        c+=1\n",
    "        if i not in d:\n",
    "            d.append(i)\n",
    "print('the total vowles present in this string =',c)\n",
    "print('the unique vowles presnt in this string =',len(d))\n",
    "        "
   ]
  },
  {
   "cell_type": "markdown",
   "id": "70a0fb8b-e206-493b-8e9b-565192807a65",
   "metadata": {},
   "source": [
    "## **how to update the empty string**\n"
   ]
  },
  {
   "cell_type": "code",
   "execution_count": 45,
   "id": "4505bd4e-9014-41be-837f-db15b016ef86",
   "metadata": {},
   "outputs": [
    {
     "name": "stdout",
     "output_type": "stream",
     "text": [
      "python\n"
     ]
    }
   ],
   "source": [
    "s1='python'\n",
    "s2=''\n",
    "for i in s1:\n",
    "    s2+=i\n",
    "print(s2)"
   ]
  },
  {
   "cell_type": "code",
   "execution_count": 48,
   "id": "90473f99-0e1b-42e2-8a87-54533cf3197b",
   "metadata": {},
   "outputs": [
    {
     "name": "stdout",
     "output_type": "stream",
     "text": [
      "hello bye\n"
     ]
    }
   ],
   "source": [
    "a='hello'\n",
    "b='bye'\n",
    "print(a+' '+b)"
   ]
  },
  {
   "cell_type": "code",
   "execution_count": 49,
   "id": "6af3386c-883a-4e85-96d0-8540bd8ac2b5",
   "metadata": {},
   "outputs": [
    {
     "name": "stdout",
     "output_type": "stream",
     "text": [
      "hello bye\n"
     ]
    }
   ],
   "source": [
    "a='hello'\n",
    "b=' '\n",
    "c='bye'\n",
    "print(a+b+c)"
   ]
  },
  {
   "cell_type": "code",
   "execution_count": 56,
   "id": "fbfd9617-ab86-4fd4-baec-589347dca766",
   "metadata": {},
   "outputs": [
    {
     "ename": "TypeError",
     "evalue": "unsupported operand type(s) for /: 'str' and 'str'",
     "output_type": "error",
     "traceback": [
      "\u001b[1;31m---------------------------------------------------------------------------\u001b[0m",
      "\u001b[1;31mTypeError\u001b[0m                                 Traceback (most recent call last)",
      "Cell \u001b[1;32mIn[56], line 4\u001b[0m\n\u001b[0;32m      2\u001b[0m b\u001b[38;5;241m=\u001b[39m\u001b[38;5;124m'\u001b[39m\u001b[38;5;124mbye\u001b[39m\u001b[38;5;124m'\u001b[39m\n\u001b[0;32m      3\u001b[0m \u001b[38;5;66;03m#print(a*b)\u001b[39;00m\n\u001b[1;32m----> 4\u001b[0m \u001b[38;5;28mprint\u001b[39m(a\u001b[38;5;241m/\u001b[39mb)\n\u001b[0;32m      5\u001b[0m \u001b[38;5;28mprint\u001b[39m(a\u001b[38;5;241m-\u001b[39mb)\n",
      "\u001b[1;31mTypeError\u001b[0m: unsupported operand type(s) for /: 'str' and 'str'"
     ]
    }
   ],
   "source": [
    "a='hello'\n",
    "b='bye'\n",
    "#print(a*b)\n",
    "print(a/b)\n",
    "print(a-b)"
   ]
  },
  {
   "cell_type": "markdown",
   "id": "0f518850-3379-4a5b-8e41-1bdbe8d58ee6",
   "metadata": {},
   "source": [
    "- TypeError: can't multiply sequence by non-int of type 'str'  **# for mtilpication of strings**\n",
    "- TypeError: unsupported operand type(s) for /: 'str' and 'str'  **# for division and subtraction of both strings**"
   ]
  },
  {
   "cell_type": "code",
   "execution_count": 64,
   "id": "973e3f9d-6a69-42d3-9ede-f8b3a0bb5350",
   "metadata": {},
   "outputs": [
    {
     "name": "stdout",
     "output_type": "stream",
     "text": [
      "hellohello\n"
     ]
    }
   ],
   "source": [
    "a='hello'\n",
    "print(a*2)"
   ]
  },
  {
   "cell_type": "markdown",
   "id": "80198649-6f6c-4f77-9ce3-c16e18d0f788",
   "metadata": {},
   "source": [
    "## **8) index operator**"
   ]
  },
  {
   "cell_type": "code",
   "execution_count": 65,
   "id": "fb870224-f1e5-42fc-a5d2-512e8af6d1d9",
   "metadata": {},
   "outputs": [
    {
     "name": "stdout",
     "output_type": "stream",
     "text": [
      "p\n"
     ]
    }
   ],
   "source": [
    "s1='python'\n",
    "print(s1[0])"
   ]
  },
  {
   "cell_type": "code",
   "execution_count": null,
   "id": "91fa95db-f1b5-4b75-ae60-a69b3685cdc3",
   "metadata": {},
   "outputs": [],
   "source": [
    "P    Y    T    H    O    N\n",
    "0    1    2    3    4    5\n",
    "-6  -5    -4   -3   -2  -1"
   ]
  },
  {
   "cell_type": "markdown",
   "id": "ed57422a-6278-4b45-9e7b-2625fd33eb1e",
   "metadata": {},
   "source": [
    "- index meaning a number attached to a letter\n",
    "- in python index starts with zero\n",
    "- we have two directions\n",
    "    - postive direction\n",
    "      - postive numbers starts with zero\n",
    "    - negative direction\n",
    "      - negative direction starts with -1, applicable to last letter"
   ]
  },
  {
   "cell_type": "code",
   "execution_count": 67,
   "id": "5977eba1-40ae-4cda-a2da-a8b32b9ddab0",
   "metadata": {},
   "outputs": [
    {
     "name": "stdout",
     "output_type": "stream",
     "text": [
      "p\n",
      "n\n"
     ]
    }
   ],
   "source": [
    "a='python'\n",
    "print(a[0])\n",
    "print(a[-1])"
   ]
  },
  {
   "cell_type": "markdown",
   "id": "04338574-9efb-43f3-b73b-b6f09d99851f",
   "metadata": {},
   "source": [
    "**mutalble and immutable**\n",
    "- mutable can change\n",
    "    - we can change using indexing\n",
    "- immutable can not change\n",
    "    - we can not change using indexing"
   ]
  },
  {
   "cell_type": "code",
   "execution_count": 2,
   "id": "da757c1a-54b9-4c68-a54e-bd1312378c5d",
   "metadata": {},
   "outputs": [
    {
     "ename": "TypeError",
     "evalue": "'str' object does not support item assignment",
     "output_type": "error",
     "traceback": [
      "\u001b[1;31m---------------------------------------------------------------------------\u001b[0m",
      "\u001b[1;31mTypeError\u001b[0m                                 Traceback (most recent call last)",
      "Cell \u001b[1;32mIn[2], line 3\u001b[0m\n\u001b[0;32m      1\u001b[0m a\u001b[38;5;241m=\u001b[39m\u001b[38;5;124m'\u001b[39m\u001b[38;5;124mwelcome\u001b[39m\u001b[38;5;124m'\u001b[39m\n\u001b[0;32m      2\u001b[0m \u001b[38;5;66;03m# i want to replace 'l' with 'L'\u001b[39;00m\n\u001b[1;32m----> 3\u001b[0m a[\u001b[38;5;241m2\u001b[39m]\u001b[38;5;241m=\u001b[39m\u001b[38;5;124m'\u001b[39m\u001b[38;5;124mL\u001b[39m\u001b[38;5;124m'\u001b[39m\n",
      "\u001b[1;31mTypeError\u001b[0m: 'str' object does not support item assignment"
     ]
    }
   ],
   "source": [
    "a='welcome'\n",
    "# i want to replace 'l' with 'L'\n",
    "a[2]='L'"
   ]
  },
  {
   "cell_type": "markdown",
   "id": "c210b72e-258f-4d62-85d9-7ad6faac962e",
   "metadata": {},
   "source": [
    "### strings are immutable"
   ]
  },
  {
   "cell_type": "code",
   "execution_count": 3,
   "id": "528e349f-24f3-468b-8ac7-0d012daff0f7",
   "metadata": {},
   "outputs": [
    {
     "name": "stdout",
     "output_type": "stream",
     "text": [
      "[1, 200, 3, 4]\n"
     ]
    }
   ],
   "source": [
    "l=[1,2,3,4]  # 2=200\n",
    "l[1]=200\n",
    "print(l)"
   ]
  },
  {
   "cell_type": "code",
   "execution_count": 4,
   "id": "eab8e4b2-2790-428b-b778-f7605b5b7758",
   "metadata": {},
   "outputs": [
    {
     "name": "stdout",
     "output_type": "stream",
     "text": [
      "w\n",
      "e\n",
      "l\n",
      "c\n",
      "o\n",
      "m\n",
      "e\n"
     ]
    }
   ],
   "source": [
    "# Q4) print each letter using for loop ranges\n",
    "s='welcome'\n",
    "for i in s:\n",
    "    print(i)"
   ]
  },
  {
   "cell_type": "code",
   "execution_count": 5,
   "id": "69a3174e-40df-49fc-8c99-609686e5c1d4",
   "metadata": {},
   "outputs": [
    {
     "name": "stdout",
     "output_type": "stream",
     "text": [
      "w\n",
      "e\n",
      "l\n",
      "c\n",
      "o\n",
      "m\n",
      "e\n"
     ]
    }
   ],
   "source": [
    "for i in range(len(s)):\n",
    "    print(s[i])"
   ]
  },
  {
   "cell_type": "markdown",
   "id": "61e37843-471f-43a2-8ec7-455b99a9b179",
   "metadata": {},
   "source": [
    "- range belongs to which family\n",
    "    - math family\n",
    "- inside range bracket what we need to provide\n",
    "    - number\n",
    "- how many numbers we need to provide\n",
    "    - number of letter : len(string):\n",
    "- how to access the letter using number\n",
    "    - by uisng index"
   ]
  },
  {
   "cell_type": "code",
   "execution_count": 6,
   "id": "e3e4ff2b-3021-4235-bf31-adb6571a8235",
   "metadata": {},
   "outputs": [
    {
     "name": "stdout",
     "output_type": "stream",
     "text": [
      "w\n",
      "e\n",
      "l\n",
      "c\n",
      "o\n",
      "m\n",
      "e\n",
      " \n",
      "t\n",
      "o\n",
      " \n",
      "n\n",
      "a\n",
      "r\n",
      "e\n",
      "s\n",
      "h\n",
      " \n",
      "i\n",
      "t\n"
     ]
    }
   ],
   "source": [
    "s='welcome to naresh it'\n",
    "n=len(s)\n",
    "for i in range(n):\n",
    "    print(s[i])"
   ]
  },
  {
   "cell_type": "markdown",
   "id": "16068e03-b9be-4fff-8b4c-3f0e6e0bacb9",
   "metadata": {},
   "source": [
    "- **for-in** directly access the letter\n",
    "\n",
    "- **for-range** will access using index"
   ]
  },
  {
   "cell_type": "code",
   "execution_count": 9,
   "id": "a4a6f1ba-dea6-4041-afaa-b257031f8d6f",
   "metadata": {},
   "outputs": [
    {
     "name": "stdout",
     "output_type": "stream",
     "text": [
      "the postive index of w is = 0\n",
      "the postive index of e is = 1\n",
      "the postive index of l is = 2\n",
      "the postive index of c is = 3\n",
      "the postive index of o is = 4\n",
      "the postive index of m is = 5\n",
      "the postive index of e is = 6\n"
     ]
    }
   ],
   "source": [
    "# Q5) ask user iterate using a string\n",
    "# string='welcome'\n",
    "# print the postive index of w is 0\n",
    "#       the postive index of e = 1\n",
    "\n",
    "a='welcome'\n",
    "for i in range(len(a)):\n",
    "    print('the postive index of',a[i],'is =',i)"
   ]
  },
  {
   "cell_type": "code",
   "execution_count": 11,
   "id": "6e595c11-71ca-4fff-bf99-6e37b2d197b3",
   "metadata": {},
   "outputs": [
    {
     "name": "stdout",
     "output_type": "stream",
     "text": [
      "the postive index is = 0 and the negative index is = -7 for w\n",
      "the postive index is = 1 and the negative index is = -6 for e\n",
      "the postive index is = 2 and the negative index is = -5 for l\n",
      "the postive index is = 3 and the negative index is = -4 for c\n",
      "the postive index is = 4 and the negative index is = -3 for o\n",
      "the postive index is = 5 and the negative index is = -2 for m\n",
      "the postive index is = 6 and the negative index is = -1 for e\n"
     ]
    }
   ],
   "source": [
    "# Q6) ask user iterate using a string\n",
    "# string='welcome'\n",
    "# print the postive index of w is -7\n",
    "#       the postive index of e = -6\n",
    "\n",
    "a='welcome'\n",
    "for i in range(len(a)):\n",
    "    print('the postive index is =',i,'and the negative index is =',i-len(a),'for',a[i])"
   ]
  },
  {
   "cell_type": "code",
   "execution_count": 16,
   "id": "7ed2f787-9e4f-4947-a77c-fef7c857b352",
   "metadata": {},
   "outputs": [
    {
     "name": "stdout",
     "output_type": "stream",
     "text": [
      "a is presnt in  1\n",
      "a is presnt in  8\n",
      "a is presnt in  18\n"
     ]
    }
   ],
   "source": [
    "# Q8) ask the user get the index of each 'a' in a string \n",
    "# s='hai how are you i am good'\n",
    "s='hai how are you i am good'\n",
    "for i in range(len(s)):\n",
    "    if s[i]=='a':\n",
    "        print('a is presnt in ',i)\n",
    "\n"
   ]
  },
  {
   "cell_type": "code",
   "execution_count": 17,
   "id": "83782c39-7088-428f-803a-a9ecf25ea7ed",
   "metadata": {},
   "outputs": [
    {
     "name": "stdout",
     "output_type": "stream",
     "text": [
      "3\n"
     ]
    }
   ],
   "source": [
    "# Q9) ask the user to get count of number of 'a' in a given string\n",
    "# using for-range\n",
    "\n",
    "a='hai how are you i am good'\n",
    "c=0\n",
    "for i in range(len(a)):\n",
    "    if a[i]=='a':\n",
    "        c+=1\n",
    "print(c)"
   ]
  },
  {
   "cell_type": "code",
   "execution_count": 27,
   "id": "99bc9ed5-f514-4e98-9658-2d9e8c61cbab",
   "metadata": {},
   "outputs": [
    {
     "name": "stdout",
     "output_type": "stream",
     "text": [
      "27\n"
     ]
    }
   ],
   "source": [
    "# Q10) ask the user get the sum of all indexes numbers of 'a'\n",
    "# 2+8+18=28\n",
    "s='hai how are you i am good'\n",
    "a=[]\n",
    "for i in range(len(s)):\n",
    "    if s[i]=='a':\n",
    "        a.append(i)\n",
    "print(sum(a))"
   ]
  },
  {
   "cell_type": "code",
   "execution_count": 32,
   "id": "8a29367a-f51d-4154-b5be-a21bf91be0c2",
   "metadata": {},
   "outputs": [
    {
     "name": "stdout",
     "output_type": "stream",
     "text": [
      "the index of 1 is = a\n",
      "the index of 2 is = i\n",
      "the index of 5 is = o\n",
      "the index of 8 is = a\n",
      "the index of 10 is = e\n",
      "the index of 13 is = o\n",
      "the index of 14 is = u\n",
      "the index of 16 is = i\n",
      "the index of 18 is = a\n",
      "the index of 22 is = o\n",
      "the index of 23 is = o\n"
     ]
    }
   ],
   "source": [
    "# Q11) ask the user get the volwels from a given string for-range\n",
    "\n",
    "s='hai how are you i am good'\n",
    "b='aeiou'\n",
    "for i in range(len(s)):\n",
    "    if s[i] in b:\n",
    "        print('the index of',i,'is =',s[i])"
   ]
  },
  {
   "cell_type": "code",
   "execution_count": 3,
   "id": "efd4fb9c-d645-492d-8f7a-37691888c0f9",
   "metadata": {},
   "outputs": [
    {
     "name": "stdout",
     "output_type": "stream",
     "text": [
      "9\n"
     ]
    }
   ],
   "source": [
    "# WAP ask the find how many vowels are there in a given string\n",
    "# str1='hai naresh how are you'\n",
    "# ans=9\n",
    "\n",
    "str1='hai naresh how are you'\n",
    "b=0\n",
    "c='aeiou'\n",
    "for i in range(len(str1)):\n",
    "    if str1[i] in c:\n",
    "        b+=1\n",
    "print(b)"
   ]
  },
  {
   "cell_type": "code",
   "execution_count": 4,
   "id": "57347bdc-3371-49ca-bf13-f0aa65da3729",
   "metadata": {},
   "outputs": [
    {
     "name": "stdout",
     "output_type": "stream",
     "text": [
      "5\n"
     ]
    }
   ],
   "source": [
    "# Q3) Home work qn\n",
    "# str1='hai naresh how are you'\n",
    "# Repetaed vowels are there\n",
    "# We dont want repetaed vowels\n",
    "# Count the vowels avoid the repeatition: Unique vowels\n",
    "\n",
    "a='hai naresh how are you'\n",
    "c='aeiou'\n",
    "b=[]\n",
    "for i in range(len(a)):\n",
    "    if a[i] in c:\n",
    "        if a[i] not in b:\n",
    "            b.append(a[i])\n",
    "print(len(b))\n",
    "    \n",
    "    "
   ]
  },
  {
   "cell_type": "markdown",
   "id": "0fc70bf8-c488-407a-b925-82a9a6cf074a",
   "metadata": {},
   "source": [
    "## slice"
   ]
  },
  {
   "cell_type": "markdown",
   "id": "4f8d22f6-b39c-4c27-9fa0-f848d4e10e74",
   "metadata": {},
   "source": [
    "- we can cut into pieces\n",
    "- simlar to range concepet\n",
    "- start,stop,step here also"
   ]
  },
  {
   "cell_type": "code",
   "execution_count": 1,
   "id": "e4c279b2-90b9-4609-b40f-59acb848cc33",
   "metadata": {},
   "outputs": [],
   "source": [
    "a='hai how are you'\n"
   ]
  },
  {
   "cell_type": "code",
   "execution_count": null,
   "id": "7e06566a-8e1f-4b83-8207-b7f66e4f4a0a",
   "metadata": {},
   "outputs": [],
   "source": [
    "-15 -14 -13 -12 -11 -10 -9 -8 -7 -6 -5 -4 -3 -2 -1\n",
    "h     a   i       h   o   w    a  r  e     y  o  u\n",
    "0     1    2   3  4   5   6  7 8  9  10 11 12 13  14"
   ]
  },
  {
   "cell_type": "code",
   "execution_count": null,
   "id": "f2f7acf2-40ee-406c-a8d0-15c7f523c6a7",
   "metadata": {},
   "outputs": [],
   "source": [
    "a[start:stop:step]"
   ]
  },
  {
   "cell_type": "markdown",
   "id": "3e89b0e8-031f-4584-9e0a-f0b0cdeb6210",
   "metadata": {},
   "source": [
    "### pattern -1\n",
    "**a[start:]**\n",
    "- by deault start value = start only\n",
    "- last value = last only\n",
    "- step nothing mentioned means, it is a postive direction and increment by 1"
   ]
  },
  {
   "cell_type": "code",
   "execution_count": 2,
   "id": "f2ead40c-e145-4abd-8459-e1365ab9b98d",
   "metadata": {},
   "outputs": [
    {
     "data": {
      "text/plain": [
       "'ow are you'"
      ]
     },
     "execution_count": 2,
     "metadata": {},
     "output_type": "execute_result"
    }
   ],
   "source": [
    "a='hai how are you'\n",
    "a[5:]"
   ]
  },
  {
   "cell_type": "code",
   "execution_count": 3,
   "id": "42135c9e-9323-4d7f-903c-de495a3e1f0d",
   "metadata": {},
   "outputs": [
    {
     "data": {
      "text/plain": [
       "'e you'"
      ]
     },
     "execution_count": 3,
     "metadata": {},
     "output_type": "execute_result"
    }
   ],
   "source": [
    "a[10:]"
   ]
  },
  {
   "cell_type": "code",
   "execution_count": 4,
   "id": "5d877db3-0f75-428f-b03e-a26419650987",
   "metadata": {},
   "outputs": [
    {
     "data": {
      "text/plain": [
       "'e you'"
      ]
     },
     "execution_count": 4,
     "metadata": {},
     "output_type": "execute_result"
    }
   ],
   "source": [
    "a[-5:]"
   ]
  },
  {
   "cell_type": "code",
   "execution_count": 6,
   "id": "50579259-c9bf-4b48-bdb3-e201ee3f4ba1",
   "metadata": {},
   "outputs": [
    {
     "data": {
      "text/plain": [
       "('ow are you', 'ow are you')"
      ]
     },
     "execution_count": 6,
     "metadata": {},
     "output_type": "execute_result"
    }
   ],
   "source": [
    "a[5:],a[-10:]"
   ]
  },
  {
   "cell_type": "code",
   "execution_count": 7,
   "id": "e7316402-e710-4577-ac4d-bf18f0a1ade2",
   "metadata": {},
   "outputs": [
    {
     "data": {
      "text/plain": [
       "'u'"
      ]
     },
     "execution_count": 7,
     "metadata": {},
     "output_type": "execute_result"
    }
   ],
   "source": [
    "a[-1:]"
   ]
  },
  {
   "cell_type": "code",
   "execution_count": 9,
   "id": "21a55cf1-04bc-4c56-a0dd-957ef82ebb2f",
   "metadata": {},
   "outputs": [
    {
     "data": {
      "text/plain": [
       "'u'"
      ]
     },
     "execution_count": 9,
     "metadata": {},
     "output_type": "execute_result"
    }
   ],
   "source": [
    "a[14:]"
   ]
  },
  {
   "cell_type": "markdown",
   "id": "169b81fb-6a4b-4ec8-9e4c-4e6cf84fa88e",
   "metadata": {},
   "source": [
    "### pattern - 2\n",
    "\n",
    "str1[start: stop]\n",
    "- start value means by default start only\n",
    "- step is not mentioned postive direction\n",
    "- last =stop-1"
   ]
  },
  {
   "cell_type": "code",
   "execution_count": 11,
   "id": "345c0a7f-80e8-4fe4-9e55-d88f074b62a2",
   "metadata": {},
   "outputs": [
    {
     "data": {
      "text/plain": [
       "'hai how'"
      ]
     },
     "execution_count": 11,
     "metadata": {},
     "output_type": "execute_result"
    }
   ],
   "source": [
    "a='hai how are you'\n",
    "a[0:7]"
   ]
  },
  {
   "cell_type": "code",
   "execution_count": null,
   "id": "bda1b501-f76c-4fca-9f51-c5210e8327d9",
   "metadata": {},
   "outputs": [],
   "source": [
    "-15 -14 -13 -12 -11 -10 -9 -8 -7 -6 -5 -4 -3 -2 -1\n",
    "h     a   i       h   o   w    a  r  e     y  o  u\n",
    "0     1    2   3  4   5   6  7 8  9  10 11 12 13  14"
   ]
  },
  {
   "cell_type": "code",
   "execution_count": 16,
   "id": "3c49038c-3d3b-4253-abd3-86b8e257894f",
   "metadata": {},
   "outputs": [
    {
     "data": {
      "text/plain": [
       "'hai how are'"
      ]
     },
     "execution_count": 16,
     "metadata": {},
     "output_type": "execute_result"
    }
   ],
   "source": [
    "a[-15:-4]"
   ]
  },
  {
   "cell_type": "code",
   "execution_count": 17,
   "id": "02df165d-c269-49f1-8af7-8654f9b823d4",
   "metadata": {},
   "outputs": [
    {
     "data": {
      "text/plain": [
       "'e yo'"
      ]
     },
     "execution_count": 17,
     "metadata": {},
     "output_type": "execute_result"
    }
   ],
   "source": [
    "a[-5:14]\n",
    "# start=5\n",
    "# last = 14-1 = 13 postive"
   ]
  },
  {
   "cell_type": "code",
   "execution_count": 19,
   "id": "f8f5efe4-9425-4333-b116-9e9a8d2440c7",
   "metadata": {},
   "outputs": [
    {
     "data": {
      "text/plain": [
       "'how are'"
      ]
     },
     "execution_count": 19,
     "metadata": {},
     "output_type": "execute_result"
    }
   ],
   "source": [
    "a[4:-4]"
   ]
  },
  {
   "cell_type": "code",
   "execution_count": 21,
   "id": "4207bb5e-70ba-418e-8a2f-057a1a29f70f",
   "metadata": {},
   "outputs": [
    {
     "data": {
      "text/plain": [
       "''"
      ]
     },
     "execution_count": 21,
     "metadata": {},
     "output_type": "execute_result"
    }
   ],
   "source": [
    "a[-5:-14]"
   ]
  },
  {
   "cell_type": "code",
   "execution_count": 22,
   "id": "2465fe3d-8c49-4df3-80c3-fe49047101b4",
   "metadata": {},
   "outputs": [
    {
     "data": {
      "text/plain": [
       "''"
      ]
     },
     "execution_count": 22,
     "metadata": {},
     "output_type": "execute_result"
    }
   ],
   "source": [
    "a[5:-14]"
   ]
  },
  {
   "cell_type": "code",
   "execution_count": 23,
   "id": "a133395c-409f-4e45-b22f-19387b8e9f0f",
   "metadata": {},
   "outputs": [
    {
     "data": {
      "text/plain": [
       "'e yo'"
      ]
     },
     "execution_count": 23,
     "metadata": {},
     "output_type": "execute_result"
    }
   ],
   "source": [
    "a[-5:14]"
   ]
  },
  {
   "cell_type": "code",
   "execution_count": 24,
   "id": "b07857ca-30c6-40cb-8114-91dc5cc4da28",
   "metadata": {},
   "outputs": [
    {
     "data": {
      "text/plain": [
       "'ow are you'"
      ]
     },
     "execution_count": 24,
     "metadata": {},
     "output_type": "execute_result"
    }
   ],
   "source": [
    "a[5:500]"
   ]
  },
  {
   "cell_type": "markdown",
   "id": "14175de3-9816-41c7-8ad3-9cc045717c93",
   "metadata": {},
   "source": [
    "## **truncation behaviour**\n",
    "- whenever the string range is limited, but we provided unlimited number\n",
    "- string will consider till the range we have\n",
    "- in the above example our range only 15 letters\n",
    "- we prodive 500, then 500 will truncate to till 15 letters only"
   ]
  },
  {
   "cell_type": "code",
   "execution_count": 30,
   "id": "089b4fa5-4e3d-4e52-9fd1-9dffd8e5d156",
   "metadata": {},
   "outputs": [
    {
     "data": {
      "text/plain": [
       "'ow are you'"
      ]
     },
     "execution_count": 30,
     "metadata": {},
     "output_type": "execute_result"
    }
   ],
   "source": [
    "a[5:500]"
   ]
  },
  {
   "cell_type": "code",
   "execution_count": 27,
   "id": "0575f8e3-79a1-4a98-a518-8f5d536415bc",
   "metadata": {},
   "outputs": [
    {
     "data": {
      "text/plain": [
       "'u'"
      ]
     },
     "execution_count": 27,
     "metadata": {},
     "output_type": "execute_result"
    }
   ],
   "source": [
    "a[-1:500]"
   ]
  },
  {
   "cell_type": "code",
   "execution_count": 28,
   "id": "9d1ea400-17dc-494c-b1e2-c2ee9d3e1c68",
   "metadata": {},
   "outputs": [
    {
     "data": {
      "text/plain": [
       "''"
      ]
     },
     "execution_count": 28,
     "metadata": {},
     "output_type": "execute_result"
    }
   ],
   "source": [
    "a[500:]"
   ]
  },
  {
   "cell_type": "code",
   "execution_count": 31,
   "id": "d0011a34-746c-4f1a-b7de-c6a2d3431a45",
   "metadata": {},
   "outputs": [
    {
     "data": {
      "text/plain": [
       "'hai how are you'"
      ]
     },
     "execution_count": 31,
     "metadata": {},
     "output_type": "execute_result"
    }
   ],
   "source": [
    "a[-500:500]"
   ]
  },
  {
   "cell_type": "code",
   "execution_count": null,
   "id": "976b0092-cd1f-4d87-913f-7db1cf974c64",
   "metadata": {},
   "outputs": [],
   "source": [
    "-15 -14 -13 -12 -11 -10 -9 -8 -7 -6 -5 -4 -3 -2 -1\n",
    "h     a   i       h   o   w    a  r  e     y  o  u\n",
    "0     1    2   3  4   5   6  7 8  9  10 11 12 13  14"
   ]
  },
  {
   "cell_type": "code",
   "execution_count": 32,
   "id": "4ccef0a9-a721-497f-a730-d6795fee8c43",
   "metadata": {},
   "outputs": [
    {
     "data": {
      "text/plain": [
       "''"
      ]
     },
     "execution_count": 32,
     "metadata": {},
     "output_type": "execute_result"
    }
   ],
   "source": [
    "a[-500:-100]"
   ]
  },
  {
   "cell_type": "markdown",
   "id": "dcf2b348-9d36-4ffe-934e-6a47003bdd25",
   "metadata": {},
   "source": [
    "### pattern - 3\n",
    "***str1[start:stop:step]***\n",
    "\n",
    "- start value means start only\n",
    "- if step value positive\n",
    "    - last value = stop-1\n",
    "- if step value negative\n",
    "    - last vlaue = stop+1"
   ]
  },
  {
   "cell_type": "code",
   "execution_count": 33,
   "id": "b553ae40-919f-4778-b3a2-9fc955b4ed1d",
   "metadata": {},
   "outputs": [
    {
     "data": {
      "text/plain": [
       "15"
      ]
     },
     "execution_count": 33,
     "metadata": {},
     "output_type": "execute_result"
    }
   ],
   "source": [
    "len(a)"
   ]
  },
  {
   "cell_type": "code",
   "execution_count": 34,
   "id": "03497041-0dd7-4a03-bd28-b59690ba1f1c",
   "metadata": {},
   "outputs": [
    {
     "data": {
      "text/plain": [
       "8"
      ]
     },
     "execution_count": 34,
     "metadata": {},
     "output_type": "execute_result"
    }
   ],
   "source": [
    "str2='yeswanth'\n",
    "len(str2)"
   ]
  },
  {
   "cell_type": "code",
   "execution_count": null,
   "id": "3f0e753a-a3f4-496a-b10b-2315371f8933",
   "metadata": {},
   "outputs": [],
   "source": [
    "y    e   s   h   w   a   n   t   h\n",
    "0    1   2   3   4   5   6   7   8\n",
    "-9   -8   -7  -6  -5  -4  -3  -2  -1"
   ]
  },
  {
   "cell_type": "code",
   "execution_count": null,
   "id": "016d46be-ac2c-46b7-91af-eb80ab85570a",
   "metadata": {},
   "outputs": [],
   "source": [
    "-15 -14 -13 -12 -11 -10 -9 -8 -7 -6 -5 -4 -3 -2 -1\n",
    "h     a   i       h   o   w    a  r  e     y  o  u\n",
    "0     1    2   3  4   5   6  7 8  9  10 11 12 13  14"
   ]
  },
  {
   "cell_type": "code",
   "execution_count": 35,
   "id": "3b6f728a-8c79-4317-aacc-07dce6e0f9eb",
   "metadata": {},
   "outputs": [
    {
     "data": {
      "text/plain": [
       "'ihwaey'"
      ]
     },
     "execution_count": 35,
     "metadata": {},
     "output_type": "execute_result"
    }
   ],
   "source": [
    "a[2:13:2]"
   ]
  },
  {
   "cell_type": "code",
   "execution_count": 36,
   "id": "1171a6ed-84fa-417f-b194-877405b949a4",
   "metadata": {},
   "outputs": [
    {
     "data": {
      "text/plain": [
       "''"
      ]
     },
     "execution_count": 36,
     "metadata": {},
     "output_type": "execute_result"
    }
   ],
   "source": [
    "a[2:13:-2]"
   ]
  },
  {
   "cell_type": "code",
   "execution_count": 37,
   "id": "3c5beb61-728a-412c-bc55-e0f0e1bc85eb",
   "metadata": {},
   "outputs": [
    {
     "data": {
      "text/plain": [
       "''"
      ]
     },
     "execution_count": 37,
     "metadata": {},
     "output_type": "execute_result"
    }
   ],
   "source": [
    "a[2:-13:-2]"
   ]
  },
  {
   "cell_type": "code",
   "execution_count": 38,
   "id": "04d57cfb-2937-4aa6-8ccd-73a497f32be5",
   "metadata": {},
   "outputs": [
    {
     "data": {
      "text/plain": [
       "''"
      ]
     },
     "execution_count": 38,
     "metadata": {},
     "output_type": "execute_result"
    }
   ],
   "source": [
    "a[2:-13:2]"
   ]
  },
  {
   "cell_type": "code",
   "execution_count": 39,
   "id": "20618a6e-84f4-4304-b855-9f0a142ab7d9",
   "metadata": {},
   "outputs": [
    {
     "data": {
      "text/plain": [
       "'o r o '"
      ]
     },
     "execution_count": 39,
     "metadata": {},
     "output_type": "execute_result"
    }
   ],
   "source": [
    "a[-2:-13:-2]"
   ]
  },
  {
   "cell_type": "code",
   "execution_count": 41,
   "id": "436e0eb0-c4b9-45ef-ad7f-3b5863d892b3",
   "metadata": {},
   "outputs": [
    {
     "data": {
      "text/plain": [
       "''"
      ]
     },
     "execution_count": 41,
     "metadata": {},
     "output_type": "execute_result"
    }
   ],
   "source": [
    "a[-13:2:2]"
   ]
  },
  {
   "cell_type": "code",
   "execution_count": 42,
   "id": "64227177-026b-4301-982a-55ef58484c59",
   "metadata": {},
   "outputs": [
    {
     "data": {
      "text/plain": [
       "''"
      ]
     },
     "execution_count": 42,
     "metadata": {},
     "output_type": "execute_result"
    }
   ],
   "source": [
    "a[2:-13]"
   ]
  },
  {
   "cell_type": "code",
   "execution_count": 43,
   "id": "85a4dab6-7620-48fc-836e-edee1bf47842",
   "metadata": {},
   "outputs": [
    {
     "data": {
      "text/plain": [
       "'i'"
      ]
     },
     "execution_count": 43,
     "metadata": {},
     "output_type": "execute_result"
    }
   ],
   "source": [
    "a[2:3:2]"
   ]
  },
  {
   "cell_type": "code",
   "execution_count": 44,
   "id": "8d363940-213e-4c34-8ca9-d352a725adda",
   "metadata": {},
   "outputs": [
    {
     "data": {
      "text/plain": [
       "''"
      ]
     },
     "execution_count": 44,
     "metadata": {},
     "output_type": "execute_result"
    }
   ],
   "source": [
    "a[2:2]"
   ]
  },
  {
   "cell_type": "code",
   "execution_count": 45,
   "id": "2d3e3eb2-5044-40cc-920b-8f8a94a99372",
   "metadata": {},
   "outputs": [
    {
     "data": {
      "text/plain": [
       "''"
      ]
     },
     "execution_count": 45,
     "metadata": {},
     "output_type": "execute_result"
    }
   ],
   "source": [
    "a[13:2:2]"
   ]
  },
  {
   "cell_type": "code",
   "execution_count": 46,
   "id": "441a1535-1e5f-4eb4-92bb-bf6b97364be8",
   "metadata": {},
   "outputs": [
    {
     "data": {
      "text/plain": [
       "''"
      ]
     },
     "execution_count": 46,
     "metadata": {},
     "output_type": "execute_result"
    }
   ],
   "source": [
    "a[-13:2:2]"
   ]
  },
  {
   "cell_type": "code",
   "execution_count": 47,
   "id": "8b45d982-bcf7-4677-98dc-378deb5022cd",
   "metadata": {},
   "outputs": [
    {
     "data": {
      "text/plain": [
       "'ihwaey'"
      ]
     },
     "execution_count": 47,
     "metadata": {},
     "output_type": "execute_result"
    }
   ],
   "source": [
    "a[-13:-2:2]"
   ]
  },
  {
   "cell_type": "code",
   "execution_count": 48,
   "id": "6c0e46bb-c13f-41d8-a320-7c4ec373e963",
   "metadata": {},
   "outputs": [
    {
     "data": {
      "text/plain": [
       "'uyeaw'"
      ]
     },
     "execution_count": 48,
     "metadata": {},
     "output_type": "execute_result"
    }
   ],
   "source": [
    "a[:5:-2]"
   ]
  },
  {
   "cell_type": "code",
   "execution_count": null,
   "id": "8ac863ae-dbb5-4bc3-a2b9-c84f99af8a31",
   "metadata": {},
   "outputs": [],
   "source": [
    "a[:]  # complete string\n",
    "a[::]  # complete string\n",
    "a[::-1]  # reverse  start vakue = -1\n",
    "a[<start>:5:-2]"
   ]
  },
  {
   "cell_type": "markdown",
   "id": "ad055c61-5a73-48ae-a14c-3fd74ee86307",
   "metadata": {},
   "source": [
    "# part-2 METHODS"
   ]
  },
  {
   "cell_type": "markdown",
   "id": "cdab7a12-eba2-4541-9442-4cdcfda21f49",
   "metadata": {},
   "source": [
    "**methods**\n",
    "\n",
    "- string lists tupels deictonary data types has it own menthods\n",
    "- we already seen that packages has different method\n",
    "- for exmaple random package : randint method\n",
    "- math package : sqrt\n",
    "- in the same way strings also have methods\n",
    "- in order to see methods for the packages\n",
    "    - we are importing the package\n",
    "    - we are appling dir\n",
    "- in the similar  way in oder to see the methods of string , we need to apply dir only"
   ]
  },
  {
   "cell_type": "code",
   "execution_count": 49,
   "id": "93194a5c-85d3-4ad9-a529-989614ffe55e",
   "metadata": {},
   "outputs": [
    {
     "data": {
      "text/plain": [
       "['__add__',\n",
       " '__class__',\n",
       " '__contains__',\n",
       " '__delattr__',\n",
       " '__dir__',\n",
       " '__doc__',\n",
       " '__eq__',\n",
       " '__format__',\n",
       " '__ge__',\n",
       " '__getattribute__',\n",
       " '__getitem__',\n",
       " '__getnewargs__',\n",
       " '__getstate__',\n",
       " '__gt__',\n",
       " '__hash__',\n",
       " '__init__',\n",
       " '__init_subclass__',\n",
       " '__iter__',\n",
       " '__le__',\n",
       " '__len__',\n",
       " '__lt__',\n",
       " '__mod__',\n",
       " '__mul__',\n",
       " '__ne__',\n",
       " '__new__',\n",
       " '__reduce__',\n",
       " '__reduce_ex__',\n",
       " '__repr__',\n",
       " '__rmod__',\n",
       " '__rmul__',\n",
       " '__setattr__',\n",
       " '__sizeof__',\n",
       " '__str__',\n",
       " '__subclasshook__',\n",
       " 'capitalize',\n",
       " 'casefold',\n",
       " 'center',\n",
       " 'count',\n",
       " 'encode',\n",
       " 'endswith',\n",
       " 'expandtabs',\n",
       " 'find',\n",
       " 'format',\n",
       " 'format_map',\n",
       " 'index',\n",
       " 'isalnum',\n",
       " 'isalpha',\n",
       " 'isascii',\n",
       " 'isdecimal',\n",
       " 'isdigit',\n",
       " 'isidentifier',\n",
       " 'islower',\n",
       " 'isnumeric',\n",
       " 'isprintable',\n",
       " 'isspace',\n",
       " 'istitle',\n",
       " 'isupper',\n",
       " 'join',\n",
       " 'ljust',\n",
       " 'lower',\n",
       " 'lstrip',\n",
       " 'maketrans',\n",
       " 'partition',\n",
       " 'removeprefix',\n",
       " 'removesuffix',\n",
       " 'replace',\n",
       " 'rfind',\n",
       " 'rindex',\n",
       " 'rjust',\n",
       " 'rpartition',\n",
       " 'rsplit',\n",
       " 'rstrip',\n",
       " 'split',\n",
       " 'splitlines',\n",
       " 'startswith',\n",
       " 'strip',\n",
       " 'swapcase',\n",
       " 'title',\n",
       " 'translate',\n",
       " 'upper',\n",
       " 'zfill']"
      ]
     },
     "execution_count": 49,
     "metadata": {},
     "output_type": "execute_result"
    }
   ],
   "source": [
    "dir('')\n",
    "# dir('viswas')\n",
    "# str1='apple'\n",
    "# dir(str1)"
   ]
  },
  {
   "cell_type": "markdown",
   "id": "220a935c-c528-4e06-ae4b-ea91f3f5b035",
   "metadata": {},
   "source": [
    "- lower\n",
    "- upper\n",
    "- capitalize\n",
    "- title\n",
    "- casefold\n",
    "- center"
   ]
  },
  {
   "cell_type": "code",
   "execution_count": 53,
   "id": "7b4e2e22-6092-4ede-938a-ee42599bf1ca",
   "metadata": {},
   "outputs": [
    {
     "name": "stdout",
     "output_type": "stream",
     "text": [
      "Help on built-in function upper:\n",
      "\n",
      "upper() method of builtins.str instance\n",
      "    Return a copy of the string converted to uppercase.\n",
      "\n"
     ]
    }
   ],
   "source": [
    "b='hai how are you'\n",
    "type(b)\n",
    "help(b.upper)"
   ]
  },
  {
   "cell_type": "code",
   "execution_count": 54,
   "id": "cdd75f4b-7a78-41a4-94c1-f1be87c35788",
   "metadata": {},
   "outputs": [
    {
     "data": {
      "text/plain": [
       "'HAI HOW ARE YOU'"
      ]
     },
     "execution_count": 54,
     "metadata": {},
     "output_type": "execute_result"
    }
   ],
   "source": [
    "b.upper()"
   ]
  },
  {
   "cell_type": "code",
   "execution_count": 55,
   "id": "a6c3f692-37e2-4633-ad22-a1b4dd5deb00",
   "metadata": {},
   "outputs": [
    {
     "data": {
      "text/plain": [
       "<function str.upper()>"
      ]
     },
     "execution_count": 55,
     "metadata": {},
     "output_type": "execute_result"
    }
   ],
   "source": [
    "b.upper"
   ]
  },
  {
   "cell_type": "code",
   "execution_count": 56,
   "id": "b60a7c93-17c7-4026-82f4-6ee7224b876c",
   "metadata": {},
   "outputs": [
    {
     "data": {
      "text/plain": [
       "'hai how are you'"
      ]
     },
     "execution_count": 56,
     "metadata": {},
     "output_type": "execute_result"
    }
   ],
   "source": [
    "b.lower()"
   ]
  },
  {
   "cell_type": "code",
   "execution_count": 57,
   "id": "42b4c34b-0e8b-4f6d-9fa2-550b3c242a69",
   "metadata": {},
   "outputs": [
    {
     "data": {
      "text/plain": [
       "'HAI HOW ARE YOU'"
      ]
     },
     "execution_count": 57,
     "metadata": {},
     "output_type": "execute_result"
    }
   ],
   "source": [
    "b.swapcase()"
   ]
  },
  {
   "cell_type": "code",
   "execution_count": 4,
   "id": "7b807073-580d-40ef-b537-e285e45acb66",
   "metadata": {},
   "outputs": [
    {
     "data": {
      "text/plain": [
       "'hai how are you'"
      ]
     },
     "execution_count": 4,
     "metadata": {},
     "output_type": "execute_result"
    }
   ],
   "source": [
    "b='Hai how are you'\n",
    "b.casefold()"
   ]
  },
  {
   "cell_type": "code",
   "execution_count": 59,
   "id": "cd018306-09f4-4e61-81af-8fb67c452f04",
   "metadata": {},
   "outputs": [
    {
     "data": {
      "text/plain": [
       "'Hai How Are You'"
      ]
     },
     "execution_count": 59,
     "metadata": {},
     "output_type": "execute_result"
    }
   ],
   "source": [
    "b.title()"
   ]
  },
  {
   "cell_type": "code",
   "execution_count": 61,
   "id": "93c1b897-12f0-41de-af77-8ee6dc97f7d6",
   "metadata": {},
   "outputs": [
    {
     "data": {
      "text/plain": [
       "'Hai how are you'"
      ]
     },
     "execution_count": 61,
     "metadata": {},
     "output_type": "execute_result"
    }
   ],
   "source": [
    "b.capitalize()"
   ]
  },
  {
   "cell_type": "markdown",
   "id": "01aeea8e-a1b0-4f6a-a646-27e7bf9915af",
   "metadata": {},
   "source": [
    "**lower**"
   ]
  },
  {
   "cell_type": "code",
   "execution_count": 62,
   "id": "730533cb-900e-4eeb-b385-f2c62a9b3fa7",
   "metadata": {},
   "outputs": [
    {
     "name": "stdout",
     "output_type": "stream",
     "text": [
      "Help on built-in function lower:\n",
      "\n",
      "lower() method of builtins.str instance\n",
      "    Return a copy of the string converted to lowercase.\n",
      "\n"
     ]
    }
   ],
   "source": [
    "help(b.lower)"
   ]
  },
  {
   "cell_type": "code",
   "execution_count": 63,
   "id": "740262e1-3622-48fd-9728-953f4a8a483e",
   "metadata": {},
   "outputs": [
    {
     "data": {
      "text/plain": [
       "'hai how are you'"
      ]
     },
     "execution_count": 63,
     "metadata": {},
     "output_type": "execute_result"
    }
   ],
   "source": [
    "b.lower()"
   ]
  },
  {
   "cell_type": "markdown",
   "id": "3ef17d56-e8e9-4e30-923e-0643985582f0",
   "metadata": {},
   "source": [
    "**center**"
   ]
  },
  {
   "cell_type": "code",
   "execution_count": 64,
   "id": "d29f547a-ea9a-465a-9924-ab979572777a",
   "metadata": {
    "scrolled": true
   },
   "outputs": [
    {
     "ename": "TypeError",
     "evalue": "center expected at least 1 argument, got 0",
     "output_type": "error",
     "traceback": [
      "\u001b[1;31m---------------------------------------------------------------------------\u001b[0m",
      "\u001b[1;31mTypeError\u001b[0m                                 Traceback (most recent call last)",
      "Cell \u001b[1;32mIn[64], line 1\u001b[0m\n\u001b[1;32m----> 1\u001b[0m b\u001b[38;5;241m.\u001b[39mcenter()\n",
      "\u001b[1;31mTypeError\u001b[0m: center expected at least 1 argument, got 0"
     ]
    }
   ],
   "source": [
    "b.center()"
   ]
  },
  {
   "cell_type": "code",
   "execution_count": 66,
   "id": "521591be-ae54-423c-b744-18f9497818fd",
   "metadata": {
    "scrolled": true
   },
   "outputs": [
    {
     "data": {
      "text/plain": [
       "20"
      ]
     },
     "execution_count": 66,
     "metadata": {},
     "output_type": "execute_result"
    }
   ],
   "source": [
    "len(b.center(20))"
   ]
  },
  {
   "cell_type": "markdown",
   "id": "f10ff21a-467b-480a-815b-d296a74a3e0c",
   "metadata": {},
   "source": [
    "- center has two arguments\n",
    "    - width\n",
    "    - fill char\n",
    "- original string already = 15 letters\n",
    "- we want to create a new string with 20 letters\n",
    "- reamaining 5 letter by default empty\n",
    "- we can fill letters characters also"
   ]
  },
  {
   "cell_type": "code",
   "execution_count": 67,
   "id": "5b03b03a-1775-49f2-9fa3-6b5fc2cc39f8",
   "metadata": {},
   "outputs": [
    {
     "data": {
      "text/plain": [
       "'*****hai how are you******'"
      ]
     },
     "execution_count": 67,
     "metadata": {},
     "output_type": "execute_result"
    }
   ],
   "source": [
    "b.center(26,'*')"
   ]
  },
  {
   "cell_type": "code",
   "execution_count": null,
   "id": "951ed8b4-aed5-4f19-a375-a4231874e32d",
   "metadata": {},
   "outputs": [],
   "source": [
    "# str1='hai how are you'\n",
    "# output ='Hai How Are You'\n",
    "# without using any method\n",
    "# one more level : iterate each letter apply captilize\n",
    "# scratch : ord char"
   ]
  },
  {
   "cell_type": "code",
   "execution_count": 70,
   "id": "4e0d07a1-9f44-4050-8eba-05a86b2f8352",
   "metadata": {},
   "outputs": [
    {
     "data": {
      "text/plain": [
       "'//hai how are you///'"
      ]
     },
     "execution_count": 70,
     "metadata": {},
     "output_type": "execute_result"
    }
   ],
   "source": [
    "b.center(20,'/')"
   ]
  },
  {
   "cell_type": "code",
   "execution_count": 71,
   "id": "95cd203b-c61f-4661-88c2-3c2498c2ce90",
   "metadata": {},
   "outputs": [
    {
     "data": {
      "text/plain": [
       "<function str.center(width, fillchar=' ', /)>"
      ]
     },
     "execution_count": 71,
     "metadata": {},
     "output_type": "execute_result"
    }
   ],
   "source": [
    "b.center"
   ]
  },
  {
   "cell_type": "code",
   "execution_count": 72,
   "id": "93a1ae14-60c6-48e7-9de9-33ece7d925c0",
   "metadata": {},
   "outputs": [
    {
     "ename": "TypeError",
     "evalue": "center expected at least 1 argument, got 0",
     "output_type": "error",
     "traceback": [
      "\u001b[1;31m---------------------------------------------------------------------------\u001b[0m",
      "\u001b[1;31mTypeError\u001b[0m                                 Traceback (most recent call last)",
      "Cell \u001b[1;32mIn[72], line 1\u001b[0m\n\u001b[1;32m----> 1\u001b[0m b\u001b[38;5;241m.\u001b[39mcenter()\n",
      "\u001b[1;31mTypeError\u001b[0m: center expected at least 1 argument, got 0"
     ]
    }
   ],
   "source": [
    "b.center()"
   ]
  },
  {
   "cell_type": "code",
   "execution_count": 1,
   "id": "246e2360-c79e-4926-b902-ba164fac41a2",
   "metadata": {},
   "outputs": [
    {
     "name": "stdout",
     "output_type": "stream",
     "text": [
      "3\n"
     ]
    }
   ],
   "source": [
    "a='ola ola ola'\n",
    "print(a.count('ola'))"
   ]
  },
  {
   "cell_type": "code",
   "execution_count": null,
   "id": "4aeeeb5a-744a-408a-a549-1ce9ed53c1a9",
   "metadata": {},
   "outputs": [],
   "source": [
    "# Q 15) "
   ]
  },
  {
   "cell_type": "code",
   "execution_count": 10,
   "id": "a45b7c9b-d259-45bc-a5db-0d046bce2ceb",
   "metadata": {},
   "outputs": [
    {
     "ename": "TypeError",
     "evalue": "list indices must be integers or slices, not str",
     "output_type": "error",
     "traceback": [
      "\u001b[1;31m---------------------------------------------------------------------------\u001b[0m",
      "\u001b[1;31mTypeError\u001b[0m                                 Traceback (most recent call last)",
      "Cell \u001b[1;32mIn[10], line 5\u001b[0m\n\u001b[0;32m      3\u001b[0m c\u001b[38;5;241m=\u001b[39m[]\n\u001b[0;32m      4\u001b[0m \u001b[38;5;28;01mfor\u001b[39;00m i \u001b[38;5;129;01min\u001b[39;00m b:\n\u001b[1;32m----> 5\u001b[0m     c\u001b[38;5;241m.\u001b[39mappend((b\u001b[38;5;241m.\u001b[39mcount(b[i])))\n\u001b[0;32m      6\u001b[0m \u001b[38;5;28mprint\u001b[39m(\u001b[38;5;28mmax\u001b[39m(c))\n",
      "\u001b[1;31mTypeError\u001b[0m: list indices must be integers or slices, not str"
     ]
    }
   ],
   "source": [
    "a='hai hai hai hello hello hello hello how are you you you'\n",
    "b=a.split(' ')\n",
    "c=[]\n",
    "for i in b:\n",
    "    c.append((b.count(b[i])))\n",
    "print(max(c))\n"
   ]
  },
  {
   "cell_type": "code",
   "execution_count": 11,
   "id": "fcd9a049-5965-42a4-9d2f-71b9bd09231d",
   "metadata": {},
   "outputs": [],
   "source": [
    "# Q16) a='helloooo how areee u'\n",
    "# what is the maximum length of word ='hellooo\n",
    "# what is the minimun length of word ='u'"
   ]
  },
  {
   "cell_type": "code",
   "execution_count": 9,
   "id": "5a55555f-661f-4ac2-a103-319d39e1aaa0",
   "metadata": {},
   "outputs": [
    {
     "name": "stdout",
     "output_type": "stream",
     "text": [
      "helloooo = 8\n",
      "u = 1\n"
     ]
    }
   ],
   "source": [
    "a='helloooo how are u'\n",
    "b=a.split()\n",
    "c=9999\n",
    "d=0\n",
    "e,f='',''\n",
    "for i in b:\n",
    "    if len(i)<c:\n",
    "        e=i\n",
    "        c=len(i)\n",
    "    if len(i)>d:\n",
    "        f=i\n",
    "        d=len(i)\n",
    "print(f,'=',d)\n",
    "print(e,'=',c)\n",
    "    "
   ]
  },
  {
   "cell_type": "code",
   "execution_count": 25,
   "id": "add153cd-0531-45cb-8fc1-4f654241e354",
   "metadata": {},
   "outputs": [
    {
     "name": "stdout",
     "output_type": "stream",
     "text": [
      "['e', 'h', 'l', 'l', 'o']\n"
     ]
    }
   ],
   "source": [
    "a='hello'\n",
    "print(sorted(a))"
   ]
  },
  {
   "cell_type": "code",
   "execution_count": 28,
   "id": "ade6553a-ed2e-4d74-b29d-0091a54418c3",
   "metadata": {},
   "outputs": [
    {
     "name": "stdout",
     "output_type": "stream",
     "text": [
      "104\n",
      "101 104\n",
      "101 104 108\n",
      "101 104 108 108\n",
      "101 104 108 108 111\n"
     ]
    }
   ],
   "source": [
    "a='hello'\n",
    "b=[]\n",
    "for i in a:\n",
    "    b.append(ord(i))\n",
    "    b.sort()\n",
    "    print(*b)\n",
    "    #print(i,'=',ord(i))"
   ]
  },
  {
   "cell_type": "markdown",
   "id": "0b1626b4-b4b8-4b41-9c53-5acf03702cac",
   "metadata": {},
   "source": [
    "### COUNT"
   ]
  },
  {
   "cell_type": "code",
   "execution_count": 2,
   "id": "7461b38d-e869-4b42-83bd-dad853e6368f",
   "metadata": {},
   "outputs": [
    {
     "name": "stdout",
     "output_type": "stream",
     "text": [
      "2\n"
     ]
    }
   ],
   "source": [
    "a='HAI HOW ARE YOU'\n",
    "# how many 'a' s are there\n",
    "print(a.count('A'))"
   ]
  },
  {
   "cell_type": "code",
   "execution_count": 3,
   "id": "bfa3cd52-879d-47ec-ad3b-3874a0ddc5b7",
   "metadata": {},
   "outputs": [
    {
     "name": "stdout",
     "output_type": "stream",
     "text": [
      "2\n"
     ]
    }
   ],
   "source": [
    "a='hai how are you'\n",
    "c=0\n",
    "for i in a:\n",
    "    if i=='a':\n",
    "        c+=1\n",
    "print(c)"
   ]
  },
  {
   "cell_type": "code",
   "execution_count": 4,
   "id": "c56e0202-b146-4575-a939-ea8c14942eb2",
   "metadata": {},
   "outputs": [
    {
     "data": {
      "text/plain": [
       "3"
      ]
     },
     "execution_count": 4,
     "metadata": {},
     "output_type": "execute_result"
    }
   ],
   "source": [
    "a='hai hai hai'\n",
    "a.count('a')"
   ]
  },
  {
   "cell_type": "markdown",
   "id": "5195f043-a078-432e-854f-8b16c5ee3aa0",
   "metadata": {},
   "source": [
    "- we want number of a from a specific index\n",
    "- we want number of a between two indexes"
   ]
  },
  {
   "cell_type": "code",
   "execution_count": 5,
   "id": "fb7eccc0-e986-4b6a-9f23-f008a16b4b12",
   "metadata": {},
   "outputs": [
    {
     "data": {
      "text/plain": [
       "2"
      ]
     },
     "execution_count": 5,
     "metadata": {},
     "output_type": "execute_result"
    }
   ],
   "source": [
    "a='hai hai hai'\n",
    "a.count('a')  # all the 'a'\n",
    "a.count('a',5)  # 5 is the index value"
   ]
  },
  {
   "cell_type": "code",
   "execution_count": 6,
   "id": "4ad0e7de-5217-47e3-871b-6314174f5e89",
   "metadata": {},
   "outputs": [
    {
     "data": {
      "text/plain": [
       "2"
      ]
     },
     "execution_count": 6,
     "metadata": {},
     "output_type": "execute_result"
    }
   ],
   "source": [
    "a.count('a',3)\n",
    "# we are searching number of 'a' from index 3"
   ]
  },
  {
   "cell_type": "code",
   "execution_count": 9,
   "id": "ed3c9397-3932-4207-9bbe-545b93ccc7b4",
   "metadata": {},
   "outputs": [
    {
     "name": "stdout",
     "output_type": "stream",
     "text": [
      "3\n",
      "2\n",
      "1\n"
     ]
    }
   ],
   "source": [
    "## we want number of a between two indexes\n",
    "\n",
    "a='hai hai hai'\n",
    "print(a.count('a'))  # all the 'a'\n",
    "print(a.count('a',5))  # 5 is the index value\n",
    "print(a.count('a',4,8)) #we are searching a from index=4 to index=8"
   ]
  },
  {
   "cell_type": "markdown",
   "id": "5ce3e269-d51f-4877-9b43-fac23a1e1caf",
   "metadata": {},
   "source": [
    "### reversse"
   ]
  },
  {
   "cell_type": "code",
   "execution_count": 10,
   "id": "c835bcf1-bb08-4893-aa0a-51eb50d2efe7",
   "metadata": {},
   "outputs": [
    {
     "name": "stdout",
     "output_type": "stream",
     "text": [
      "3\n",
      "2\n",
      "0\n"
     ]
    }
   ],
   "source": [
    "## we want number of a between two indexes\n",
    "\n",
    "a='hai hai hai'\n",
    "print(a.count('a'))  # all the 'a'\n",
    "print(a.count('a',5))  # 5 is the index value\n",
    "print(a.count('a',len(a),0)) #we are searching a from index=4 to index=8"
   ]
  },
  {
   "cell_type": "code",
   "execution_count": 11,
   "id": "c32f2f56-b92b-44d6-88bd-4b4d6e6ea2bd",
   "metadata": {},
   "outputs": [
    {
     "name": "stdout",
     "output_type": "stream",
     "text": [
      "0\n"
     ]
    }
   ],
   "source": [
    "a='hai hai hai'\n",
    "print(a.count('a',-5,-3))"
   ]
  },
  {
   "cell_type": "code",
   "execution_count": 12,
   "id": "1df5362c-b021-49f3-b9aa-7f7dde9ec61b",
   "metadata": {},
   "outputs": [
    {
     "name": "stdout",
     "output_type": "stream",
     "text": [
      "1\n"
     ]
    }
   ],
   "source": [
    "a='hai hai hai'\n",
    "print(a.count('a',-5,-1))"
   ]
  },
  {
   "cell_type": "code",
   "execution_count": 16,
   "id": "34efde75-8a93-4a54-9ffc-67790883370b",
   "metadata": {},
   "outputs": [
    {
     "name": "stdout",
     "output_type": "stream",
     "text": [
      "3\n"
     ]
    }
   ],
   "source": [
    "a='ola ola ola'\n",
    "b=a.split(' ')\n",
    "c=0\n",
    "for i in b:\n",
    "    c+=1\n",
    "print(c)"
   ]
  },
  {
   "cell_type": "code",
   "execution_count": 19,
   "id": "149c2fb0-5367-4aaf-a05a-478328b0184f",
   "metadata": {},
   "outputs": [
    {
     "name": "stdout",
     "output_type": "stream",
     "text": [
      "3\n"
     ]
    }
   ],
   "source": [
    "a='ola ola ola'\n",
    "b=0\n",
    "for i in range(len(a)):\n",
    "    if a[i:i+3]=='ola':\n",
    "        b+=1\n",
    "print(b)\n"
   ]
  },
  {
   "cell_type": "markdown",
   "id": "18b0db0b-7391-4c05-91ba-2d7a0abfc70e",
   "metadata": {},
   "source": [
    "### window method"
   ]
  },
  {
   "cell_type": "code",
   "execution_count": 20,
   "id": "58f03b18-4a42-4f7e-9bfc-2a7a2aa19d05",
   "metadata": {},
   "outputs": [
    {
     "name": "stdout",
     "output_type": "stream",
     "text": [
      "3\n"
     ]
    }
   ],
   "source": [
    "a='ola ola ola'\n",
    "b=0\n",
    "for i in range(len(a)):\n",
    "    if a[i:i+3]=='ola':\n",
    "        b+=1\n",
    "print(b)\n",
    "\n",
    "# step1 = c=0 , i=0 , a[0:3]=='ola' , True c=1\n",
    "# step2 = c=1 , i=1 , a[1:4]=='ola', false c==1"
   ]
  },
  {
   "cell_type": "code",
   "execution_count": 23,
   "id": "82bccbcf-371e-44cf-b0f5-d67587794651",
   "metadata": {},
   "outputs": [
    {
     "name": "stdout",
     "output_type": "stream",
     "text": [
      "1\n"
     ]
    }
   ],
   "source": [
    "a='ola ola ola'\n",
    "print(a.count('ola ola'))"
   ]
  },
  {
   "cell_type": "code",
   "execution_count": 24,
   "id": "1c9cffbe-bb7b-4534-912a-9c4996139a06",
   "metadata": {},
   "outputs": [
    {
     "name": "stdout",
     "output_type": "stream",
     "text": [
      "1\n"
     ]
    }
   ],
   "source": [
    "a='ola ola ola'\n",
    "print(a.count(a))"
   ]
  },
  {
   "cell_type": "code",
   "execution_count": 26,
   "id": "92ae8a7b-cd2e-4ac2-aa3f-dccf201a00f8",
   "metadata": {},
   "outputs": [
    {
     "data": {
      "text/plain": [
       "0"
      ]
     },
     "execution_count": 26,
     "metadata": {},
     "output_type": "execute_result"
    }
   ],
   "source": [
    "a.count('z')\n",
    "# no answer\n",
    "# 0\n",
    "# error"
   ]
  },
  {
   "cell_type": "markdown",
   "id": "64efe589-b6fe-4d34-aa85-1e0bcb48932b",
   "metadata": {},
   "source": [
    "### replace"
   ]
  },
  {
   "cell_type": "code",
   "execution_count": 29,
   "id": "1df2b668-66d5-4fa7-95f3-39e9900ec532",
   "metadata": {},
   "outputs": [
    {
     "data": {
      "text/plain": [
       "'nzresh'"
      ]
     },
     "execution_count": 29,
     "metadata": {},
     "output_type": "execute_result"
    }
   ],
   "source": [
    "a='naresh'\n",
    "a.replace('a','z')"
   ]
  },
  {
   "cell_type": "code",
   "execution_count": 31,
   "id": "f1704925-3d32-4445-8074-ba0ff3c8c712",
   "metadata": {},
   "outputs": [
    {
     "name": "stdout",
     "output_type": "stream",
     "text": [
      "welcome\n"
     ]
    }
   ],
   "source": [
    "a='welcome'\n",
    "for i in a:\n",
    "    if i=='l':\n",
    "        i='L'\n",
    "print(a)"
   ]
  },
  {
   "cell_type": "code",
   "execution_count": null,
   "id": "52368590-8518-46f7-9024-08935cfef08c",
   "metadata": {},
   "outputs": [],
   "source": [
    "# we know that strigs are immutable\n",
    "we can not use index operations also\n",
    "slice and concatenation\n",
    "divide welcome = we come\n",
    "s1='we'\n",
    "s2='come'\n",
    "s1+'L'+s2"
   ]
  },
  {
   "cell_type": "code",
   "execution_count": 10,
   "id": "6075a1e4-528a-4af4-88fa-eac4be246fb2",
   "metadata": {},
   "outputs": [
    {
     "ename": "IndexError",
     "evalue": "string index out of range",
     "output_type": "error",
     "traceback": [
      "\u001b[1;31m---------------------------------------------------------------------------\u001b[0m",
      "\u001b[1;31mIndexError\u001b[0m                                Traceback (most recent call last)",
      "Cell \u001b[1;32mIn[10], line 5\u001b[0m\n\u001b[0;32m      3\u001b[0m c\u001b[38;5;241m=\u001b[39m[]\n\u001b[0;32m      4\u001b[0m \u001b[38;5;28;01mfor\u001b[39;00m i \u001b[38;5;129;01min\u001b[39;00m \u001b[38;5;28mrange\u001b[39m(\u001b[38;5;28mlen\u001b[39m(a)):\n\u001b[1;32m----> 5\u001b[0m     \u001b[38;5;28;01mif\u001b[39;00m a[i\u001b[38;5;241m+\u001b[39m\u001b[38;5;241m1\u001b[39m]\u001b[38;5;241m==\u001b[39m\u001b[38;5;124m'\u001b[39m\u001b[38;5;124mwe\u001b[39m\u001b[38;5;124m'\u001b[39m:\n\u001b[0;32m      6\u001b[0m         b\u001b[38;5;241m.\u001b[39mappend(i)\n\u001b[0;32m      7\u001b[0m     \u001b[38;5;28;01melse\u001b[39;00m:\n",
      "\u001b[1;31mIndexError\u001b[0m: string index out of range"
     ]
    }
   ],
   "source": [
    "a='welcome'\n",
    "b=[]\n",
    "c=[]\n",
    "for i in range(len(a)):\n",
    "    if a[i+1]=='we':\n",
    "        b.append(i)\n",
    "    else:\n",
    "        c.append(i)\n",
    "print(*b,'L',*c)"
   ]
  },
  {
   "cell_type": "code",
   "execution_count": 12,
   "id": "faac305e-c843-4ae2-9eed-f8a923e93143",
   "metadata": {},
   "outputs": [
    {
     "name": "stdout",
     "output_type": "stream",
     "text": [
      "weLcome\n"
     ]
    }
   ],
   "source": [
    "a='welcome'\n",
    "n=a.index('l')\n",
    "b=a[0:n]\n",
    "c=a[n+1:]\n",
    "print(b+'L'+c)"
   ]
  },
  {
   "cell_type": "code",
   "execution_count": 35,
   "id": "ca987d3a-7448-4916-903a-57a4cbd88393",
   "metadata": {},
   "outputs": [
    {
     "data": {
      "text/plain": [
       "'L'"
      ]
     },
     "execution_count": 35,
     "metadata": {},
     "output_type": "execute_result"
    }
   ],
   "source": [
    "chr(ord('l')-32)"
   ]
  },
  {
   "cell_type": "code",
   "execution_count": 36,
   "id": "4ea2c28b-6f0c-4f30-b980-c8fa835d111c",
   "metadata": {},
   "outputs": [
    {
     "data": {
      "text/plain": [
       "'weLcome'"
      ]
     },
     "execution_count": 36,
     "metadata": {},
     "output_type": "execute_result"
    }
   ],
   "source": [
    "a='welcome'\n",
    "a.replace('l','L')"
   ]
  },
  {
   "cell_type": "code",
   "execution_count": 37,
   "id": "b4341bcd-d37d-456c-a159-a50868e1ef04",
   "metadata": {},
   "outputs": [
    {
     "data": {
      "text/plain": [
       "108"
      ]
     },
     "execution_count": 37,
     "metadata": {},
     "output_type": "execute_result"
    }
   ],
   "source": [
    "ord('l')"
   ]
  },
  {
   "cell_type": "code",
   "execution_count": 38,
   "id": "3157e92d-c984-474c-868d-310a449c0526",
   "metadata": {},
   "outputs": [
    {
     "data": {
      "text/plain": [
       "'weLLcome'"
      ]
     },
     "execution_count": 38,
     "metadata": {},
     "output_type": "execute_result"
    }
   ],
   "source": [
    "a='wellcome'\n",
    "a.replace('l','L')"
   ]
  },
  {
   "cell_type": "code",
   "execution_count": 42,
   "id": "7787e1d7-3d2f-4ef8-92e0-dc6ed657d3fd",
   "metadata": {},
   "outputs": [
    {
     "data": {
      "text/plain": [
       "'weLlcome'"
      ]
     },
     "execution_count": 42,
     "metadata": {},
     "output_type": "execute_result"
    }
   ],
   "source": [
    "a='wellcome'\n",
    "a.replace('l','L',1)"
   ]
  },
  {
   "cell_type": "markdown",
   "id": "fd776e91-9a8f-4874-ad75-cf72e79165f9",
   "metadata": {},
   "source": [
    "- by default replace will change all the occurences\n",
    "- count= -1 is responisible for that\n",
    "- which means we cann provide some count also which how many how many i wnat to change\n",
    "- give welllcome and change count=1 and count=2 explore"
   ]
  },
  {
   "cell_type": "code",
   "execution_count": 43,
   "id": "a188bea6-cbc6-4c2c-ac71-383ee83c0332",
   "metadata": {},
   "outputs": [
    {
     "data": {
      "text/plain": [
       "'weLllcome'"
      ]
     },
     "execution_count": 43,
     "metadata": {},
     "output_type": "execute_result"
    }
   ],
   "source": [
    "a='welllcome'\n",
    "a.replace('l','L',1)  # old='l', new='L' count=1\n",
    "\n",
    "# when we write count=1\n",
    "# it will change only one letter\n",
    "# that to first occurance"
   ]
  },
  {
   "cell_type": "code",
   "execution_count": 44,
   "id": "54683904-b10d-4dc8-8bd9-f14ca54691f5",
   "metadata": {},
   "outputs": [
    {
     "data": {
      "text/plain": [
       "'weLLlcome'"
      ]
     },
     "execution_count": 44,
     "metadata": {},
     "output_type": "execute_result"
    }
   ],
   "source": [
    "a='welllcome'\n",
    "a.replace('l','L',2)  # old='l', new='L' count=2"
   ]
  },
  {
   "cell_type": "code",
   "execution_count": 60,
   "id": "bf02b281-6937-4677-bd41-c8943836323a",
   "metadata": {},
   "outputs": [
    {
     "name": "stdout",
     "output_type": "stream",
     "text": [
      "resta$t\n"
     ]
    }
   ],
   "source": [
    "# str='restart'\n",
    "#output= 'resta$t'\n",
    "# 2nd r should be replaced\n",
    "a='restart'\n",
    "b=a[0:2]\n",
    "c=a[2:]\n",
    "d=c.replace('r','$')\n",
    "print(b+d)"
   ]
  },
  {
   "cell_type": "code",
   "execution_count": 61,
   "id": "30b47613-a525-4395-8714-6cba647e6dc4",
   "metadata": {},
   "outputs": [
    {
     "name": "stdout",
     "output_type": "stream",
     "text": [
      "resta$t\n"
     ]
    }
   ],
   "source": [
    "a='restart'  # this case problem\n",
    "b=a[::-1]\n",
    "c=b.replace('r','$',1)\n",
    "print(c[::-1])"
   ]
  },
  {
   "cell_type": "code",
   "execution_count": 62,
   "id": "23bd262e-5264-49e6-b561-51989d4e82c6",
   "metadata": {},
   "outputs": [
    {
     "data": {
      "text/plain": [
       "'resta$t'"
      ]
     },
     "execution_count": 62,
     "metadata": {},
     "output_type": "execute_result"
    }
   ],
   "source": [
    "a='restart'\n",
    "a[::-1].replace('r','$',1)[::-1]"
   ]
  },
  {
   "cell_type": "markdown",
   "id": "3d912d58-36dc-43f5-a1a6-82e461afbf4a",
   "metadata": {},
   "source": [
    "### index and find methods"
   ]
  },
  {
   "cell_type": "code",
   "execution_count": 63,
   "id": "14b4f3d6-452b-4f04-9e01-12b7744416f3",
   "metadata": {},
   "outputs": [
    {
     "data": {
      "text/plain": [
       "['__add__',\n",
       " '__class__',\n",
       " '__contains__',\n",
       " '__delattr__',\n",
       " '__dir__',\n",
       " '__doc__',\n",
       " '__eq__',\n",
       " '__format__',\n",
       " '__ge__',\n",
       " '__getattribute__',\n",
       " '__getitem__',\n",
       " '__getnewargs__',\n",
       " '__getstate__',\n",
       " '__gt__',\n",
       " '__hash__',\n",
       " '__init__',\n",
       " '__init_subclass__',\n",
       " '__iter__',\n",
       " '__le__',\n",
       " '__len__',\n",
       " '__lt__',\n",
       " '__mod__',\n",
       " '__mul__',\n",
       " '__ne__',\n",
       " '__new__',\n",
       " '__reduce__',\n",
       " '__reduce_ex__',\n",
       " '__repr__',\n",
       " '__rmod__',\n",
       " '__rmul__',\n",
       " '__setattr__',\n",
       " '__sizeof__',\n",
       " '__str__',\n",
       " '__subclasshook__',\n",
       " 'capitalize',\n",
       " 'casefold',\n",
       " 'center',\n",
       " 'count',\n",
       " 'encode',\n",
       " 'endswith',\n",
       " 'expandtabs',\n",
       " 'find',\n",
       " 'format',\n",
       " 'format_map',\n",
       " 'index',\n",
       " 'isalnum',\n",
       " 'isalpha',\n",
       " 'isascii',\n",
       " 'isdecimal',\n",
       " 'isdigit',\n",
       " 'isidentifier',\n",
       " 'islower',\n",
       " 'isnumeric',\n",
       " 'isprintable',\n",
       " 'isspace',\n",
       " 'istitle',\n",
       " 'isupper',\n",
       " 'join',\n",
       " 'ljust',\n",
       " 'lower',\n",
       " 'lstrip',\n",
       " 'maketrans',\n",
       " 'partition',\n",
       " 'removeprefix',\n",
       " 'removesuffix',\n",
       " 'replace',\n",
       " 'rfind',\n",
       " 'rindex',\n",
       " 'rjust',\n",
       " 'rpartition',\n",
       " 'rsplit',\n",
       " 'rstrip',\n",
       " 'split',\n",
       " 'splitlines',\n",
       " 'startswith',\n",
       " 'strip',\n",
       " 'swapcase',\n",
       " 'title',\n",
       " 'translate',\n",
       " 'upper',\n",
       " 'zfill']"
      ]
     },
     "execution_count": 63,
     "metadata": {},
     "output_type": "execute_result"
    }
   ],
   "source": [
    "dir('')"
   ]
  },
  {
   "cell_type": "code",
   "execution_count": 73,
   "id": "ecf1f75b-fd6e-4a32-b5da-258cffa0c69d",
   "metadata": {},
   "outputs": [
    {
     "ename": "NameError",
     "evalue": "name 'isnumeric' is not defined",
     "output_type": "error",
     "traceback": [
      "\u001b[1;31m---------------------------------------------------------------------------\u001b[0m",
      "\u001b[1;31mNameError\u001b[0m                                 Traceback (most recent call last)",
      "Cell \u001b[1;32mIn[73], line 1\u001b[0m\n\u001b[1;32m----> 1\u001b[0m isnumeric(\u001b[38;5;241m123\u001b[39m)\n",
      "\u001b[1;31mNameError\u001b[0m: name 'isnumeric' is not defined"
     ]
    }
   ],
   "source": [
    "isnumeric(123)"
   ]
  },
  {
   "cell_type": "code",
   "execution_count": 72,
   "id": "37b5c395-b880-4e97-bab9-b2a1fd725eac",
   "metadata": {},
   "outputs": [
    {
     "data": {
      "text/plain": [
       "True"
      ]
     },
     "execution_count": 72,
     "metadata": {},
     "output_type": "execute_result"
    }
   ],
   "source": [
    "a='vi'\n",
    "a.isalpha()"
   ]
  },
  {
   "cell_type": "code",
   "execution_count": 74,
   "id": "9d889d55-f712-4079-9ec8-aa62ce9b08c3",
   "metadata": {},
   "outputs": [
    {
     "data": {
      "text/plain": [
       "True"
      ]
     },
     "execution_count": 74,
     "metadata": {},
     "output_type": "execute_result"
    }
   ],
   "source": [
    "a='123'\n",
    "a.isnumeric()"
   ]
  },
  {
   "cell_type": "code",
   "execution_count": 75,
   "id": "e725f45f-9e61-4bc6-b971-7f769a4a0518",
   "metadata": {},
   "outputs": [
    {
     "data": {
      "text/plain": [
       "True"
      ]
     },
     "execution_count": 75,
     "metadata": {},
     "output_type": "execute_result"
    }
   ],
   "source": [
    "a='123'\n",
    "a.isalnum()"
   ]
  },
  {
   "cell_type": "code",
   "execution_count": 77,
   "id": "e009e025-3073-4bb4-aff6-d9eff938b16e",
   "metadata": {},
   "outputs": [
    {
     "ename": "NameError",
     "evalue": "name 'isalnum' is not defined",
     "output_type": "error",
     "traceback": [
      "\u001b[1;31m---------------------------------------------------------------------------\u001b[0m",
      "\u001b[1;31mNameError\u001b[0m                                 Traceback (most recent call last)",
      "Cell \u001b[1;32mIn[77], line 1\u001b[0m\n\u001b[1;32m----> 1\u001b[0m isalnum(\u001b[38;5;241m123\u001b[39m)\n",
      "\u001b[1;31mNameError\u001b[0m: name 'isalnum' is not defined"
     ]
    }
   ],
   "source": [
    "isalnum(123)"
   ]
  },
  {
   "cell_type": "markdown",
   "id": "51c8ce39-9d7b-4d54-aadf-c5741b4e7d6e",
   "metadata": {},
   "source": [
    "### index and find"
   ]
  },
  {
   "cell_type": "markdown",
   "id": "5f30fdae-197c-4a7b-9eb5-85e7550ab06b",
   "metadata": {},
   "source": [
    "***index***\n",
    "- index says that it will give the index of any letter in a given string\n",
    "- we already seen about count = count will give how many letters are there in strings\n",
    "    - at what index you want to count\n",
    "    - between tndexes also we can count the letter\n",
    "- indexs meanning it will provide the index\n",
    "- imagine that there same letters repaeated\n",
    "- how can we find the next index"
   ]
  },
  {
   "cell_type": "code",
   "execution_count": 2,
   "id": "b34fe078-69ad-4410-b2e2-0672aac0b5ed",
   "metadata": {},
   "outputs": [
    {
     "data": {
      "text/plain": [
       "1"
      ]
     },
     "execution_count": 2,
     "metadata": {},
     "output_type": "execute_result"
    }
   ],
   "source": [
    "a='hai hai hai'\n",
    "a.index('a') \n",
    "#a.count()"
   ]
  },
  {
   "cell_type": "code",
   "execution_count": null,
   "id": "f19e7cdf-a29d-4a8e-b070-1c3c8092ffaa",
   "metadata": {},
   "outputs": [],
   "source": [
    "-11 -10  -9 -8 -7 -6 -5 -4 -3   -2  -1\n",
    "h   a    i    h   a    i    h    a    i\n",
    "0   1    2  3 4   5    6  7  8   9    10"
   ]
  },
  {
   "cell_type": "code",
   "execution_count": 7,
   "id": "8e773c1e-4149-4f57-8341-ea8f821c1e46",
   "metadata": {},
   "outputs": [
    {
     "data": {
      "text/plain": [
       "1"
      ]
     },
     "execution_count": 7,
     "metadata": {},
     "output_type": "execute_result"
    }
   ],
   "source": [
    "a='hai hai hai'\n",
    "a.index('a')  # among all the indexes the lowest index is '1'"
   ]
  },
  {
   "cell_type": "code",
   "execution_count": 3,
   "id": "d815d48d-ef43-4943-be2e-5f970708e463",
   "metadata": {},
   "outputs": [
    {
     "data": {
      "text/plain": [
       "5"
      ]
     },
     "execution_count": 3,
     "metadata": {},
     "output_type": "execute_result"
    }
   ],
   "source": [
    "# i wnat to know next a index after 3rd index\n",
    "a='hai hai hai'\n",
    "a.index('a',3)   # after 3rd index the lowerst index is 5"
   ]
  },
  {
   "cell_type": "code",
   "execution_count": 14,
   "id": "c46021b6-93d0-4783-952d-0e903abfe954",
   "metadata": {},
   "outputs": [
    {
     "data": {
      "text/plain": [
       "5"
      ]
     },
     "execution_count": 14,
     "metadata": {},
     "output_type": "execute_result"
    }
   ],
   "source": [
    "# i wnat to know 'a' btween  3rdindex and 7thindex\n",
    "a='hai hai hai'\n",
    "a.index('a',3,7) # between 3-7 index the lowest index is only 5"
   ]
  },
  {
   "cell_type": "code",
   "execution_count": 12,
   "id": "72f03452-fdf8-42e5-8324-8f4abce30bc9",
   "metadata": {},
   "outputs": [
    {
     "data": {
      "text/plain": [
       "9"
      ]
     },
     "execution_count": 12,
     "metadata": {},
     "output_type": "execute_result"
    }
   ],
   "source": [
    "a.index('a',-3)"
   ]
  },
  {
   "cell_type": "code",
   "execution_count": 13,
   "id": "f024bd92-73f2-4c7f-b820-c48006beaaaf",
   "metadata": {},
   "outputs": [
    {
     "data": {
      "text/plain": [
       "1"
      ]
     },
     "execution_count": 13,
     "metadata": {},
     "output_type": "execute_result"
    }
   ],
   "source": [
    "a.index('a',-10,-1)"
   ]
  },
  {
   "cell_type": "code",
   "execution_count": 15,
   "id": "c4926129-1a64-4aa0-987c-516c04c08c74",
   "metadata": {},
   "outputs": [
    {
     "ename": "ValueError",
     "evalue": "substring not found",
     "output_type": "error",
     "traceback": [
      "\u001b[1;31m---------------------------------------------------------------------------\u001b[0m",
      "\u001b[1;31mValueError\u001b[0m                                Traceback (most recent call last)",
      "Cell \u001b[1;32mIn[15], line 1\u001b[0m\n\u001b[1;32m----> 1\u001b[0m a\u001b[38;5;241m.\u001b[39mindex(\u001b[38;5;124m'\u001b[39m\u001b[38;5;124ma\u001b[39m\u001b[38;5;124m'\u001b[39m,\u001b[38;5;241m-\u001b[39m\u001b[38;5;241m2\u001b[39m,\u001b[38;5;241m-\u001b[39m\u001b[38;5;241m5\u001b[39m)\n",
      "\u001b[1;31mValueError\u001b[0m: substring not found"
     ]
    }
   ],
   "source": [
    "a.index('a',-2,-5)"
   ]
  },
  {
   "cell_type": "code",
   "execution_count": 16,
   "id": "4b9e2da9-ba7f-4f61-8ec2-6a7a729de45f",
   "metadata": {},
   "outputs": [
    {
     "data": {
      "text/plain": [
       "5"
      ]
     },
     "execution_count": 16,
     "metadata": {},
     "output_type": "execute_result"
    }
   ],
   "source": [
    "a.index('a',-9,-4)"
   ]
  },
  {
   "cell_type": "code",
   "execution_count": 17,
   "id": "0786d721-61e0-40a8-a798-869a38f7476b",
   "metadata": {},
   "outputs": [
    {
     "data": {
      "text/plain": [
       "9"
      ]
     },
     "execution_count": 17,
     "metadata": {},
     "output_type": "execute_result"
    }
   ],
   "source": [
    "a.index('a',9,10)"
   ]
  },
  {
   "cell_type": "code",
   "execution_count": 18,
   "id": "e608457c-23fc-4081-8442-65fd7435d54a",
   "metadata": {},
   "outputs": [
    {
     "data": {
      "text/plain": [
       "3"
      ]
     },
     "execution_count": 18,
     "metadata": {},
     "output_type": "execute_result"
    }
   ],
   "source": [
    "a.count('a')"
   ]
  },
  {
   "cell_type": "code",
   "execution_count": 19,
   "id": "6cc31791-0ed1-41f5-b79c-8f5dcd3f2599",
   "metadata": {},
   "outputs": [
    {
     "data": {
      "text/plain": [
       "2"
      ]
     },
     "execution_count": 19,
     "metadata": {},
     "output_type": "execute_result"
    }
   ],
   "source": [
    "a.count('a',3,10)"
   ]
  },
  {
   "cell_type": "code",
   "execution_count": 21,
   "id": "2d52597b-ddda-4ad5-adc3-a1b77887e3d5",
   "metadata": {},
   "outputs": [
    {
     "name": "stdout",
     "output_type": "stream",
     "text": [
      "3\n",
      "2\n",
      "1\n",
      "1\n",
      "5\n",
      "9\n"
     ]
    }
   ],
   "source": [
    "# -11 -10  -9 -8 -7 -6 -5 -4 -3   -2  -1\n",
    "# h   a    i    h   a    i    h    a    i\n",
    "# 0   1    2  3 4   5    6  7  8   9    10\n",
    "\n",
    "b='hai hai hai'\n",
    "print(b.count('a'))\n",
    "print(b.count('a',3))\n",
    "print(b.count('a',7,10))\n",
    "print(b.index('a'))\n",
    "print(b.index('a',3))\n",
    "print(b.index('a',7,10))\n"
   ]
  },
  {
   "cell_type": "code",
   "execution_count": 24,
   "id": "ae1dd6e6-942e-4c2e-b10c-2745af89aed9",
   "metadata": {},
   "outputs": [
    {
     "name": "stdout",
     "output_type": "stream",
     "text": [
      "1\n",
      "5\n",
      "9\n"
     ]
    }
   ],
   "source": [
    "a='hai hai hai'\n",
    "# i want to know all the indexes of 'a'\n",
    "for i in range(len(a)):\n",
    "    if a[i]=='a':\n",
    "        print(i)"
   ]
  },
  {
   "cell_type": "code",
   "execution_count": 26,
   "id": "7b1dcd93-8f07-421b-bf49-3e6e6872d481",
   "metadata": {},
   "outputs": [
    {
     "name": "stdout",
     "output_type": "stream",
     "text": [
      "1\n",
      "5\n",
      "9\n"
     ]
    }
   ],
   "source": [
    "a='hai hai hai'\n",
    "b=a.index('a')\n",
    "print(b)\n",
    "c=a.index('a',2)\n",
    "print(c)\n",
    "d=a.index('a',6)\n",
    "print(d)"
   ]
  },
  {
   "cell_type": "code",
   "execution_count": 29,
   "id": "48ddaea2-2a1d-4c12-b669-4c254f54ad37",
   "metadata": {},
   "outputs": [
    {
     "name": "stdout",
     "output_type": "stream",
     "text": [
      "1\n",
      "5\n",
      "9\n",
      "13\n"
     ]
    }
   ],
   "source": [
    "a='hai hai hai hai'\n",
    "b=a.index('a')\n",
    "print(b)\n",
    "c=a.index('a',b+1)\n",
    "print(c)\n",
    "d=a.index('a',c+1)\n",
    "print(d)\n",
    "e=a.index('a',d+1)\n",
    "print(e)"
   ]
  },
  {
   "cell_type": "code",
   "execution_count": 37,
   "id": "d22112b1-4048-4a3b-aba0-0319c21a750c",
   "metadata": {},
   "outputs": [
    {
     "name": "stdout",
     "output_type": "stream",
     "text": [
      "1\n",
      "5\n",
      "9\n",
      "13\n"
     ]
    }
   ],
   "source": [
    "a='hai hai hai hai'\n",
    "for i in range(len(a)):\n",
    "    if a[i]=='a':\n",
    "        print(i)"
   ]
  },
  {
   "cell_type": "code",
   "execution_count": 52,
   "id": "ab3fa118-8508-4614-b25a-c0fd52b2d356",
   "metadata": {},
   "outputs": [
    {
     "name": "stdout",
     "output_type": "stream",
     "text": [
      "5\n",
      "9\n"
     ]
    },
    {
     "ename": "ValueError",
     "evalue": "substring not found",
     "output_type": "error",
     "traceback": [
      "\u001b[1;31m---------------------------------------------------------------------------\u001b[0m",
      "\u001b[1;31mValueError\u001b[0m                                Traceback (most recent call last)",
      "Cell \u001b[1;32mIn[52], line 6\u001b[0m\n\u001b[0;32m      4\u001b[0m \u001b[38;5;28;01mif\u001b[39;00m a[i]\u001b[38;5;241m==\u001b[39m\u001b[38;5;124m'\u001b[39m\u001b[38;5;124ma\u001b[39m\u001b[38;5;124m'\u001b[39m:\n\u001b[0;32m      5\u001b[0m     b\u001b[38;5;241m+\u001b[39m\u001b[38;5;241m=\u001b[39mi\n\u001b[1;32m----> 6\u001b[0m     \u001b[38;5;28mprint\u001b[39m(a\u001b[38;5;241m.\u001b[39mindex(a[i],b\u001b[38;5;241m+\u001b[39m\u001b[38;5;241m1\u001b[39m))\n",
      "\u001b[1;31mValueError\u001b[0m: substring not found"
     ]
    }
   ],
   "source": [
    "a='hai hai hai hai'\n",
    "b=0\n",
    "for i in range(len(a)):\n",
    "    if a[i]=='a':\n",
    "        b+=i\n",
    "        print(a.index(a[i],b+1))\n",
    "        "
   ]
  },
  {
   "cell_type": "markdown",
   "id": "50fe65f3-7727-4fab-ad77-26b3b5844e89",
   "metadata": {},
   "source": [
    "### find"
   ]
  },
  {
   "cell_type": "code",
   "execution_count": 40,
   "id": "dacbabdc-300f-4a11-a729-6fe8b0771337",
   "metadata": {},
   "outputs": [
    {
     "name": "stdout",
     "output_type": "stream",
     "text": [
      "5\n"
     ]
    }
   ],
   "source": [
    "a='hai hai hai hai'\n",
    "print(a.find('a',4))"
   ]
  },
  {
   "cell_type": "code",
   "execution_count": 42,
   "id": "552e2a55-99aa-4e10-9f97-2c6509d240be",
   "metadata": {},
   "outputs": [
    {
     "name": "stdout",
     "output_type": "stream",
     "text": [
      "5\n"
     ]
    }
   ],
   "source": [
    "a='hai hai hai hai'\n",
    "print(a.find('a',4,10))"
   ]
  },
  {
   "cell_type": "code",
   "execution_count": 43,
   "id": "b3f09fdc-0d0f-4cfd-856b-c88405b52708",
   "metadata": {},
   "outputs": [
    {
     "name": "stdout",
     "output_type": "stream",
     "text": [
      "9\n"
     ]
    }
   ],
   "source": [
    "a='hai hai hai hai'\n",
    "print(a.find('a',9,11))"
   ]
  },
  {
   "cell_type": "code",
   "execution_count": 45,
   "id": "4c96bea5-c4fb-4f4e-8c8f-bf4021ad5e97",
   "metadata": {},
   "outputs": [
    {
     "data": {
      "text/plain": [
       "3"
      ]
     },
     "execution_count": 45,
     "metadata": {},
     "output_type": "execute_result"
    }
   ],
   "source": [
    "a.find(' ')"
   ]
  },
  {
   "cell_type": "code",
   "execution_count": null,
   "id": "80fe116c-1002-43d2-9102-6b59d12ca6a9",
   "metadata": {},
   "outputs": [],
   "source": [
    "a.index()\n",
    "a.find()"
   ]
  },
  {
   "cell_type": "code",
   "execution_count": 53,
   "id": "1379379c-d9b6-486f-bca8-27ee5476e5b3",
   "metadata": {},
   "outputs": [
    {
     "data": {
      "text/plain": [
       "0"
      ]
     },
     "execution_count": 53,
     "metadata": {},
     "output_type": "execute_result"
    }
   ],
   "source": [
    "a='hai hai hai'\n",
    "a.count('z')"
   ]
  },
  {
   "cell_type": "code",
   "execution_count": 55,
   "id": "cb71ad90-2be1-4d0c-b5de-ea90c46204f8",
   "metadata": {},
   "outputs": [
    {
     "data": {
      "text/plain": [
       "'hai hai hai'"
      ]
     },
     "execution_count": 55,
     "metadata": {},
     "output_type": "execute_result"
    }
   ],
   "source": [
    "a.replace('x','X')"
   ]
  },
  {
   "cell_type": "markdown",
   "id": "62102d41-5a25-4fe2-a853-b13c1e3bc8a5",
   "metadata": {},
   "source": [
    "- count will give if substring not found count method will give 0\n",
    "- replace method will give original string'\n",
    "- index will give ***substring not found error***\n",
    "- find will give -1"
   ]
  },
  {
   "cell_type": "code",
   "execution_count": 70,
   "id": "1cb89584-516e-4752-9027-78538c9947c1",
   "metadata": {},
   "outputs": [
    {
     "name": "stdout",
     "output_type": "stream",
     "text": [
      "first name = omkar\n",
      "last name = nallagoni\n",
      "company name = cognizant\n"
     ]
    }
   ],
   "source": [
    "a='omkar.nallagoni@cognizant.com'\n",
    "# first name =omkar\n",
    "# second name = nallagoni\n",
    "# company = coginagant\n",
    "#b='virat.kohli@rcb.com'\n",
    "#c='rohit.sharma@mi.com\n",
    "\n",
    "# idea\n",
    "# for 1st name = slpit .\n",
    "# 2nd triger ponint = split(. and @)\n",
    "# 3rd trigger point = @ and .\n",
    "\n",
    "a='omkar.nallagoni@cognizant.com'\n",
    "b=a.find('.')\n",
    "c=a.find('@',b)\n",
    "d=a.find('.',c)\n",
    "print('first name =',a[0:b])\n",
    "print('last name =',(a[b+1:c]))\n",
    "print('company name =',a[c+1:d])\n"
   ]
  },
  {
   "cell_type": "code",
   "execution_count": 71,
   "id": "dfe79490-68b0-49b1-bd60-14377408c0d4",
   "metadata": {},
   "outputs": [
    {
     "name": "stdout",
     "output_type": "stream",
     "text": [
      "first name = virat\n",
      "last name = kohli\n",
      "company name = rcb\n"
     ]
    }
   ],
   "source": [
    "a='virat.kohli@rcb.com'\n",
    "b=a.find('.')\n",
    "c=a.find('@',b)\n",
    "d=a.find('.',c)\n",
    "print('first name =',a[0:b])\n",
    "print('last name =',(a[b+1:c]))\n",
    "print('company name =',a[c+1:d])\n"
   ]
  },
  {
   "cell_type": "code",
   "execution_count": 74,
   "id": "9eec4b99-b17a-427e-ae71-c27dc1751927",
   "metadata": {},
   "outputs": [
    {
     "data": {
      "text/plain": [
       "('virat', 'kohli', 'rcb')"
      ]
     },
     "execution_count": 74,
     "metadata": {},
     "output_type": "execute_result"
    }
   ],
   "source": [
    "a='virat.kohli@rcb.com'\n",
    "i1=a.index('.')\n",
    "i2=a.index('@')\n",
    "i3=a.index('.',i1+1)\n",
    "first_name=a[:i1]\n",
    "second_name=a[i1+1:i2]\n",
    "cname=a[i2+1:i3]\n",
    "first_name,second_name,cname"
   ]
  },
  {
   "cell_type": "code",
   "execution_count": null,
   "id": "9c1485bf-0586-48e0-9cb7-63b13df375da",
   "metadata": {},
   "outputs": [],
   "source": [
    "a=['hai,how are u']"
   ]
  }
 ],
 "metadata": {
  "kernelspec": {
   "display_name": "Python 3 (ipykernel)",
   "language": "python",
   "name": "python3"
  },
  "language_info": {
   "codemirror_mode": {
    "name": "ipython",
    "version": 3
   },
   "file_extension": ".py",
   "mimetype": "text/x-python",
   "name": "python",
   "nbconvert_exporter": "python",
   "pygments_lexer": "ipython3",
   "version": "3.11.7"
  },
  "widgets": {
   "application/vnd.jupyter.widget-state+json": {
    "state": {},
    "version_major": 2,
    "version_minor": 0
   }
  }
 },
 "nbformat": 4,
 "nbformat_minor": 5
}
