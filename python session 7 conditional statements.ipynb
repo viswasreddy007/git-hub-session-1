{
 "cells": [
  {
   "cell_type": "markdown",
   "id": "5f7d7ec9-981a-446b-86c0-c5bc0c0aac0e",
   "metadata": {},
   "source": [
    "# conditional statements"
   ]
  },
  {
   "cell_type": "markdown",
   "id": "84b8f02d-7bbe-41b1-aa8d-658681c4ea18",
   "metadata": {},
   "source": [
    "- if conditional statements\n",
    "- elif conditional statements\n",
    "- else conditional statements"
   ]
  },
  {
   "cell_type": "markdown",
   "id": "2cddc2b0-9223-47a4-a9bf-a5a3bd010e29",
   "metadata": {},
   "source": [
    "### sytnatx of * if *"
   ]
  },
  {
   "cell_type": "code",
   "execution_count": null,
   "id": "7d8897b6-d27a-472f-9136-ea367d224a93",
   "metadata": {},
   "outputs": [],
   "source": [
    "if <condition>:\n",
    "    <codeline1>\n",
    "    <codeline2>\n",
    "    "
   ]
  },
  {
   "cell_type": "markdown",
   "id": "c21f95d3-1b26-479e-8dfb-2ef83411bf38",
   "metadata": {},
   "source": [
    "- whwever any line starts with keyword(green) at the end of the line\n",
    "- whenever we have  colon the next line starts with some gaps\n",
    "- this gap is called as indendation\n",
    "- how many lines we are maintaing gap(indendation) that will are uder one area\n",
    "  "
   ]
  },
  {
   "cell_type": "markdown",
   "id": "5bd0ddc6-69f3-4bdd-b6b5-bcf059c50401",
   "metadata": {},
   "source": [
    "- if is a conditional statements,it will check the condition is true or false\n",
    "- if the condition will ture or false inside the if area .\n",
    "- if the condition will fails it will not enter inside the if area\n",
    "- it will not excute those code lines\n"
   ]
  },
  {
   "cell_type": "code",
   "execution_count": 3,
   "id": "1d85b2ef-5bd1-4c0d-a587-ccb4c5b3b75c",
   "metadata": {},
   "outputs": [
    {
     "data": {
      "text/plain": [
       "True"
      ]
     },
     "execution_count": 3,
     "metadata": {},
     "output_type": "execute_result"
    }
   ],
   "source": [
    "100>10"
   ]
  },
  {
   "cell_type": "code",
   "execution_count": 4,
   "id": "1477f662-57aa-4a79-84a1-11f162abc428",
   "metadata": {},
   "outputs": [
    {
     "name": "stdout",
     "output_type": "stream",
     "text": [
      "no\n"
     ]
    }
   ],
   "source": [
    "if 10>100:\n",
    "    print('yes')\n",
    "else:\n",
    "    print('no')"
   ]
  },
  {
   "cell_type": "code",
   "execution_count": 14,
   "id": "db582edb-3f9a-48e6-9220-b5fd406e3304",
   "metadata": {},
   "outputs": [
    {
     "name": "stdout",
     "output_type": "stream",
     "text": [
      "yes\n"
     ]
    }
   ],
   "source": [
    "if 100>67:\n",
    "    print('yes')\n"
   ]
  },
  {
   "cell_type": "markdown",
   "id": "d0b8d5aa-ed7a-43f4-8a91-cbc613767937",
   "metadata": {},
   "source": [
    "# **mistakes in conditional statements**"
   ]
  },
  {
   "cell_type": "markdown",
   "id": "908d4694-bd85-4905-94e9-75484490011c",
   "metadata": {},
   "source": [
    "- 1) **indentation** requires 4 spaces that is equal to 1 tap space\n",
    "- 2) use back space upto colon and enter button enter\n",
    "- 3) people will not give **colon(:) missing**\n",
    "- 4) if will expect a **condtion**\n",
    "- 5) **missing parantheses**  put the brackets in code\n",
    "- 6) never assign a vairable to a **print statement** , print we are using to see the answer\n",
    "- 7) all types of **syntax errors** that might be **gaps** and **spelling miskakes** "
   ]
  },
  {
   "cell_type": "code",
   "execution_count": 16,
   "id": "d389f8ee-2602-447b-9f30-7e97b75d809c",
   "metadata": {},
   "outputs": [
    {
     "name": "stdout",
     "output_type": "stream",
     "text": [
      "good\n",
      "morning\n"
     ]
    }
   ],
   "source": [
    "if 100>10:\n",
    "    print('good')\n",
    "    print('morning')"
   ]
  },
  {
   "cell_type": "code",
   "execution_count": 18,
   "id": "a05d3054-1212-4854-921d-569668fa049b",
   "metadata": {},
   "outputs": [
    {
     "name": "stdout",
     "output_type": "stream",
     "text": [
      "hello\n",
      "good morning\n",
      "okay\n",
      "bye\n"
     ]
    }
   ],
   "source": [
    "if 100>10:\n",
    "    print('hello')\n",
    "    print('good morning')\n",
    "print('okay')\n",
    "print('bye')"
   ]
  },
  {
   "cell_type": "markdown",
   "id": "7a4c60f9-16d9-4b96-be50-36584a547b01",
   "metadata": {},
   "source": [
    "- step1 if 100>10 if true\n",
    "- step2 : hello\n",
    "- step3 : good morning\n",
    "- step4 : okay\n",
    "- step5 : bye"
   ]
  },
  {
   "cell_type": "code",
   "execution_count": 20,
   "id": "e96b11fc-a7af-4212-a1b3-fecf869c85e0",
   "metadata": {},
   "outputs": [
    {
     "name": "stdout",
     "output_type": "stream",
     "text": [
      "10\n",
      "20\n",
      "hello\n",
      "good morning\n",
      "okay\n",
      "bye\n"
     ]
    }
   ],
   "source": [
    "print(10)\n",
    "print(20)\n",
    "#####################################\n",
    "if 100>12:\n",
    "    print('hello')\n",
    "    print('good morning')\n",
    "#######################################\n",
    "print('okay')\n",
    "print('bye')"
   ]
  },
  {
   "cell_type": "code",
   "execution_count": 21,
   "id": "9ea16530-1734-4174-bbe7-c5e7b3b0c0eb",
   "metadata": {},
   "outputs": [
    {
     "name": "stdout",
     "output_type": "stream",
     "text": [
      "10\n",
      "20\n",
      "hello\n",
      "good morning\n",
      "okay\n",
      "bye\n"
     ]
    }
   ],
   "source": [
    "print(10)\n",
    "print(20)\n",
    "#####################################\n",
    "if True:\n",
    "    print('hello')\n",
    "    print('good morning')\n",
    "#######################################\n",
    "print('okay')\n",
    "print('bye')"
   ]
  },
  {
   "cell_type": "code",
   "execution_count": 22,
   "id": "9805d815-1689-4912-bbf2-0aeee95027dd",
   "metadata": {},
   "outputs": [
    {
     "name": "stdout",
     "output_type": "stream",
     "text": [
      "10\n",
      "20\n",
      "okay\n",
      "bye\n"
     ]
    }
   ],
   "source": [
    "print(10)\n",
    "print(20)\n",
    "#####################################\n",
    "if 100<12:\n",
    "    print('hello')\n",
    "    print('good morning')\n",
    "#######################################\n",
    "print('okay')\n",
    "print('bye')"
   ]
  },
  {
   "cell_type": "code",
   "execution_count": 23,
   "id": "6736a837-6b16-44b1-8998-e7d9f63a8617",
   "metadata": {},
   "outputs": [
    {
     "name": "stdout",
     "output_type": "stream",
     "text": [
      "10\n",
      "20\n",
      "hello\n",
      "good morning\n",
      "okay\n",
      "bye\n"
     ]
    }
   ],
   "source": [
    "print(10)\n",
    "print(20)\n",
    "#####################################\n",
    "if 100:\n",
    "    print('hello')\n",
    "    print('good morning')\n",
    "#######################################\n",
    "print('okay')\n",
    "print('bye')"
   ]
  },
  {
   "cell_type": "code",
   "execution_count": 24,
   "id": "ce19c5c2-5b9e-40b5-938d-39052353db69",
   "metadata": {},
   "outputs": [
    {
     "data": {
      "text/plain": [
       "True"
      ]
     },
     "execution_count": 24,
     "metadata": {},
     "output_type": "execute_result"
    }
   ],
   "source": [
    "bool(100)"
   ]
  },
  {
   "cell_type": "code",
   "execution_count": 25,
   "id": "3f6fe0a1-af41-49b7-9d66-3e139cb3567b",
   "metadata": {},
   "outputs": [
    {
     "name": "stdout",
     "output_type": "stream",
     "text": [
      "10\n",
      "20\n",
      "okay\n",
      "bye\n"
     ]
    }
   ],
   "source": [
    "print(10)\n",
    "print(20)\n",
    "#####################################\n",
    "if 0:\n",
    "    print('hello')\n",
    "    print('good morning')\n",
    "#######################################\n",
    "print('okay')\n",
    "print('bye')"
   ]
  },
  {
   "cell_type": "code",
   "execution_count": 26,
   "id": "3b5e1567-255d-4ce3-9723-a1bc247065e3",
   "metadata": {},
   "outputs": [
    {
     "data": {
      "text/plain": [
       "False"
      ]
     },
     "execution_count": 26,
     "metadata": {},
     "output_type": "execute_result"
    }
   ],
   "source": [
    "bool(0)"
   ]
  },
  {
   "cell_type": "code",
   "execution_count": 27,
   "id": "f60ec060-b286-471a-b325-35936af41ddf",
   "metadata": {},
   "outputs": [
    {
     "data": {
      "text/plain": [
       "True"
      ]
     },
     "execution_count": 27,
     "metadata": {},
     "output_type": "execute_result"
    }
   ],
   "source": [
    "bool(1)"
   ]
  },
  {
   "cell_type": "code",
   "execution_count": 28,
   "id": "8a146350-08c8-44f4-86f3-4f682f0b5550",
   "metadata": {},
   "outputs": [
    {
     "name": "stdout",
     "output_type": "stream",
     "text": [
      "10\n",
      "20\n",
      "hello\n",
      "good morning\n",
      "okay\n",
      "bye\n"
     ]
    }
   ],
   "source": [
    "print(10)\n",
    "print(20)\n",
    "#####################################\n",
    "if 'hello':\n",
    "    print('hello')\n",
    "    print('good morning')\n",
    "#######################################\n",
    "print('okay')\n",
    "print('bye')"
   ]
  },
  {
   "cell_type": "code",
   "execution_count": 32,
   "id": "82b12830-534b-4aac-9d8e-04998f3e9964",
   "metadata": {},
   "outputs": [
    {
     "data": {
      "text/plain": [
       "True"
      ]
     },
     "execution_count": 32,
     "metadata": {},
     "output_type": "execute_result"
    }
   ],
   "source": [
    "bool('hello')"
   ]
  },
  {
   "cell_type": "code",
   "execution_count": 30,
   "id": "d5288b12-1b19-4cb8-96b2-baaac2b8c17a",
   "metadata": {},
   "outputs": [
    {
     "name": "stdout",
     "output_type": "stream",
     "text": [
      "10\n",
      "20\n",
      "okay\n",
      "bye\n"
     ]
    }
   ],
   "source": [
    "print(10)\n",
    "print(20)\n",
    "#####################################\n",
    "if '':\n",
    "    print('hello')\n",
    "    print('good morning')\n",
    "#######################################\n",
    "print('okay')\n",
    "print('bye')"
   ]
  },
  {
   "cell_type": "code",
   "execution_count": 31,
   "id": "f2c78eaa-1277-4406-9dff-6602c5a916b2",
   "metadata": {},
   "outputs": [
    {
     "data": {
      "text/plain": [
       "False"
      ]
     },
     "execution_count": 31,
     "metadata": {},
     "output_type": "execute_result"
    }
   ],
   "source": [
    "bool('')"
   ]
  },
  {
   "cell_type": "code",
   "execution_count": 33,
   "id": "a7a1f73b-035a-47ca-9305-1e0db843e458",
   "metadata": {},
   "outputs": [
    {
     "name": "stdout",
     "output_type": "stream",
     "text": [
      "10\n",
      "20\n",
      "hello\n",
      "good morning\n",
      "okay\n",
      "bye\n"
     ]
    }
   ],
   "source": [
    "print(10)\n",
    "print(20)\n",
    "#####################################\n",
    "if _:\n",
    "    print('hello')\n",
    "    print('good morning')\n",
    "#######################################\n",
    "print('okay')\n",
    "print('bye')"
   ]
  },
  {
   "cell_type": "markdown",
   "id": "bdc1a6cb-e086-4e86-bb43-c47afda35997",
   "metadata": {},
   "source": [
    "- underscore also working\n",
    "- numbers will work\n",
    "- string will work\n",
    "- less than 0 it will give false\n",
    "- '' empty space is false"
   ]
  },
  {
   "cell_type": "markdown",
   "id": "a86adc5d-264f-4418-bab4-dfd767adc79e",
   "metadata": {},
   "source": [
    "# if and else"
   ]
  },
  {
   "cell_type": "markdown",
   "id": "60b22a91-4491-4a04-a0c5-7c03ae02325d",
   "metadata": {},
   "source": [
    "- if requires condition\n",
    "- if condition true it will  execute if b;ock and otherwise directly go to the else block\n"
   ]
  },
  {
   "cell_type": "markdown",
   "id": "7d93c4b0-8e07-4e18-9f6a-66cce4bcb61d",
   "metadata": {},
   "source": [
    "## syntax"
   ]
  },
  {
   "cell_type": "code",
   "execution_count": null,
   "id": "03e08823-678f-49b9-a552-1d4328e8b9eb",
   "metadata": {},
   "outputs": [],
   "source": [
    "if <condition>:\n",
    "    <code line>\n",
    "else:\n",
    "    <code line>\n",
    "        "
   ]
  },
  {
   "cell_type": "code",
   "execution_count": 37,
   "id": "d4945d3c-e9bb-4e39-afc4-fc07b1323e0e",
   "metadata": {},
   "outputs": [
    {
     "name": "stdout",
     "output_type": "stream",
     "text": [
      "10 is less number than 29\n"
     ]
    }
   ],
   "source": [
    "a=10\n",
    "b=29\n",
    "if a>b:\n",
    "    print(a,'is big number','than',b)\n",
    "else:\n",
    "    print(a,'is less number','than',b)"
   ]
  },
  {
   "cell_type": "code",
   "execution_count": 38,
   "id": "d84e6f37-2170-43ea-a7a4-562ce324d7ea",
   "metadata": {},
   "outputs": [
    {
     "ename": "SyntaxError",
     "evalue": "invalid syntax (3242067603.py, line 6)",
     "output_type": "error",
     "traceback": [
      "\u001b[1;36m  Cell \u001b[1;32mIn[38], line 6\u001b[1;36m\u001b[0m\n\u001b[1;33m    else:\u001b[0m\n\u001b[1;37m    ^\u001b[0m\n\u001b[1;31mSyntaxError\u001b[0m\u001b[1;31m:\u001b[0m invalid syntax\n"
     ]
    }
   ],
   "source": [
    "a=10\n",
    "b=29\n",
    "if a>b:\n",
    "    print(a,'is big number','than',b)\n",
    "print('why are you in middle')\n",
    "else:\n",
    "    print(a,'is less number','than',b)"
   ]
  },
  {
   "cell_type": "markdown",
   "id": "0185aec6-0f4c-4e19-8f74-54f8aaf8c13d",
   "metadata": {},
   "source": [
    "- there is no any thing in between if and else the if and else are joined"
   ]
  },
  {
   "cell_type": "code",
   "execution_count": 42,
   "id": "54474370-f91e-4601-a936-68a1aaa7885f",
   "metadata": {},
   "outputs": [
    {
     "name": "stdout",
     "output_type": "stream",
     "text": [
      "10\n",
      "0\n",
      "10\n",
      "0.0\n"
     ]
    },
    {
     "ename": "ZeroDivisionError",
     "evalue": "division by zero",
     "output_type": "error",
     "traceback": [
      "\u001b[1;31m---------------------------------------------------------------------------\u001b[0m",
      "\u001b[1;31mZeroDivisionError\u001b[0m                         Traceback (most recent call last)",
      "Cell \u001b[1;32mIn[42], line 10\u001b[0m\n\u001b[0;32m      8\u001b[0m d\u001b[38;5;241m=\u001b[39mb\u001b[38;5;241m/\u001b[39ma    \u001b[38;5;66;03m#0/10=0\u001b[39;00m\n\u001b[0;32m      9\u001b[0m \u001b[38;5;28mprint\u001b[39m(d)\n\u001b[1;32m---> 10\u001b[0m e\u001b[38;5;241m=\u001b[39ma\u001b[38;5;241m/\u001b[39mb   \u001b[38;5;66;03m#10/0= any number divided by 0 is means error ** zerodivision erroer\u001b[39;00m\n\u001b[0;32m     11\u001b[0m \u001b[38;5;28mprint\u001b[39m(e)\n",
      "\u001b[1;31mZeroDivisionError\u001b[0m: division by zero"
     ]
    }
   ],
   "source": [
    "if True:\n",
    "    a=10\n",
    "    b=0\n",
    "    print(a) #10\n",
    "    print(b) #0\n",
    "    c=a+b    #10\n",
    "    print(c)  \n",
    "    d=b/a    #0/10=0\n",
    "    print(d)\n",
    "    e=a/b   #10/0= any number divided by 0 is means error ** zerodivision erroer\n",
    "    print(e)"
   ]
  },
  {
   "cell_type": "code",
   "execution_count": 43,
   "id": "e5aa22b0-68ee-45ca-a21e-caae1a0caa47",
   "metadata": {},
   "outputs": [
    {
     "data": {
      "text/plain": [
       "1.25"
      ]
     },
     "execution_count": 43,
     "metadata": {},
     "output_type": "execute_result"
    }
   ],
   "source": [
    "5/4  #normal  divison\n"
   ]
  },
  {
   "cell_type": "code",
   "execution_count": 44,
   "id": "995b06c5-cdca-4969-9a52-1db3a515c75d",
   "metadata": {},
   "outputs": [
    {
     "data": {
      "text/plain": [
       "1"
      ]
     },
     "execution_count": 44,
     "metadata": {},
     "output_type": "execute_result"
    }
   ],
   "source": [
    "5//4    #floor division"
   ]
  },
  {
   "cell_type": "code",
   "execution_count": 46,
   "id": "3f5ca43b-c282-4345-b385-f46d82264a58",
   "metadata": {},
   "outputs": [
    {
     "data": {
      "text/plain": [
       "1"
      ]
     },
     "execution_count": 46,
     "metadata": {},
     "output_type": "execute_result"
    }
   ],
   "source": [
    "5%4    #modules operator for remainder value"
   ]
  },
  {
   "cell_type": "markdown",
   "id": "317f76b7-8444-45d3-b863-38e528578757",
   "metadata": {},
   "source": [
    "**write a programs ask the user enter a number find it its an even numbe or odd number**`\n",
    "- $idea = any number divided by 2 the remainder =0 it is called as even number$"
   ]
  },
  {
   "cell_type": "code",
   "execution_count": 3,
   "id": "56d56e34-6c7f-49cd-ac78-d7001a2dbdda",
   "metadata": {},
   "outputs": [
    {
     "name": "stdout",
     "output_type": "stream",
     "text": [
      "6 is an EVEN number\n"
     ]
    }
   ],
   "source": [
    "import random\n",
    "a=random.randint(1,10)\n",
    "if a>=0:\n",
    "    if a%2==0:\n",
    "        print(a,'is an EVEN number')\n",
    "    else:\n",
    "        print(a,'is an ODD number')\n",
    "else:\n",
    "    print('it is an negative number')"
   ]
  },
  {
   "cell_type": "code",
   "execution_count": 5,
   "id": "bc15f161-8540-44ca-8e60-cd2689217aac",
   "metadata": {},
   "outputs": [
    {
     "name": "stdin",
     "output_type": "stream",
     "text": [
      "enter the start value 5\n",
      "enter the last value 15\n"
     ]
    },
    {
     "name": "stdout",
     "output_type": "stream",
     "text": [
      "6 is an EVEN number\n"
     ]
    }
   ],
   "source": [
    "import random\n",
    "start=eval(input('enter the start value'))\n",
    "end=eval(input('enter the last value'))\n",
    "a=random.randint(start,end)find \n",
    "if a>=0:\n",
    "    if a%2==0:\n",
    "        print(a,'is an EVEN number')\n",
    "    else:\n",
    "        print(a,'is an ODD number')\n",
    "else:\n",
    "    print('it is an negative number')"
   ]
  },
  {
   "cell_type": "markdown",
   "id": "2ee72bfd-055e-44e0-a189-ee5ced28834d",
   "metadata": {},
   "source": [
    "- we are providing values means it is **hard coded**\n",
    "   \n",
    "- code should be always generic , without hard coding"
   ]
  },
  {
   "cell_type": "code",
   "execution_count": null,
   "id": "ecd596da-4ea3-4bce-9b26-b71f83304c5c",
   "metadata": {},
   "outputs": [],
   "source": [
    "- write a progma e"
   ]
  },
  {
   "cell_type": "code",
   "execution_count": 6,
   "id": "c3766dfa-8a41-49c3-aa84-a1d19b5d262b",
   "metadata": {},
   "outputs": [
    {
     "name": "stdin",
     "output_type": "stream",
     "text": [
      "enter the distance = 45\n"
     ]
    },
    {
     "name": "stdout",
     "output_type": "stream",
     "text": [
      "total cost = 1125\n"
     ]
    }
   ],
   "source": [
    "a=eval(input('enter the distance ='))\n",
    "if a>25:\n",
    "    charge=eval(input('enter the charge value =,)\n",
    "    print('total cost =',a*charge)\n",
    "else:\n",
    "    print('free ride')"
   ]
  },
  {
   "cell_type": "code",
   "execution_count": 14,
   "id": "c668f8cc-9fb0-49ad-9536-4f190dcb9a6d",
   "metadata": {},
   "outputs": [
    {
     "name": "stdin",
     "output_type": "stream",
     "text": [
      "enter the distance 50\n",
      "enter the cutoff distance value = 5\n"
     ]
    },
    {
     "name": "stdout",
     "output_type": "stream",
     "text": [
      "good news your charge is applicable for only remaining of 45\n"
     ]
    },
    {
     "name": "stdin",
     "output_type": "stream",
     "text": [
      "enter the charge = 5\n"
     ]
    },
    {
     "name": "stdout",
     "output_type": "stream",
     "text": [
      "the total charge in rupees = 225\n"
     ]
    }
   ],
   "source": [
    "a=eval(input('enter the distance'))\n",
    "cutoff=eval(input('enter the cutoff distance value ='))\n",
    "if a>cutoff:\n",
    "    print('good news your charge is applicable for only remaining of',a-cutoff)\n",
    "    chargeable=a-cutoff\n",
    "    charge=eval(input('enter the charge ='))\n",
    "    print('the total charge in rupees =',chargeable*charge)\n",
    "else:\n",
    "    print('free ride')"
   ]
  },
  {
   "cell_type": "code",
   "execution_count": 17,
   "id": "0adec792-948c-4c23-b5ca-988802a3bf1a",
   "metadata": {},
   "outputs": [
    {
     "name": "stdin",
     "output_type": "stream",
     "text": [
      "enter the institute name = naresh it\n",
      "enter the course name = data science\n"
     ]
    },
    {
     "name": "stdout",
     "output_type": "stream",
     "text": [
      "you are good\n"
     ]
    }
   ],
   "source": [
    "a=input('enter the institute name =')\n",
    "b=input('enter the course name =')\n",
    "if (a=='naresh it' and b=='data science'):\n",
    "    print('you are good')\n",
    "else:\n",
    "    print('you are bad')\n"
   ]
  },
  {
   "cell_type": "markdown",
   "id": "dd63ce77-2566-4ed5-b89e-19314eb76a8c",
   "metadata": {},
   "source": [
    "- enter the course name and also user enter the institute name \n",
    "- if course equal to data scinece and insitiute equal to naresh it\n",
    "- the you are good otherwise you are bad "
   ]
  },
  {
   "cell_type": "markdown",
   "id": "70897730-d908-42c1-b8be-d59ce5a3ad64",
   "metadata": {},
   "source": [
    "- **AND(&&) means two conditions need to satisfy**\n",
    "- **OR(||) means any one condition enough to satisfy**\n",
    "- **EVAL==evaluate == math family**\n",
    "- "
   ]
  },
  {
   "cell_type": "markdown",
   "id": "507be4c9-f9cd-4c36-8572-8799c1c6d5b6",
   "metadata": {},
   "source": [
    "### ques\n",
    "- enter the random in between"
   ]
  },
  {
   "cell_type": "code",
   "execution_count": 21,
   "id": "df8c2b16-a27d-4a37-a5da-e80f7446072d",
   "metadata": {},
   "outputs": [
    {
     "name": "stdout",
     "output_type": "stream",
     "text": [
      "enter the number1 = 3\n"
     ]
    },
    {
     "name": "stdin",
     "output_type": "stream",
     "text": [
      "enter the number2 = 3\n"
     ]
    },
    {
     "name": "stdout",
     "output_type": "stream",
     "text": [
      "you WON\n"
     ]
    }
   ],
   "source": [
    "import random\n",
    "a=random.randint(1,10)\n",
    "print('enter the number1 =',a)\n",
    "b=eval(input('enter the number2 ='))\n",
    "if a==b:\n",
    "    print('you WON')\n",
    "else:\n",
    "    print('you LOST')\n",
    "       \n"
   ]
  },
  {
   "cell_type": "markdown",
   "id": "03d23e82-0e7a-44d1-b436-7dd402993ed7",
   "metadata": {},
   "source": [
    "***if and elif and else***\n",
    "- till now we see one codition problem whitch means if that condition is true we will get one ansewer if the codition is false than we will get another aniswer\n",
    "- how about if we have more than 2 coditions\n",
    "- in that codition we use if and elif and else\n",
    "- 2 condtions means 3 results\n",
    "- gerenally if has condition and elif has 2nd condition if both are false than the result in else"
   ]
  },
  {
   "cell_type": "code",
   "execution_count": null,
   "id": "e9e2e7ab-8e40-41d8-94db-f49eca3b7c3e",
   "metadata": {},
   "outputs": [],
   "source": [
    "if <condition>:\n",
    "    <statements>\n",
    "elif <condition>:\n",
    "    <statement>\n",
    "else:\n",
    "    <statement>\n",
    "\n",
    "\n",
    "if-else(1)\n",
    "if-elif-else(2)\n",
    "if-elif-elif-else"
   ]
  },
  {
   "cell_type": "code",
   "execution_count": 26,
   "id": "dffdbb35-0d40-4007-805d-7e987a9da915",
   "metadata": {},
   "outputs": [
    {
     "name": "stdin",
     "output_type": "stream",
     "text": [
      "enter the number = 4\n"
     ]
    },
    {
     "name": "stdout",
     "output_type": "stream",
     "text": [
      "four\n"
     ]
    }
   ],
   "source": [
    "# ask the user enter number\n",
    "# if num is equal to 1 print one\n",
    "# if num is equal to 2 print two\n",
    "# if num is equal to 3 print three\n",
    "# if num is equal to 4 print four\n",
    "\n",
    "a=eval(input('enter the number ='))\n",
    "if a==1:\n",
    "    print('one')\n",
    "elif a==2:\n",
    "    print('two')\n",
    "elif a==3:\n",
    "    print('three')\n",
    "elif a==4:\n",
    "    print('four')\n",
    "else:\n",
    "    print(' enter a valid numbeer')"
   ]
  },
  {
   "cell_type": "code",
   "execution_count": 28,
   "id": "2941fc8b-6d12-4398-916e-3b01d98e95f8",
   "metadata": {},
   "outputs": [
    {
     "name": "stdin",
     "output_type": "stream",
     "text": [
      "enter the number = 5\n"
     ]
    },
    {
     "name": "stdout",
     "output_type": "stream",
     "text": [
      " enter a valid numbeer\n"
     ]
    }
   ],
   "source": [
    "a=eval(input('enter the number ='))\n",
    "if a==1:print('one')\n",
    "elif a==2:print('two')\n",
    "elif a==3:print('three')\n",
    "elif a==4:print('four')\n",
    "else:print(' enter a valid numbeer')"
   ]
  },
  {
   "cell_type": "code",
   "execution_count": 33,
   "id": "c8bc8696-6c68-47de-b48a-5f6b17f46d74",
   "metadata": {},
   "outputs": [
    {
     "name": "stdin",
     "output_type": "stream",
     "text": [
      "enter the number = 5\n"
     ]
    },
    {
     "name": "stdout",
     "output_type": "stream",
     "text": [
      "postitive\n"
     ]
    }
   ],
   "source": [
    "# write an program also user ente a number if that number greater than 0 print positive \n",
    "# if that number less than 0 print negivite \n",
    "# otherwise print 0\n",
    "\n",
    "a=eval(input('enter the number ='))\n",
    "if a<100:\n",
    "    if a<0:\n",
    "        print('negative')\n",
    "    elif a>0:\n",
    "        print('postitive')\n",
    "else:\n",
    "    print(0)"
   ]
  },
  {
   "cell_type": "code",
   "execution_count": 36,
   "id": "af59cc8b-8f1c-4e80-ae81-7365b1872904",
   "metadata": {},
   "outputs": [
    {
     "name": "stdin",
     "output_type": "stream",
     "text": [
      "enter the marks 85\n"
     ]
    },
    {
     "name": "stdout",
     "output_type": "stream",
     "text": [
      "A GRADE\n"
     ]
    }
   ],
   "source": [
    "# write a program also user enter th percentage of marks if percentage greater than 90 print A GRADE\n",
    "# if per between 75 to 90 print b grade\n",
    "# if per between 50 to 75 print c grdae\n",
    "# if per between 35 to 50 print d grade\n",
    "# otherwise print fail\n",
    "\n",
    "a=eval(input('enter the marks'))\n",
    "if a>75 and a<90:print('A GRADE')\n",
    "elif a>50 and a<75:print('B GRADE')\n",
    "elif a>35 and a<50:print('C GRADE')\n",
    "else:print('FAIL')"
   ]
  },
  {
   "cell_type": "code",
   "execution_count": 41,
   "id": "6506e218-7992-45ca-a94f-54b50e524ae9",
   "metadata": {},
   "outputs": [
    {
     "name": "stdin",
     "output_type": "stream",
     "text": [
      "enter the marks between 0 to 100 = 54\n"
     ]
    },
    {
     "name": "stdout",
     "output_type": "stream",
     "text": [
      "C GRADE\n"
     ]
    }
   ],
   "source": [
    "a=eval(input('enter the marks between 0 to 100 ='))\n",
    "if a>=0 and a<=100:\n",
    "    if a>90:print('A GRADE')\n",
    "    elif a>75:print('B GRADE')\n",
    "    elif a>50:print('C GRADE')\n",
    "    elif a>35:print('D GRADE')\n",
    "    else:print('FAIL')\n",
    "else:\n",
    "    print('enter the valid marks')"
   ]
  },
  {
   "cell_type": "code",
   "execution_count": 3,
   "id": "cd2d9b4d-56b7-4540-80ed-a70865ba4182",
   "metadata": {},
   "outputs": [
    {
     "name": "stdin",
     "output_type": "stream",
     "text": [
      "enter the age =  95\n"
     ]
    },
    {
     "name": "stdout",
     "output_type": "stream",
     "text": [
      "old man\n"
     ]
    }
   ],
   "source": [
    "# program of the user enter the age \n",
    "# age greater than 75 print oldage\n",
    "# age gratee then 50 to 75 print senoir citezen\n",
    "# age between 30 to 50 to print middle age\n",
    "# age betw 15 to 30 print young age\n",
    "# else print kid\n",
    "\n",
    "a=eval(input('enter the age = '))\n",
    "if a>75:print('old man')\n",
    "elif a>50:print('senior citizen')\n",
    "elif a>30:print('middle age')\n",
    "elif a>15:print('young age')\n",
    "else:print('kid')"
   ]
  },
  {
   "cell_type": "code",
   "execution_count": 11,
   "id": "54075c1d-cf23-4ea1-b884-61ffd6fb9efa",
   "metadata": {},
   "outputs": [],
   "source": [
    "#QEUSION\n",
    "#user enter 2 numbers\n",
    "#nm1\n",
    "#num2\n",
    "#enter operation 1 for addition and operation 2 for mul and operation 3 for bub and operation 4 for div\n",
    "#if operation==1 then do addition and operation==2 then do mul and if operation==3 then do div and so on.\n"
   ]
  },
  {
   "cell_type": "code",
   "execution_count": 13,
   "id": "f5f43155-4cc8-4c0a-a1d8-f106cccc6237",
   "metadata": {},
   "outputs": [
    {
     "name": "stdin",
     "output_type": "stream",
     "text": [
      "enter the number1 = 5\n",
      "enter the number2 = 4\n"
     ]
    },
    {
     "name": "stdout",
     "output_type": "stream",
     "text": [
      "enter 1 for addition\n",
      "enter 2 for multiplication\n",
      "enter 3 for subtraction\n",
      "enter 4 for division\n"
     ]
    },
    {
     "name": "stdin",
     "output_type": "stream",
     "text": [
      "enter the operation = 4\n"
     ]
    },
    {
     "name": "stdout",
     "output_type": "stream",
     "text": [
      "the division of 5 and 4 = 1.25\n"
     ]
    }
   ],
   "source": [
    "a=eval(input('enter the number1 ='))\n",
    "b=eval(input('enter the number2 ='))\n",
    "print('enter 1 for addition')\n",
    "print('enter 2 for multiplication')\n",
    "print('enter 3 for subtraction')\n",
    "print('enter 4 for division')\n",
    "c=eval(input('enter the operation ='))\n",
    "if c<5:\n",
    "    if c==1:\n",
    "        print('the addition of',a,'and',b,'=',a+b)\n",
    "    if c==2:\n",
    "        print('the multiplication of',a,'and',b,'=',a*b)\n",
    "    if c==3:\n",
    "        print('the subtarction of',a,'and',b,'=',a-b)\n",
    "    if c==4:\n",
    "        print('the division of',a,'and',b,'=',a/b)\n",
    "else:\n",
    "    print('enter a valid number')\n",
    "\n",
    "\n",
    "\n",
    "\n"
   ]
  },
  {
   "cell_type": "code",
   "execution_count": null,
   "id": "d816b770-dcb2-4ef8-8fc7-48a608a1ad85",
   "metadata": {},
   "outputs": [],
   "source": [
    "#"
   ]
  },
  {
   "cell_type": "code",
   "execution_count": 30,
   "id": "bce53fdc-97c9-4a5b-b2ad-cae637c15897",
   "metadata": {},
   "outputs": [
    {
     "name": "stdin",
     "output_type": "stream",
     "text": [
      "enter the gender = male\n",
      "enter the age = 5\n"
     ]
    },
    {
     "name": "stdout",
     "output_type": "stream",
     "text": [
      "boy\n"
     ]
    }
   ],
   "source": [
    "gender=input('enter the gender =')\n",
    "if gender=='male':\n",
    "    a=eval(input('enter the age ='))\n",
    "    if a>60:print('senoir citizen')\n",
    "    elif a>30 and a<60:print('middle age person')\n",
    "    elif a>15 and a<30:print('young man')\n",
    "    elif a<15:print('boy')\n",
    "elif gender=='female':\n",
    "    b=eval(input('enter the age ='))\n",
    "    if b>60 and b<100:print('senoir citizen')\n",
    "    elif b<60 and b>30:print('middle age person')\n",
    "    elif b<30 and a>15:print('young man')\n",
    "    elif b<15:print('boy')\n",
    "else:\n",
    "    print('enter the valid gender')"
   ]
  },
  {
   "cell_type": "code",
   "execution_count": null,
   "id": "75c5579a-78c2-4fa3-ab11-0de9c8ab7de0",
   "metadata": {},
   "outputs": [],
   "source": [
    "#"
   ]
  },
  {
   "cell_type": "code",
   "execution_count": 36,
   "id": "07f30115-a883-42e3-9b8d-a5a8de174afd",
   "metadata": {},
   "outputs": [
    {
     "name": "stdin",
     "output_type": "stream",
     "text": [
      "enter the number = 0\n"
     ]
    },
    {
     "name": "stdout",
     "output_type": "stream",
     "text": [
      "the number is zero\n"
     ]
    }
   ],
   "source": [
    "a=eval(input('enter the number ='))\n",
    "if a>=0:\n",
    "    if a==0:\n",
    "        print('the number is zero')\n",
    "    else:\n",
    "        print('the number is postive')\n",
    "else:\n",
    "    print('the number is negative')"
   ]
  },
  {
   "cell_type": "code",
   "execution_count": null,
   "id": "368da872-0681-41ad-9860-e3b97d4f4d74",
   "metadata": {},
   "outputs": [],
   "source": [
    "#"
   ]
  },
  {
   "cell_type": "code",
   "execution_count": 37,
   "id": "3dce7537-99af-4e3a-825c-4892b99e8382",
   "metadata": {},
   "outputs": [
    {
     "name": "stdin",
     "output_type": "stream",
     "text": [
      " 5\n",
      " 4\n",
      " 1\n"
     ]
    },
    {
     "name": "stdout",
     "output_type": "stream",
     "text": [
      "5\n"
     ]
    }
   ],
   "source": [
    "a=int(input())\n",
    "b=int(input())\n",
    "c=int(input())\n",
    "print(max(a,b,c))\n",
    "\n"
   ]
  },
  {
   "cell_type": "code",
   "execution_count": null,
   "id": "2bbe676e-0b60-45b2-97d2-0d47400d604a",
   "metadata": {},
   "outputs": [],
   "source": []
  }
 ],
 "metadata": {
  "kernelspec": {
   "display_name": "Python 3 (ipykernel)",
   "language": "python",
   "name": "python3"
  },
  "language_info": {
   "codemirror_mode": {
    "name": "ipython",
    "version": 3
   },
   "file_extension": ".py",
   "mimetype": "text/x-python",
   "name": "python",
   "nbconvert_exporter": "python",
   "pygments_lexer": "ipython3",
   "version": "3.11.7"
  }
 },
 "nbformat": 4,
 "nbformat_minor": 5
}
