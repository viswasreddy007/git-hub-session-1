{
 "cells": [
  {
   "cell_type": "markdown",
   "id": "4b9a0c29-6d25-453e-82ac-19d7d3a9dddc",
   "metadata": {},
   "source": [
    "# input keyword"
   ]
  },
  {
   "cell_type": "markdown",
   "id": "d1279783-cc41-4caf-9f67-ae88b0bef97f",
   "metadata": {},
   "source": [
    "- input keyword is used to take the values from user\n",
    "  "
   ]
  },
  {
   "cell_type": "code",
   "execution_count": 4,
   "id": "9a8f5a65-3d4a-48bf-996a-d9436ff172ca",
   "metadata": {},
   "outputs": [
    {
     "name": "stdin",
     "output_type": "stream",
     "text": [
      "enter the 1st value :- 30\n",
      "enter the 2nd value :- 70\n"
     ]
    },
    {
     "name": "stdout",
     "output_type": "stream",
     "text": [
      "the addition of 30 and 70 is :- 100\n"
     ]
    }
   ],
   "source": [
    "a=(input('enter the 1st value :-'))\n",
    "b=(input('enter the 2nd value :-'))\n",
    "print('the addition of',a,'and',b,'is :-',a+b)"
   ]
  },
  {
   "cell_type": "markdown",
   "id": "919db4f9-c9d3-46bf-9a28-ef88af6938f9",
   "metadata": {},
   "source": [
    "**note**\n",
    "  \n",
    "- input always give the string data type only\n",
    "- in order to perform math calculations we need to convert into numerical format i.e int or float"
   ]
  },
  {
   "cell_type": "code",
   "execution_count": 1,
   "id": "36e61791-a8bf-4e34-8427-ac095b581dc3",
   "metadata": {},
   "outputs": [
    {
     "name": "stdin",
     "output_type": "stream",
     "text": [
      "enter the 1st value :- 10\n",
      "enter the 2nd value :- 10\n"
     ]
    },
    {
     "name": "stdout",
     "output_type": "stream",
     "text": [
      "the addition of 10 and 10 is :- 20\n",
      "the subtraction of 10 and 10 is :- 0\n",
      "the multiplication of 10 and 10 is :- 100\n",
      "the division of 10 and 10 is :- 1.0\n"
     ]
    }
   ],
   "source": [
    "a=int(input('enter the 1st value :-'))\n",
    "b=int(input('enter the 2nd value :-'))\n",
    "print('the addition of',a,'and',b,'is :-',a+b)\n",
    "print('the subtraction of',a,'and',b,'is :-',a-b)\n",
    "print('the multiplication of',a,'and',b,'is :-',a*b)\n",
    "print('the division of',a,'and',b,'is :-',a/b)"
   ]
  },
  {
   "cell_type": "code",
   "execution_count": 12,
   "id": "41ea09ee-f8c0-445d-908f-40f334e3737a",
   "metadata": {},
   "outputs": [
    {
     "name": "stdin",
     "output_type": "stream",
     "text": [
      "enter the first value :- 100\n",
      "enter the second value :- 200\n"
     ]
    },
    {
     "name": "stdout",
     "output_type": "stream",
     "text": [
      "300\n"
     ]
    }
   ],
   "source": [
    "a=input('enter the first value :-')\n",
    "b=input('enter the second value :-')\n",
    "print(int(a)+int(b))\n"
   ]
  },
  {
   "cell_type": "code",
   "execution_count": 13,
   "id": "dc37bcfc-78ae-4f29-a2a1-c1d84f502c51",
   "metadata": {},
   "outputs": [
    {
     "name": "stdin",
     "output_type": "stream",
     "text": [
      " 100.5\n"
     ]
    },
    {
     "ename": "ValueError",
     "evalue": "invalid literal for int() with base 10: '100.5'",
     "output_type": "error",
     "traceback": [
      "\u001b[1;31m---------------------------------------------------------------------------\u001b[0m",
      "\u001b[1;31mValueError\u001b[0m                                Traceback (most recent call last)",
      "Cell \u001b[1;32mIn[13], line 1\u001b[0m\n\u001b[1;32m----> 1\u001b[0m a\u001b[38;5;241m=\u001b[39m\u001b[38;5;28mint\u001b[39m(\u001b[38;5;28minput\u001b[39m())\n",
      "\u001b[1;31mValueError\u001b[0m: invalid literal for int() with base 10: '100.5'"
     ]
    }
   ],
   "source": [
    "a=int(input())"
   ]
  },
  {
   "cell_type": "markdown",
   "id": "a35d8614-3864-4ea5-81e7-741d71584e70",
   "metadata": {},
   "source": [
    "# EVAL\n",
    "- eval means evalute\n",
    "- what ever the number you enter , eval will convert to corresponding data type"
   ]
  },
  {
   "cell_type": "code",
   "execution_count": 14,
   "id": "28a42a83-5ba3-49f1-bdf3-7eb8a925c491",
   "metadata": {},
   "outputs": [
    {
     "name": "stdin",
     "output_type": "stream",
     "text": [
      " 100\n",
      " 100.5\n"
     ]
    },
    {
     "name": "stdout",
     "output_type": "stream",
     "text": [
      "200.5\n"
     ]
    }
   ],
   "source": [
    "a=eval(input())\n",
    "b=eval(input())\n",
    "print(a+b)\n"
   ]
  },
  {
   "cell_type": "code",
   "execution_count": 15,
   "id": "f8d802a4-8c68-4eba-b565-0e5e92df2bc4",
   "metadata": {},
   "outputs": [
    {
     "name": "stdin",
     "output_type": "stream",
     "text": [
      "enter the 1st value :- 5.5\n",
      "enter the 2nd value :- 100\n"
     ]
    },
    {
     "name": "stdout",
     "output_type": "stream",
     "text": [
      "the addition of 5.5 and 100 is :- 105.5\n",
      "the subtraction of 5.5 and 100 is :- -94.5\n",
      "the multiplication of 5.5 and 100 is :- 550.0\n",
      "the division of 5.5 and 100 is :- 0.055\n"
     ]
    }
   ],
   "source": [
    "a=eval(input('enter the 1st value :-'))\n",
    "b=eval(input('enter the 2nd value :-'))\n",
    "print('the addition of',a,'and',b,'is :-',a+b)\n",
    "print('the subtraction of',a,'and',b,'is :-',a-b)\n",
    "print('the multiplication of',a,'and',b,'is :-',a*b)\n",
    "print('the division of',a,'and',b,'is :-',a/b)"
   ]
  },
  {
   "cell_type": "markdown",
   "id": "48a7054a-53fd-472f-a485-ae6f4d3bf446",
   "metadata": {},
   "source": [
    "# write a program also  user enter three numbers calculate the average\n",
    "# and ask the user enter the 2 numbers find the sub and add and mul and div and modulus\n",
    "# and ask the user enter radius values find the area of the circle\n",
    "# and ask the user bill amount and ask the user how much tip you want to pay in percentage\n",
    "- calculate total bill\n",
    "- ask the user bill amount in dollars\n",
    "-     and ask the user how much the 1 dollar is equal to\n",
    "# ask the user ask base ansd height calculate area of the traiangle\n",
    "# ask the user enter length and breadth calculate area of the rectangle"
   ]
  },
  {
   "cell_type": "code",
   "execution_count": 4,
   "id": "beb700e8-8739-4c13-bc42-26b461e49fd6",
   "metadata": {},
   "outputs": [
    {
     "name": "stdin",
     "output_type": "stream",
     "text": [
      "enter the number1 2\n",
      "enter the number2 7\n",
      "enter the number3 69\n"
     ]
    },
    {
     "name": "stdout",
     "output_type": "stream",
     "text": [
      "The average of 2 and 7 and 69 is = 26.0\n"
     ]
    }
   ],
   "source": [
    "a=eval(input('enter the number1'))\n",
    "b=eval(input('enter the number2'))\n",
    "c=eval(input('enter the number3'))\n",
    "sum=a+b+c\n",
    "print('The average of',a,'and',b,'and',c,'is =',(sum)/3)"
   ]
  },
  {
   "cell_type": "code",
   "execution_count": 22,
   "id": "24b8a5ce-aea6-42bc-a57e-ed56f4aaed73",
   "metadata": {},
   "outputs": [
    {
     "name": "stdin",
     "output_type": "stream",
     "text": [
      "enter the number1 50.54\n",
      "enter the number2 67.56\n"
     ]
    },
    {
     "name": "stdout",
     "output_type": "stream",
     "text": [
      "the addition of 50.54 and 67.56 is = 118.1\n",
      "the subtarction of 50.54 and 67.56 is = -17.020000000000003\n",
      "the multiolication of 50.54 and 67.56 is = 3414.4824\n",
      "the division of 50.54 and 67.56 is = 0.7480757844878626\n"
     ]
    }
   ],
   "source": [
    "a=eval(input('enter the number1'))\n",
    "b=eval(input('enter the number2'))\n",
    "print('the addition of',a,'and',b,'is =',a+b)\n",
    "print('the subtarction of',a,'and',b,'is =',a-b)\n",
    "print('the multiolication of',a,'and',b,'is =',a*b)\n",
    "print('the division of',a,'and',b,'is =',a/b)\n",
    "\n"
   ]
  },
  {
   "cell_type": "code",
   "execution_count": 5,
   "id": "85e32e8d-6b10-4089-9c51-f23fe490f526",
   "metadata": {},
   "outputs": [
    {
     "name": "stdin",
     "output_type": "stream",
     "text": [
      "enter the radius of the circle 6\n"
     ]
    },
    {
     "name": "stdout",
     "output_type": "stream",
     "text": [
      "the area of the circle is :- 113.03999999999999\n"
     ]
    }
   ],
   "source": [
    "a=eval(input('enter the radius of the circle'))\n",
    "print('the area of the circle is :-',3.14*a*a)"
   ]
  },
  {
   "cell_type": "code",
   "execution_count": 8,
   "id": "65ad1b20-adce-4f50-9289-11df9153a0a7",
   "metadata": {},
   "outputs": [
    {
     "name": "stdin",
     "output_type": "stream",
     "text": [
      "enter the total bill amount 1000\n",
      "enter the tip percentage 10\n",
      "enter the total dollars you given 500\n",
      "enter the value of dollar 80\n"
     ]
    },
    {
     "name": "stdout",
     "output_type": "stream",
     "text": [
      "tip amount = 100.0\n",
      "the total amount = 1100.0\n",
      "the total amount in dollars to indian rupees :- 4000.0\n"
     ]
    }
   ],
   "source": [
    "a=eval(input('enter the total bill amount'))\n",
    "b=eval(input('enter the tip percentage'))\n",
    "c=eval(input('enter the total dollars you given'))\n",
    "dollar=eval(input('enter the value of dollar'))\n",
    "print('tip amount =',(a/b))\n",
    "print(\"the total amount =\",((a)+(a/b)))\n",
    "print('the total amount in dollars to indian rupees :-',((c/b)*dollar))\n",
    "\n",
    "\n",
    "\n"
   ]
  },
  {
   "cell_type": "code",
   "execution_count": 2,
   "id": "22db7b4e-44eb-4b5b-afaa-22f753748628",
   "metadata": {},
   "outputs": [
    {
     "name": "stdin",
     "output_type": "stream",
     "text": [
      "enter the number of dollars = 10.54\n",
      "one dollar = 45\n"
     ]
    },
    {
     "name": "stdout",
     "output_type": "stream",
     "text": [
      "the total amount in indian rupees is  474.29999999999995\n"
     ]
    }
   ],
   "source": [
    "a=eval(input('enter the number of dollars ='))\n",
    "b=eval(input('one dollar ='))\n",
    "print('the total amount in indian rupees is ',(a*b))\n"
   ]
  },
  {
   "cell_type": "code",
   "execution_count": 5,
   "id": "8c8c4729-7683-4b6e-8580-3f565ed130a7",
   "metadata": {},
   "outputs": [
    {
     "name": "stdin",
     "output_type": "stream",
     "text": [
      "enter the base of the traingle :- 10\n",
      "enter the height of the traingle :- 10\n"
     ]
    },
    {
     "name": "stdout",
     "output_type": "stream",
     "text": [
      "the area of the triangle is :- 50.0\n"
     ]
    }
   ],
   "source": [
    "a=eval(input('enter the base of the traingle :-'))\n",
    "b=eval(input('enter the height of the traingle :-'))\n",
    "print('the area of the triangle is :-',((0.5)*(a*b)))\n"
   ]
  },
  {
   "cell_type": "code",
   "execution_count": 7,
   "id": "80d88c74-bd20-4c6e-83d0-79e62eace3e3",
   "metadata": {},
   "outputs": [
    {
     "name": "stdin",
     "output_type": "stream",
     "text": [
      "enter the breadth of the rectangle :- 10\n",
      "enter the length of the rectangle :- 10\n"
     ]
    },
    {
     "name": "stdout",
     "output_type": "stream",
     "text": [
      "the area of the reactangle is :- 100\n"
     ]
    }
   ],
   "source": [
    "a=eval(input('enter the breadth of the rectangle :-'))\n",
    "b=eval(input('enter the length of the rectangle :-'))\n",
    "print('the area of the reactangle is :-',(a*b)) "
   ]
  },
  {
   "cell_type": "code",
   "execution_count": null,
   "id": "fbb6b9ef-847a-4282-b9d4-20dccb822f06",
   "metadata": {},
   "outputs": [],
   "source": []
  }
 ],
 "metadata": {
  "kernelspec": {
   "display_name": "Python 3 (ipykernel)",
   "language": "python",
   "name": "python3"
  },
  "language_info": {
   "codemirror_mode": {
    "name": "ipython",
    "version": 3
   },
   "file_extension": ".py",
   "mimetype": "text/x-python",
   "name": "python",
   "nbconvert_exporter": "python",
   "pygments_lexer": "ipython3",
   "version": "3.11.7"
  }
 },
 "nbformat": 4,
 "nbformat_minor": 5
}
