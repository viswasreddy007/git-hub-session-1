{
 "cells": [
  {
   "cell_type": "markdown",
   "id": "940f2161-3b26-47ad-ab27-750c09a734e0",
   "metadata": {},
   "source": [
    "# **FUNCTIONS**"
   ]
  },
  {
   "cell_type": "markdown",
   "id": "c3888d2c-385b-42aa-9961-eb7719362b19",
   "metadata": {},
   "source": [
    "- a block of code which we can use many times"
   ]
  },
  {
   "cell_type": "code",
   "execution_count": 1,
   "id": "26f81e0a-c892-4afa-a5d2-e9ca74d4854a",
   "metadata": {},
   "outputs": [
    {
     "name": "stdout",
     "output_type": "stream",
     "text": [
      "30\n"
     ]
    }
   ],
   "source": [
    "a=10\n",
    "b=20\n",
    "print(a+b)"
   ]
  },
  {
   "cell_type": "markdown",
   "id": "7c4f45b7-9acd-4a63-a77a-cee3868cd5c8",
   "metadata": {},
   "source": [
    "**syntax of function**"
   ]
  },
  {
   "cell_type": "code",
   "execution_count": 2,
   "id": "cd76e8b7-ee17-46f7-ad62-77ac243e2b65",
   "metadata": {},
   "outputs": [
    {
     "data": {
      "text/plain": [
       "<bound method Random.randint of <random.Random object at 0x000001E0136E34F0>>"
      ]
     },
     "execution_count": 2,
     "metadata": {},
     "output_type": "execute_result"
    }
   ],
   "source": [
    "import random\n",
    "random.randint"
   ]
  },
  {
   "cell_type": "code",
   "execution_count": null,
   "id": "31f22568-1654-49c1-abeb-a6ecd68d19c8",
   "metadata": {},
   "outputs": [],
   "source": [
    "def <function_name>():\n",
    "    codelines"
   ]
  },
  {
   "cell_type": "code",
   "execution_count": 13,
   "id": "e88950d0-39b1-4724-a287-b87d425c693c",
   "metadata": {},
   "outputs": [
    {
     "name": "stdout",
     "output_type": "stream",
     "text": [
      "a is = 10\n",
      "b is = 20\n",
      "the addition of 10 and 20 = 30\n"
     ]
    }
   ],
   "source": [
    "def addition():\n",
    "    a=10\n",
    "    print('a is =',a)\n",
    "    b=20\n",
    "    print('b is =',b)\n",
    "    print('the addition of',a,'and',b,'=',a+b)\n",
    "addition()\n",
    "    "
   ]
  },
  {
   "cell_type": "code",
   "execution_count": null,
   "id": "3599b5de-1e15-4dcc-9031-3517df926ca9",
   "metadata": {},
   "outputs": [],
   "source": [
    "#function name is called addition\n",
    "#inorder to exucute the code we need to call the functibon"
   ]
  },
  {
   "cell_type": "code",
   "execution_count": 5,
   "id": "f7c6bd61-5a7e-4111-8aef-f781bb56085f",
   "metadata": {},
   "outputs": [
    {
     "data": {
      "text/plain": [
       "<function __main__.addition()>"
      ]
     },
     "execution_count": 5,
     "metadata": {},
     "output_type": "execute_result"
    }
   ],
   "source": [
    "addition    #put brackets to after function calling"
   ]
  },
  {
   "cell_type": "code",
   "execution_count": 14,
   "id": "efe6be4a-1279-4623-846a-5bd050983a80",
   "metadata": {},
   "outputs": [
    {
     "name": "stdout",
     "output_type": "stream",
     "text": [
      "a is = 10\n",
      "b is = 20\n",
      "the addition of 10 and 20 = 30\n"
     ]
    }
   ],
   "source": [
    "addition()"
   ]
  },
  {
   "cell_type": "markdown",
   "id": "52bd689f-cf83-46e9-9e40-ef6d444dc9a2",
   "metadata": {},
   "source": [
    "### note\n",
    "\n",
    "- functions names can be anything\n",
    "- same rules applicable as variable rules\n",
    "- whenver you create the functions make sure the indendation correctlyy\n",
    "- starting with keywords , ending with colon then code lines starts with indendation\n",
    "- brackets means functions\n",
    "- never missed the  brackets whenever you called the functions\n",
    "- if you want to execute the code we need to call the functions\n",
    "- while you are calling function if you see function or bound method\n",
    "- which means you missed the brackets"
   ]
  },
  {
   "cell_type": "markdown",
   "id": "9a2cb7de-9106-4134-a4db-c52d1298759e",
   "metadata": {},
   "source": [
    "### very important point\n",
    "**whenever we defined the fuction it doesnot throw any error untill we call the function**"
   ]
  },
  {
   "cell_type": "markdown",
   "id": "67210918-5c17-45ed-9698-e3981e775926",
   "metadata": {},
   "source": [
    "# function without arguments"
   ]
  },
  {
   "cell_type": "markdown",
   "id": "e7b13425-5ef3-4cd8-a306-2bc849de309c",
   "metadata": {},
   "source": [
    "### average program"
   ]
  },
  {
   "cell_type": "code",
   "execution_count": 15,
   "id": "a5ebf94b-28fd-4187-a76b-323bd0d9722f",
   "metadata": {},
   "outputs": [
    {
     "name": "stdout",
     "output_type": "stream",
     "text": [
      "20.0\n"
     ]
    }
   ],
   "source": [
    "def average():\n",
    "    a=10\n",
    "    b=20\n",
    "    c=30\n",
    "    print((a+b+c)/3)\n",
    "average()"
   ]
  },
  {
   "cell_type": "markdown",
   "id": "7372f762-ad47-4d9a-b620-8b1cdcb6549c",
   "metadata": {},
   "source": [
    "### area of the circle"
   ]
  },
  {
   "cell_type": "code",
   "execution_count": 17,
   "id": "15f3310c-301a-41f1-9192-23d477808f23",
   "metadata": {},
   "outputs": [
    {
     "name": "stdout",
     "output_type": "stream",
     "text": [
      "314.0\n"
     ]
    }
   ],
   "source": [
    "def radius():\n",
    "    a=10\n",
    "    print(3.14*(a*a))\n",
    "radius()"
   ]
  },
  {
   "cell_type": "markdown",
   "id": "f63869b8-5cc3-4c6d-90b2-24eaec560019",
   "metadata": {},
   "source": [
    "### bill amount calculation"
   ]
  },
  {
   "cell_type": "code",
   "execution_count": 19,
   "id": "2f111793-6eb6-4aeb-8b2c-f5ac55291b44",
   "metadata": {},
   "outputs": [
    {
     "name": "stdin",
     "output_type": "stream",
     "text": [
      "enter the bill amount = 1000\n",
      "enter the tip percentage = 10\n"
     ]
    },
    {
     "name": "stdout",
     "output_type": "stream",
     "text": [
      "the total bill amount include tip = 1100.0\n"
     ]
    }
   ],
   "source": [
    "def bill_amount():\n",
    "    a=eval(input('enter the bill amount ='))\n",
    "    b=eval(input('enter the tip percentage ='))\n",
    "    c=a/b\n",
    "    print('the total bill amount include tip =',a+c)\n",
    "bill_amount()"
   ]
  },
  {
   "cell_type": "markdown",
   "id": "2b368fef-51fc-41f1-82a9-1ba5c65bd44f",
   "metadata": {},
   "source": [
    "### funnction name and variable name is not same"
   ]
  },
  {
   "cell_type": "markdown",
   "id": "df2c841c-91a0-49c6-8f20-8bc232c297dd",
   "metadata": {},
   "source": [
    "###  area of the traingle"
   ]
  },
  {
   "cell_type": "code",
   "execution_count": 20,
   "id": "bef1a98d-93e5-453e-a9a3-9016ba67617d",
   "metadata": {},
   "outputs": [
    {
     "name": "stdin",
     "output_type": "stream",
     "text": [
      "enter the base of traingle = 10\n",
      "enter the height of traingle = 20\n"
     ]
    },
    {
     "name": "stdout",
     "output_type": "stream",
     "text": [
      "the area of the triangle = 100.0\n"
     ]
    }
   ],
   "source": [
    "def area():\n",
    "    a=eval(input('enter the base of traingle ='))\n",
    "    b=eval(input('enter the height of traingle ='))\n",
    "    print('the area of the triangle =',(0.5*a*b))\n",
    "area()"
   ]
  },
  {
   "cell_type": "markdown",
   "id": "bac32160-bf31-40b8-9bd4-2bd5f92c6d57",
   "metadata": {},
   "source": [
    "### area of the reactangle"
   ]
  },
  {
   "cell_type": "code",
   "execution_count": 21,
   "id": "dd0f2d92-8b70-4292-ad93-83afb25ff8b5",
   "metadata": {},
   "outputs": [
    {
     "name": "stdin",
     "output_type": "stream",
     "text": [
      "enter the length of rectangle = 10\n",
      "enter the breadth of rctangle = 20\n"
     ]
    },
    {
     "name": "stdout",
     "output_type": "stream",
     "text": [
      "the area of the reactangle = 200\n"
     ]
    }
   ],
   "source": [
    "def area_rectangle():\n",
    "    a=eval(input('enter the length of rectangle ='))\n",
    "    b=eval(input('enter the breadth of rctangle ='))\n",
    "    print('the area of the reactangle =',a*b)\n",
    "area_rectangle()"
   ]
  },
  {
   "cell_type": "markdown",
   "id": "af700df4-3dd3-4a4b-9a37-9ea50d916e76",
   "metadata": {},
   "source": [
    "### odd or even"
   ]
  },
  {
   "cell_type": "code",
   "execution_count": 22,
   "id": "dea2bdf1-9b96-495a-9338-7a2f855b7655",
   "metadata": {},
   "outputs": [
    {
     "name": "stdin",
     "output_type": "stream",
     "text": [
      "enter the number 5\n"
     ]
    },
    {
     "name": "stdout",
     "output_type": "stream",
     "text": [
      "the number 5 is = even\n"
     ]
    }
   ],
   "source": [
    "def even_odd_zero():\n",
    "    a=eval(input('enter the number'))\n",
    "    if a%2==0:\n",
    "        print('the number',a,'is = even')\n",
    "    elif a%2!=0:\n",
    "        print('the number',a,'is = even')\n",
    "    else:\n",
    "        print('the number',a,'is = zero')\n",
    "even_odd_zero()"
   ]
  },
  {
   "cell_type": "markdown",
   "id": "09b65e80-f17d-4b00-b4fe-275c10089108",
   "metadata": {},
   "source": [
    "***while we are defining functions is nothing mention is called as function without arguments***"
   ]
  },
  {
   "cell_type": "markdown",
   "id": "fc456337-b356-4c6c-8d42-32e3ecea913c",
   "metadata": {},
   "source": [
    "# funnctions with arguments\n",
    "\n",
    "- look at how many arguments or variables are there\n",
    "- in that how many inputs varibles are there\n",
    "- How many output veriables are there\n",
    "- input variables means user can define output varibles pthon will gives the output\n",
    "- we can use only inpiut variables arguments inside the function"
   ]
  },
  {
   "cell_type": "code",
   "execution_count": 33,
   "id": "c7d1c071-0094-4317-bcdf-5982fb6b4f6c",
   "metadata": {},
   "outputs": [
    {
     "name": "stdout",
     "output_type": "stream",
     "text": [
      "the average of these 3 numbers = 20.0\n"
     ]
    }
   ],
   "source": [
    "def average1(a,b,c):\n",
    "    print('the average of these 3 numbers =',(a+b+c)/3)\n",
    "average1(10,20,30)"
   ]
  },
  {
   "cell_type": "code",
   "execution_count": 32,
   "id": "337b4338-c813-40ab-944a-7f44ce4e3713",
   "metadata": {},
   "outputs": [
    {
     "name": "stdout",
     "output_type": "stream",
     "text": [
      "the addition of 1 and 2 and 3 == 6\n"
     ]
    }
   ],
   "source": [
    "def addition1(a,b,c):\n",
    "    print('the addition of',a,'and',b,'and',c,'==',(a+b+c))\n",
    "addition1(1,2,3)"
   ]
  },
  {
   "cell_type": "code",
   "execution_count": 28,
   "id": "8d67459c-f5ba-49b8-b031-514dec429094",
   "metadata": {},
   "outputs": [
    {
     "name": "stdout",
     "output_type": "stream",
     "text": [
      "the total bill amount include tip = 1100.0\n"
     ]
    }
   ],
   "source": [
    "def bill_amount(a,b):\n",
    "    c=a/b\n",
    "    print('the total bill amount include tip =',a+c)\n",
    "bill_amount(1000,10)"
   ]
  },
  {
   "cell_type": "code",
   "execution_count": null,
   "id": "f526066b-4322-4fb7-98b2-3f90f8fcda7e",
   "metadata": {},
   "outputs": [],
   "source": [
    "average1(num1,num2,num3) #avoid these miskake\n"
   ]
  },
  {
   "cell_type": "code",
   "execution_count": 29,
   "id": "a6280de3-1b16-4535-b689-fc8899e4424e",
   "metadata": {},
   "outputs": [
    {
     "name": "stdout",
     "output_type": "stream",
     "text": [
      "the area of the circle = 314.0\n"
     ]
    }
   ],
   "source": [
    "def radius(a):\n",
    "    print('the area of the circle =',3.14*(a*a))\n",
    "radius(10)"
   ]
  },
  {
   "cell_type": "code",
   "execution_count": 34,
   "id": "b83d8ede-838f-4474-b141-44ca61a23c0e",
   "metadata": {},
   "outputs": [
    {
     "name": "stdout",
     "output_type": "stream",
     "text": [
      "the area of the reactangle = 200\n"
     ]
    }
   ],
   "source": [
    "def area_rectangle(a,b):\n",
    "    print('the area of the reactangle =',a*b)\n",
    "area_rectangle(10,20)"
   ]
  },
  {
   "cell_type": "markdown",
   "id": "c9628e2e-2b15-42a8-9fde-9a136242f326",
   "metadata": {},
   "source": [
    "- ***1) donot provide function name and variable name both are same***\n",
    "- ***2) indendation mistakes***"
   ]
  },
  {
   "cell_type": "markdown",
   "id": "49216163-e511-4c20-9587-0ec44505c221",
   "metadata": {},
   "source": [
    "# defualt arguments"
   ]
  },
  {
   "cell_type": "code",
   "execution_count": 3,
   "id": "ab4e0bbe-6ae2-47ab-904d-71434bd6ba40",
   "metadata": {},
   "outputs": [
    {
     "name": "stdin",
     "output_type": "stream",
     "text": [
      "enter the bill amount = 1000\n",
      "enter the tip percentage = 10\n"
     ]
    },
    {
     "name": "stdout",
     "output_type": "stream",
     "text": [
      "the total bill = 1100.0\n"
     ]
    }
   ],
   "source": [
    "# bill amount problem\n",
    "bill=eval(input('enter the bill amount ='))\n",
    "tip=eval(input('enter the tip percentage ='))\n",
    "tip_amount=bill*tip/(100)\n",
    "total_bill=bill+tip_amount\n",
    "print('the total bill =',total_bill)\n"
   ]
  },
  {
   "cell_type": "code",
   "execution_count": 1,
   "id": "99abbe5a-be41-4661-994a-fe5537478963",
   "metadata": {},
   "outputs": [
    {
     "name": "stdin",
     "output_type": "stream",
     "text": [
      "enter the bill amount = 1000\n",
      "enter the tip percentage = 10\n"
     ]
    },
    {
     "name": "stdout",
     "output_type": "stream",
     "text": [
      "the total bill = 1100.0\n"
     ]
    }
   ],
   "source": [
    "# without agruments\n",
    "def bill_pay():\n",
    "    bill=eval(input('enter the bill amount ='))\n",
    "    tip=eval(input('enter the tip percentage ='))\n",
    "    tip_amount=bill*tip/(100)\n",
    "    total_bill=bill+tip_amount\n",
    "    print('the total bill =',total_bill)\n",
    "bill_pay()\n"
   ]
  },
  {
   "cell_type": "code",
   "execution_count": 5,
   "id": "8779a19e-98ec-4e94-9901-a444365c7178",
   "metadata": {},
   "outputs": [
    {
     "name": "stdout",
     "output_type": "stream",
     "text": [
      "the total bill = 1200.0\n"
     ]
    }
   ],
   "source": [
    "# with arguments\n",
    "# whenever you provide \n",
    "def bill_pay1(bill,tip):\n",
    "    tip_amount=bill*tip/(100)\n",
    "    total_bill=bill+tip_amount\n",
    "    print('the total bill =',total_bill)\n",
    "bill_pay1(1000,20)\n",
    "    "
   ]
  },
  {
   "cell_type": "code",
   "execution_count": 7,
   "id": "aaca2bb9-79c2-495e-937f-8483c16f1bd5",
   "metadata": {},
   "outputs": [
    {
     "name": "stdin",
     "output_type": "stream",
     "text": [
      "enter the bill amount = 1000\n",
      "enter the tip percentage = 10\n"
     ]
    },
    {
     "name": "stdout",
     "output_type": "stream",
     "text": [
      "the total bill = 1100.0\n"
     ]
    },
    {
     "name": "stdin",
     "output_type": "stream",
     "text": [
      "enter the bill amount = 1000\n",
      "enter the tip percentage = 20\n"
     ]
    },
    {
     "name": "stdout",
     "output_type": "stream",
     "text": [
      "the total bill = 1200.0\n",
      "the total bill = 1200.0\n"
     ]
    }
   ],
   "source": [
    "# noraml one \n",
    "# bill amount problem\n",
    "bill=eval(input('enter the bill amount ='))\n",
    "tip=eval(input('enter the tip percentage ='))\n",
    "tip_amount=bill*tip/(100)\n",
    "total_bill=bill+tip_amount\n",
    "print('the total bill =',total_bill)\n",
    "######################################################\n",
    "..................................................................................................................\n",
    "# without arguments\n",
    "def bill_pay():\n",
    "    bill=eval(input('enter the bill amount ='))\n",
    "    tip=eval(input('enter the tip percentage ='))\n",
    "    tip_amount=bill*tip/(100)\n",
    "    total_bill=bill+tip_amount\n",
    "    print('the total bill =',total_bill)\n",
    "bill_pay()\n",
    "\n",
    "#########################################################\n",
    "# with arguments\n",
    "def bill_pay1(bill,tip):\n",
    "    tip_amount=bill*tip/(100)\n",
    "    total_bill=bill+tip_amount\n",
    "    print('the total bill =',total_bill)\n",
    "bill_pay1(1000,20)"
   ]
  },
  {
   "cell_type": "markdown",
   "id": "2d455ed6-77fd-42fd-9195-a968513b2188",
   "metadata": {},
   "source": [
    "# default agrument"
   ]
  },
  {
   "cell_type": "code",
   "execution_count": 9,
   "id": "a8a012d6-8dec-4c50-a105-c671d1b1cd59",
   "metadata": {},
   "outputs": [
    {
     "name": "stdin",
     "output_type": "stream",
     "text": [
      "enter the bill amount = 1000\n"
     ]
    },
    {
     "name": "stdout",
     "output_type": "stream",
     "text": [
      "bill is = 1000\n",
      "tip_per is = 20\n",
      "the total bill = 1200.0\n"
     ]
    }
   ],
   "source": [
    "# with tip = default value\n",
    "def bill_pay1(bill,tip=20):\n",
    "    print('bill is =',bill)\n",
    "    print('tip_per is =',tip)\n",
    "    tip_amount=bill*tip/(100)\n",
    "    total_bill=bill+tip_amount\n",
    "    print('the total bill =',total_bill)\n",
    "bill_pay1(int(input('enter the bill amount =')))\n",
    "\n",
    "# here the tip_per =20\n",
    "# whenever we provided default value to a arguments\n",
    "# then it is called default argument"
   ]
  },
  {
   "cell_type": "code",
   "execution_count": 14,
   "id": "d2b568be-85ed-4c67-be9b-1ad5f46f7c6d",
   "metadata": {},
   "outputs": [
    {
     "name": "stdin",
     "output_type": "stream",
     "text": [
      "enter the num1 = 10\n"
     ]
    },
    {
     "name": "stdout",
     "output_type": "stream",
     "text": [
      "num1 is = 10\n",
      "num2 is = 3\n",
      "num3 is = 30\n",
      "the average of these 3 numbers = 14.333333333333334\n"
     ]
    }
   ],
   "source": [
    "def aveg(a,b,c=30):\n",
    "    print('num1 is =',a)\n",
    "    print('num2 is =',b)\n",
    "    print('num3 is =',c)\n",
    "    avg=(a+b+c)/3\n",
    "    print('the average of these 3 numbers =',avg)\n",
    "aveg(int(input('enter the num1 =')),3)"
   ]
  },
  {
   "cell_type": "code",
   "execution_count": 15,
   "id": "dbefc299-ea15-4f5b-891b-dd955eeb57c2",
   "metadata": {},
   "outputs": [
    {
     "name": "stdout",
     "output_type": "stream",
     "text": [
      "num1 is = 20\n",
      "num2 is = 40\n",
      "num3 is = 30\n",
      "the average of these 3 numbers = 30.0\n"
     ]
    }
   ],
   "source": [
    "def aveg(a=20,b=40,c=30):\n",
    "    print('num1 is =',a)\n",
    "    print('num2 is =',b)\n",
    "    print('num3 is =',c)\n",
    "    avg=(a+b+c)/3\n",
    "    print('the average of these 3 numbers =',avg)\n",
    "aveg()"
   ]
  },
  {
   "cell_type": "code",
   "execution_count": 16,
   "id": "1eae79fa-daac-4a42-8714-b22492d3fd2e",
   "metadata": {},
   "outputs": [
    {
     "ename": "SyntaxError",
     "evalue": "non-default argument follows default argument (3008461549.py, line 1)",
     "output_type": "error",
     "traceback": [
      "\u001b[1;36m  Cell \u001b[1;32mIn[16], line 1\u001b[1;36m\u001b[0m\n\u001b[1;33m    def aveg(a,b=40,c):\u001b[0m\n\u001b[1;37m                    ^\u001b[0m\n\u001b[1;31mSyntaxError\u001b[0m\u001b[1;31m:\u001b[0m non-default argument follows default argument\n"
     ]
    }
   ],
   "source": [
    "def aveg(a,b=40,c):\n",
    "    print('num1 is =',a)\n",
    "    print('num2 is =',b)\n",
    "    print('num3 is =',c)\n",
    "    avg=(a+b+c)/3\n",
    "    print('the average of these 3 numbers =',avg)\n",
    "aveg(a,c)"
   ]
  },
  {
   "cell_type": "markdown",
   "id": "5dee0462-92ba-42c8-9aa3-2e6b4ae14a19",
   "metadata": {},
   "source": [
    "- ***default arguements are always in the last***\n",
    "- ***the variables will be changed its position and the values cannot be changed***\n",
    "- ***if we provide default values in the middle it will gives error***\n"
   ]
  },
  {
   "cell_type": "code",
   "execution_count": null,
   "id": "ee21547f-9caa-4280-9057-c45484f3d705",
   "metadata": {},
   "outputs": [],
   "source": [
    "average1(a,b,c=40)  # W\n",
    "average(a,b=50,c)  # F\n",
    "average(a=100,b,c)  # F\n",
    "average1(a,b=50,c=40)   # W\n",
    "average(a=10,b=20,c=48)  # W"
   ]
  },
  {
   "cell_type": "code",
   "execution_count": 17,
   "id": "299279fe-476e-465f-91c4-9fc36902fb62",
   "metadata": {},
   "outputs": [
    {
     "name": "stdout",
     "output_type": "stream",
     "text": [
      "1100\n"
     ]
    }
   ],
   "source": [
    "def add(a,b=600):\n",
    "    ad=a+b\n",
    "    print(ad)\n",
    "add(500)"
   ]
  },
  {
   "cell_type": "code",
   "execution_count": 19,
   "id": "ae4cf24d-fcc4-4e77-8d2b-1abea1e4e78b",
   "metadata": {},
   "outputs": [
    {
     "name": "stdout",
     "output_type": "stream",
     "text": [
      "1500\n"
     ]
    }
   ],
   "source": [
    "def add(a,b=600):\n",
    "    ad=a+b\n",
    "    print(ad)\n",
    "add(500,1000)\n",
    "\n",
    "# first we are defining function\n",
    "# while define the function we given b=600\n",
    "# now you are calling function \n",
    "# while you are calling b=1000\n",
    "# defining the function is 1st and calling the function is 2nd\n",
    "# and calling an fuction is more imp than the defining the function \n",
    "# so values will be overwrite\n",
    "# python will always take the latest value"
   ]
  },
  {
   "cell_type": "code",
   "execution_count": 2,
   "id": "7509103d-54e2-4b77-867e-ee370f2f913f",
   "metadata": {},
   "outputs": [
    {
     "name": "stdout",
     "output_type": "stream",
     "text": [
      "2500\n"
     ]
    }
   ],
   "source": [
    "# case 3\n",
    "def add(a,b=600):\n",
    "    b=2000\n",
    "    ad=a+b\n",
    "    print(ad)\n",
    "add(500,1000)\n",
    "\n",
    "# step1 = define the function\n",
    "# step2 = call the function b=1000\n",
    "# step3 = runnning the function b=2000"
   ]
  },
  {
   "cell_type": "code",
   "execution_count": 22,
   "id": "27ef6e48-df8e-41d0-94ac-e468d614d4ba",
   "metadata": {},
   "outputs": [
    {
     "name": "stdout",
     "output_type": "stream",
     "text": [
      "2500\n"
     ]
    }
   ],
   "source": [
    "# case 4 \n",
    "\n",
    "def add(a,b=600):\n",
    "    b=2000\n",
    "    ad=a+b\n",
    "    print(ad)\n",
    "b=3000\n",
    "add(500,1000)\n",
    "\n",
    "# b=600 ===> 3000 ===> 1000 ===> 2500\n"
   ]
  },
  {
   "cell_type": "markdown",
   "id": "2b0d4a56-621c-4f84-baca-3b2582a35abc",
   "metadata": {},
   "source": [
    "# local variable and global variable \n",
    " - ***Local variable means = the variables inside the function call***\n",
    " - ***Global variable means = the variables outside the function call***\n",
    "\n",
    "\n",
    " - ***once you defined the varibles outside you can use those variables anywhere***\n",
    " - ***you can use global varibles inside function also***\n",
    " - ***but you can not use local varibles outside the function***"
   ]
  },
  {
   "cell_type": "code",
   "execution_count": 25,
   "id": "2d1aff54-b416-4fd0-9ef3-c8d4a9c258ba",
   "metadata": {},
   "outputs": [
    {
     "name": "stdout",
     "output_type": "stream",
     "text": [
      "200\n"
     ]
    }
   ],
   "source": [
    "def mul():\n",
    "    a=10\n",
    "    b=20\n",
    "    multiplication=a*b\n",
    "    print(multiplication)\n",
    "mul()\n",
    "\n",
    "# a,b,multiplication are local variables\n",
    "# these values we can not use outside the function"
   ]
  },
  {
   "cell_type": "code",
   "execution_count": 24,
   "id": "32421ee7-7652-4df9-92ce-64b07a8d8884",
   "metadata": {},
   "outputs": [
    {
     "ename": "NameError",
     "evalue": "name 'a' is not defined",
     "output_type": "error",
     "traceback": [
      "\u001b[1;31m---------------------------------------------------------------------------\u001b[0m",
      "\u001b[1;31mNameError\u001b[0m                                 Traceback (most recent call last)",
      "Cell \u001b[1;32mIn[24], line 1\u001b[0m\n\u001b[1;32m----> 1\u001b[0m a\n",
      "\u001b[1;31mNameError\u001b[0m: name 'a' is not defined"
     ]
    }
   ],
   "source": [
    "a\n"
   ]
  },
  {
   "cell_type": "code",
   "execution_count": 28,
   "id": "5a12d540-f69c-4b0c-8447-4b0bcb9fcb1a",
   "metadata": {},
   "outputs": [
    {
     "name": "stdout",
     "output_type": "stream",
     "text": [
      "20000\n"
     ]
    }
   ],
   "source": [
    "a=100\n",
    "b=200\n",
    "def mul():\n",
    "    multiplication=a*b\n",
    "    print(multiplication)\n",
    "mul()"
   ]
  },
  {
   "cell_type": "code",
   "execution_count": 33,
   "id": "fc501a5b-473c-4f53-be6a-f65bb74c52bc",
   "metadata": {},
   "outputs": [
    {
     "name": "stdout",
     "output_type": "stream",
     "text": [
      "20000\n"
     ]
    }
   ],
   "source": [
    "mul()"
   ]
  },
  {
   "cell_type": "code",
   "execution_count": 34,
   "id": "90bcdfea-8e91-4a55-8867-e6da705400fa",
   "metadata": {},
   "outputs": [
    {
     "data": {
      "text/plain": [
       "200"
      ]
     },
     "execution_count": 34,
     "metadata": {},
     "output_type": "execute_result"
    }
   ],
   "source": [
    "b"
   ]
  },
  {
   "cell_type": "code",
   "execution_count": 35,
   "id": "fd0fface-a386-4899-a3b9-091311bde924",
   "metadata": {},
   "outputs": [
    {
     "data": {
      "text/plain": [
       "100"
      ]
     },
     "execution_count": 35,
     "metadata": {},
     "output_type": "execute_result"
    }
   ],
   "source": [
    "a"
   ]
  },
  {
   "cell_type": "code",
   "execution_count": 37,
   "id": "6c6a0f79-100c-4749-af78-bc92afb9c510",
   "metadata": {},
   "outputs": [
    {
     "name": "stdout",
     "output_type": "stream",
     "text": [
      "1200\n"
     ]
    }
   ],
   "source": [
    "# case 5\n",
    "\n",
    "a1=100\n",
    "b1=200\n",
    "def add11(a1=1000):\n",
    "    add1=a1+b1\n",
    "    print(add1)\n",
    "add11()\n",
    "\n",
    "# global variable instilization   a1=100\n",
    "# define the function    a1=1000\n",
    "# call the function      a1=1000\n",
    "# runnning the function   a1=1000 \n",
    "    "
   ]
  },
  {
   "cell_type": "code",
   "execution_count": 40,
   "id": "06ecf912-c328-4386-9768-027ae05a4b97",
   "metadata": {},
   "outputs": [
    {
     "ename": "TypeError",
     "evalue": "add11() got an unexpected keyword argument 'b1'",
     "output_type": "error",
     "traceback": [
      "\u001b[1;31m---------------------------------------------------------------------------\u001b[0m",
      "\u001b[1;31mTypeError\u001b[0m                                 Traceback (most recent call last)",
      "Cell \u001b[1;32mIn[40], line 8\u001b[0m\n\u001b[0;32m      6\u001b[0m     add1\u001b[38;5;241m=\u001b[39ma1\u001b[38;5;241m+\u001b[39mb1\n\u001b[0;32m      7\u001b[0m     \u001b[38;5;28mprint\u001b[39m(add1)\n\u001b[1;32m----> 8\u001b[0m add11(a1\u001b[38;5;241m=\u001b[39m\u001b[38;5;241m2000\u001b[39m,b1\u001b[38;5;241m=\u001b[39m\u001b[38;5;241m3000\u001b[39m)\n",
      "\u001b[1;31mTypeError\u001b[0m: add11() got an unexpected keyword argument 'b1'"
     ]
    }
   ],
   "source": [
    "# CASE 6\n",
    "\n",
    "a1=100\n",
    "b1=200\n",
    "def add11(a1=1000):\n",
    "    add1=a1+b1\n",
    "    print(add1)\n",
    "add11(a1=2000,b1=3000)\n",
    "\n",
    "# while defining function only one argument is there\n",
    "# whlile calling the function wr are provided two arguments\n",
    "# it is not possible"
   ]
  },
  {
   "cell_type": "code",
   "execution_count": 41,
   "id": "bbbcda25-c9e5-464c-b49a-992a835db4ba",
   "metadata": {},
   "outputs": [
    {
     "name": "stdout",
     "output_type": "stream",
     "text": [
      "2200\n"
     ]
    }
   ],
   "source": [
    "# CASE 7\n",
    "\n",
    "\n",
    "a1=100\n",
    "b1=200\n",
    "def add11(a1=1000):\n",
    "    add1=a1+b1\n",
    "    print(add1)\n",
    "add11(a1=2000)"
   ]
  },
  {
   "cell_type": "code",
   "execution_count": 43,
   "id": "c4db733f-2fa8-4fcc-a06a-c43174da2d1c",
   "metadata": {},
   "outputs": [
    {
     "name": "stdout",
     "output_type": "stream",
     "text": [
      "5000\n"
     ]
    }
   ],
   "source": [
    "a1=100\n",
    "b1=200\n",
    "def add11(a1,b1):\n",
    "    add1=a1+b1\n",
    "    print(add1)\n",
    "add11(a1=2000,b1=3000)"
   ]
  },
  {
   "cell_type": "code",
   "execution_count": 44,
   "id": "b32853e1-1e2e-4386-93f8-a2534a6e18fd",
   "metadata": {},
   "outputs": [
    {
     "name": "stdout",
     "output_type": "stream",
     "text": [
      "5200\n"
     ]
    }
   ],
   "source": [
    "# CASE 8\n",
    "\n",
    "a1=100\n",
    "b1=200\n",
    "def add11(a1=1000):\n",
    "    a1=5000\n",
    "    add1=a1+b1\n",
    "    print(add1)\n",
    "add11(a1=2000)\n"
   ]
  },
  {
   "cell_type": "code",
   "execution_count": 45,
   "id": "e44dc8cc-172c-4c8e-8be1-c6d09f48f0e8",
   "metadata": {},
   "outputs": [
    {
     "data": {
      "text/plain": [
       "100"
      ]
     },
     "execution_count": 45,
     "metadata": {},
     "output_type": "execute_result"
    }
   ],
   "source": [
    "a1"
   ]
  },
  {
   "cell_type": "code",
   "execution_count": 48,
   "id": "cc5ef22c-b441-4172-8ac9-bed5d7a15aae",
   "metadata": {},
   "outputs": [
    {
     "name": "stdout",
     "output_type": "stream",
     "text": [
      "5200\n"
     ]
    }
   ],
   "source": [
    "# CASE 9\n",
    "\n",
    "a1=100\n",
    "b1=200\n",
    "def add11(a1=1000):\n",
    "    a1=5000\n",
    "    add1=a1+b1\n",
    "    print(add1)\n",
    "a1=6000\n",
    "add11(a1=2000)"
   ]
  },
  {
   "cell_type": "code",
   "execution_count": 47,
   "id": "5b012c45-948b-4266-a56c-51def0fb7e3c",
   "metadata": {},
   "outputs": [
    {
     "data": {
      "text/plain": [
       "6000"
      ]
     },
     "execution_count": 47,
     "metadata": {},
     "output_type": "execute_result"
    }
   ],
   "source": [
    "a1"
   ]
  },
  {
   "cell_type": "code",
   "execution_count": 49,
   "id": "1ddf2a08-edb3-4753-8d0d-dd5591232eb1",
   "metadata": {},
   "outputs": [
    {
     "name": "stdout",
     "output_type": "stream",
     "text": [
      "1200\n"
     ]
    }
   ],
   "source": [
    "# CASE 10\n",
    "\n",
    "\n",
    "b1=200\n",
    "def add11(a1=1000):\n",
    "    add1=a1+b1\n",
    "    print(add1)\n",
    "a1=6000\n",
    "add11()\n",
    "\n",
    "# "
   ]
  },
  {
   "cell_type": "code",
   "execution_count": 6,
   "id": "d82e0076-7cd3-4b2c-9075-5028465cb997",
   "metadata": {},
   "outputs": [
    {
     "name": "stdout",
     "output_type": "stream",
     "text": [
      "1200\n"
     ]
    }
   ],
   "source": [
    "# case 12\n",
    "\n",
    "b21=200\n",
    "def add21(a21=1000):\n",
    "    add1=a21+b21\n",
    "    print(add1)\n",
    "a21=6000\n",
    "add21()\n",
    "a21=6000"
   ]
  },
  {
   "cell_type": "markdown",
   "id": "b3148d2d-b57c-4060-b7a5-cce8247dd180",
   "metadata": {},
   "source": [
    "# 03.03/2024"
   ]
  },
  {
   "cell_type": "code",
   "execution_count": 36,
   "id": "66dd160c-6e2c-41e8-b9e9-195f763d60d2",
   "metadata": {
    "scrolled": true
   },
   "outputs": [
    {
     "ename": "UnboundLocalError",
     "evalue": "cannot access local variable 'h' where it is not associated with a value",
     "output_type": "error",
     "traceback": [
      "\u001b[1;31m---------------------------------------------------------------------------\u001b[0m",
      "\u001b[1;31mUnboundLocalError\u001b[0m                         Traceback (most recent call last)",
      "Cell \u001b[1;32mIn[36], line 5\u001b[0m\n\u001b[0;32m      3\u001b[0m     h\u001b[38;5;241m=\u001b[39mh\u001b[38;5;241m+\u001b[39m\u001b[38;5;241m10\u001b[39m\n\u001b[0;32m      4\u001b[0m     \u001b[38;5;28mprint\u001b[39m(h)\n\u001b[1;32m----> 5\u001b[0m addition()\n",
      "Cell \u001b[1;32mIn[36], line 3\u001b[0m, in \u001b[0;36maddition\u001b[1;34m()\u001b[0m\n\u001b[0;32m      2\u001b[0m \u001b[38;5;28;01mdef\u001b[39;00m \u001b[38;5;21maddition\u001b[39m():\n\u001b[1;32m----> 3\u001b[0m     h\u001b[38;5;241m=\u001b[39mh\u001b[38;5;241m+\u001b[39m\u001b[38;5;241m10\u001b[39m\n\u001b[0;32m      4\u001b[0m     \u001b[38;5;28mprint\u001b[39m(h)\n",
      "\u001b[1;31mUnboundLocalError\u001b[0m: cannot access local variable 'h' where it is not associated with a value"
     ]
    }
   ],
   "source": [
    "h=10\n",
    "def addition():\n",
    "    h=h+10\n",
    "    print(h)\n",
    "addition()"
   ]
  },
  {
   "cell_type": "code",
   "execution_count": 4,
   "id": "0f9216f9-3d2b-4890-880a-33642fd55114",
   "metadata": {},
   "outputs": [
    {
     "ename": "NameError",
     "evalue": "name 'd' is not defined",
     "output_type": "error",
     "traceback": [
      "\u001b[1;31m---------------------------------------------------------------------------\u001b[0m",
      "\u001b[1;31mNameError\u001b[0m                                 Traceback (most recent call last)",
      "Cell \u001b[1;32mIn[4], line 5\u001b[0m\n\u001b[0;32m      3\u001b[0m     h\u001b[38;5;241m=\u001b[39md\u001b[38;5;241m+\u001b[39m\u001b[38;5;241m10\u001b[39m\n\u001b[0;32m      4\u001b[0m     \u001b[38;5;28mprint\u001b[39m(h)\n\u001b[1;32m----> 5\u001b[0m addition()\n",
      "Cell \u001b[1;32mIn[4], line 3\u001b[0m, in \u001b[0;36maddition\u001b[1;34m()\u001b[0m\n\u001b[0;32m      2\u001b[0m \u001b[38;5;28;01mdef\u001b[39;00m \u001b[38;5;21maddition\u001b[39m():\n\u001b[1;32m----> 3\u001b[0m     h\u001b[38;5;241m=\u001b[39md\u001b[38;5;241m+\u001b[39m\u001b[38;5;241m10\u001b[39m\n\u001b[0;32m      4\u001b[0m     \u001b[38;5;28mprint\u001b[39m(h)\n",
      "\u001b[1;31mNameError\u001b[0m: name 'd' is not defined"
     ]
    }
   ],
   "source": [
    "h=10\n",
    "def addition():\n",
    "    h=d+10\n",
    "    print(h)\n",
    "addition()"
   ]
  },
  {
   "cell_type": "code",
   "execution_count": 5,
   "id": "b47c0648-35df-41bc-9ccf-d2caebec27ef",
   "metadata": {},
   "outputs": [
    {
     "name": "stdout",
     "output_type": "stream",
     "text": [
      "20\n"
     ]
    }
   ],
   "source": [
    "h=10\n",
    "def addition():\n",
    "    d=h+10\n",
    "    print(d)\n",
    "addition()"
   ]
  },
  {
   "cell_type": "code",
   "execution_count": 7,
   "id": "da78eea7-5b09-4ff6-a030-a1f182aaead4",
   "metadata": {},
   "outputs": [
    {
     "ename": "UnboundLocalError",
     "evalue": "cannot access local variable 's' where it is not associated with a value",
     "output_type": "error",
     "traceback": [
      "\u001b[1;31m---------------------------------------------------------------------------\u001b[0m",
      "\u001b[1;31mUnboundLocalError\u001b[0m                         Traceback (most recent call last)",
      "Cell \u001b[1;32mIn[7], line 6\u001b[0m\n\u001b[0;32m      4\u001b[0m     s\u001b[38;5;241m=\u001b[39mc\n\u001b[0;32m      5\u001b[0m     \u001b[38;5;28mprint\u001b[39m(s)\n\u001b[1;32m----> 6\u001b[0m addition()\n",
      "Cell \u001b[1;32mIn[7], line 3\u001b[0m, in \u001b[0;36maddition\u001b[1;34m()\u001b[0m\n\u001b[0;32m      2\u001b[0m \u001b[38;5;28;01mdef\u001b[39;00m \u001b[38;5;21maddition\u001b[39m():\n\u001b[1;32m----> 3\u001b[0m     c\u001b[38;5;241m=\u001b[39ms\u001b[38;5;241m+\u001b[39m\u001b[38;5;241m10\u001b[39m \u001b[38;5;66;03m# local variable\u001b[39;00m\n\u001b[0;32m      4\u001b[0m     s\u001b[38;5;241m=\u001b[39mc\n\u001b[0;32m      5\u001b[0m     \u001b[38;5;28mprint\u001b[39m(s)\n",
      "\u001b[1;31mUnboundLocalError\u001b[0m: cannot access local variable 's' where it is not associated with a value"
     ]
    }
   ],
   "source": [
    "s=10   # global variable\n",
    "def addition():\n",
    "    c=s+10 # local variable\n",
    "    s=c\n",
    "    print(s)\n",
    "addition()"
   ]
  },
  {
   "cell_type": "code",
   "execution_count": 8,
   "id": "17cc3c2f-3a0a-44f6-be6b-ffc8cf8961c1",
   "metadata": {},
   "outputs": [
    {
     "name": "stdout",
     "output_type": "stream",
     "text": [
      "100 200 300\n"
     ]
    }
   ],
   "source": [
    "n1=10\n",
    "def addition():\n",
    "    n1=100\n",
    "    n2=200\n",
    "    n3=n1+n2\n",
    "    print(n1,n2,n3)\n",
    "addition()"
   ]
  },
  {
   "cell_type": "markdown",
   "id": "8db556a9-e658-47e6-b1e1-676b48146272",
   "metadata": {},
   "source": [
    "# ***note***\n",
    "\n",
    "- if you give same varaibale as global and local\n",
    "- make sure that ,thet variable should not use as value inside the function"
   ]
  },
  {
   "cell_type": "code",
   "execution_count": 9,
   "id": "6e9c1bb2-f57a-481d-95b0-eccc9e88f806",
   "metadata": {},
   "outputs": [
    {
     "ename": "UnboundLocalError",
     "evalue": "cannot access local variable 'n1' where it is not associated with a value",
     "output_type": "error",
     "traceback": [
      "\u001b[1;31m---------------------------------------------------------------------------\u001b[0m",
      "\u001b[1;31mUnboundLocalError\u001b[0m                         Traceback (most recent call last)",
      "Cell \u001b[1;32mIn[9], line 7\u001b[0m\n\u001b[0;32m      5\u001b[0m     n3\u001b[38;5;241m=\u001b[39mn1\u001b[38;5;241m+\u001b[39mn2\n\u001b[0;32m      6\u001b[0m     \u001b[38;5;28mprint\u001b[39m(n1,n2,n3)\n\u001b[1;32m----> 7\u001b[0m addition()\n",
      "Cell \u001b[1;32mIn[9], line 3\u001b[0m, in \u001b[0;36maddition\u001b[1;34m()\u001b[0m\n\u001b[0;32m      2\u001b[0m \u001b[38;5;28;01mdef\u001b[39;00m \u001b[38;5;21maddition\u001b[39m():\n\u001b[1;32m----> 3\u001b[0m     n1\u001b[38;5;241m=\u001b[39m\u001b[38;5;241m100\u001b[39m\u001b[38;5;241m+\u001b[39mn1\n\u001b[0;32m      4\u001b[0m     n2\u001b[38;5;241m=\u001b[39m\u001b[38;5;241m200\u001b[39m\n\u001b[0;32m      5\u001b[0m     n3\u001b[38;5;241m=\u001b[39mn1\u001b[38;5;241m+\u001b[39mn2\n",
      "\u001b[1;31mUnboundLocalError\u001b[0m: cannot access local variable 'n1' where it is not associated with a value"
     ]
    }
   ],
   "source": [
    "n1=10\n",
    "def addition():\n",
    "    n1=100+n1\n",
    "    n2=200\n",
    "    n3=n1+n2\n",
    "    print(n1,n2,n3)\n",
    "addition()"
   ]
  },
  {
   "cell_type": "code",
   "execution_count": 12,
   "id": "0a456a95-6548-46f2-8c5b-e4a414007dcb",
   "metadata": {},
   "outputs": [
    {
     "name": "stdout",
     "output_type": "stream",
     "text": [
      "100 110 210\n"
     ]
    }
   ],
   "source": [
    "n11=100\n",
    "def addition():\n",
    "    n22=10+n11\n",
    "    n33=n11+n22\n",
    "    print(n11,n22,n33)\n",
    "addition()\n",
    "\n",
    "#step 1 = n1 -10\n",
    "\n",
    "# step2 define the function\n",
    "\n",
    "# step 3 call the function\n",
    "# step 4 "
   ]
  },
  {
   "cell_type": "code",
   "execution_count": 13,
   "id": "10291eeb-0cfd-494f-9d53-17a11e192956",
   "metadata": {},
   "outputs": [
    {
     "ename": "UnboundLocalError",
     "evalue": "cannot access local variable 's' where it is not associated with a value",
     "output_type": "error",
     "traceback": [
      "\u001b[1;31m---------------------------------------------------------------------------\u001b[0m",
      "\u001b[1;31mUnboundLocalError\u001b[0m                         Traceback (most recent call last)",
      "Cell \u001b[1;32mIn[13], line 6\u001b[0m\n\u001b[0;32m      4\u001b[0m     s\u001b[38;5;241m=\u001b[39mc\n\u001b[0;32m      5\u001b[0m     \u001b[38;5;28mprint\u001b[39m(c)\n\u001b[1;32m----> 6\u001b[0m add()\n",
      "Cell \u001b[1;32mIn[13], line 3\u001b[0m, in \u001b[0;36madd\u001b[1;34m()\u001b[0m\n\u001b[0;32m      2\u001b[0m \u001b[38;5;28;01mdef\u001b[39;00m \u001b[38;5;21madd\u001b[39m():\n\u001b[1;32m----> 3\u001b[0m     c\u001b[38;5;241m=\u001b[39ms\u001b[38;5;241m+\u001b[39m\u001b[38;5;241m10\u001b[39m\n\u001b[0;32m      4\u001b[0m     s\u001b[38;5;241m=\u001b[39mc\n\u001b[0;32m      5\u001b[0m     \u001b[38;5;28mprint\u001b[39m(c)\n",
      "\u001b[1;31mUnboundLocalError\u001b[0m: cannot access local variable 's' where it is not associated with a value"
     ]
    }
   ],
   "source": [
    "s=0\n",
    "def add():\n",
    "    c=s+10\n",
    "    s=c\n",
    "    print(c)\n",
    "add()\n",
    "\n",
    "\n",
    "# s=0 gv\n"
   ]
  },
  {
   "cell_type": "code",
   "execution_count": 14,
   "id": "f606caf0-c2e4-491b-ac42-1afc7bc9ee57",
   "metadata": {},
   "outputs": [
    {
     "name": "stdout",
     "output_type": "stream",
     "text": [
      "hello\n"
     ]
    }
   ],
   "source": [
    "value=100\n",
    "def greet ():\n",
    "    value=200\n",
    "    print('hello')\n",
    "greet()"
   ]
  },
  {
   "cell_type": "code",
   "execution_count": 16,
   "id": "513335bd-f85a-4a43-962d-a1997bfae2ac",
   "metadata": {},
   "outputs": [
    {
     "data": {
      "text/plain": [
       "100"
      ]
     },
     "execution_count": 16,
     "metadata": {},
     "output_type": "execute_result"
    }
   ],
   "source": [
    "value"
   ]
  },
  {
   "cell_type": "markdown",
   "id": "0b903bf3-2508-467b-857c-5ac3b2b78942",
   "metadata": {},
   "source": [
    "# global "
   ]
  },
  {
   "cell_type": "code",
   "execution_count": 19,
   "id": "39bc2b11-3d10-4a42-bfb5-525f918acc66",
   "metadata": {},
   "outputs": [
    {
     "name": "stdout",
     "output_type": "stream",
     "text": [
      "hello\n",
      "200\n"
     ]
    }
   ],
   "source": [
    "value=100\n",
    "def greet ():\n",
    "    global value\n",
    "    value=200\n",
    "    print('hello')\n",
    "greet()\n",
    "print(value)"
   ]
  },
  {
   "cell_type": "code",
   "execution_count": 29,
   "id": "433297da-7db9-4ef2-a75b-1fed4935fc88",
   "metadata": {},
   "outputs": [
    {
     "name": "stdout",
     "output_type": "stream",
     "text": [
      "10 210 220\n",
      "n22 value = 210\n",
      "n33 value = 220\n"
     ]
    }
   ],
   "source": [
    "n11=10\n",
    "def addition():\n",
    "    global n22\n",
    "    n22=200+n11\n",
    "    global n33\n",
    "    n33=n11+n22\n",
    "    print(n11,n22,n33)\n",
    "addition()\n",
    "print('n22 value =',n22)\n",
    "print('n33 value =',n33)"
   ]
  },
  {
   "cell_type": "code",
   "execution_count": 23,
   "id": "4421ed9a-affa-45e4-9cb5-87dd43acb07a",
   "metadata": {},
   "outputs": [
    {
     "data": {
      "text/plain": [
       "220"
      ]
     },
     "execution_count": 23,
     "metadata": {},
     "output_type": "execute_result"
    }
   ],
   "source": [
    "n33"
   ]
  },
  {
   "cell_type": "code",
   "execution_count": 28,
   "id": "e43b2bfb-7b36-4fd6-9f1a-008bd2c4d303",
   "metadata": {},
   "outputs": [
    {
     "data": {
      "text/plain": [
       "210"
      ]
     },
     "execution_count": 28,
     "metadata": {},
     "output_type": "execute_result"
    }
   ],
   "source": [
    "n22"
   ]
  },
  {
   "cell_type": "code",
   "execution_count": 38,
   "id": "697b4ea3-b6f5-4fe4-be96-bf78f3d958f5",
   "metadata": {},
   "outputs": [
    {
     "name": "stdout",
     "output_type": "stream",
     "text": [
      "10 210 220\n",
      "n22 value = 210\n",
      "n33 value = 220\n"
     ]
    }
   ],
   "source": [
    "n111=10\n",
    "def addition():\n",
    "    global n222,n333   # we can write side by side also put an comma to it we dont write global that many times.\n",
    "    n222=200+n111\n",
    "    n333=n11+n22\n",
    "    print(n111,n222,n333)\n",
    "addition()\n",
    "print('n22 value =',n222)\n",
    "print('n33 value =',n333)"
   ]
  },
  {
   "cell_type": "markdown",
   "id": "3301f76d-194b-438d-88bc-0e4f03fa6b73",
   "metadata": {},
   "source": [
    "- outside the function called global variables\n",
    "- inside the functuon iscalled local varibales\n",
    "- local variables cannot use outside the function \n",
    "- if you want use outside the function use ***global*** keyword"
   ]
  },
  {
   "cell_type": "code",
   "execution_count": 46,
   "id": "77f1ba3c-ab8c-481e-a4de-4dd2385802b0",
   "metadata": {},
   "outputs": [
    {
     "name": "stdin",
     "output_type": "stream",
     "text": [
      "emter the number1= 10\n",
      "emter the number1= 20\n"
     ]
    },
    {
     "name": "stdout",
     "output_type": "stream",
     "text": [
      "200\n"
     ]
    }
   ],
   "source": [
    "def mul(a,b):\n",
    "    print(a*b)\n",
    "mul(eval(input('emter the number1=')),eval(input('emter the number1=')))"
   ]
  },
  {
   "cell_type": "markdown",
   "id": "ad1001f6-efe9-48e1-9639-f2cb4006759a",
   "metadata": {},
   "source": [
    "# return "
   ]
  },
  {
   "cell_type": "markdown",
   "id": "232d6479-2e2f-4464-bed5-610591c6b8ee",
   "metadata": {},
   "source": [
    "- we can use the local variable values or function outputs outside the function using return.\n",
    "- print is different return is different.\n",
    "- print is used to only to print the values means that value is cannot use outside only you can see only\n",
    "- if you want to use outside we will use return( it is also possible by using global)"
   ]
  },
  {
   "cell_type": "code",
   "execution_count": 55,
   "id": "7866d2e9-2f0c-44b3-b511-8e34ce556eed",
   "metadata": {},
   "outputs": [
    {
     "name": "stdout",
     "output_type": "stream",
     "text": [
      "20.0\n"
     ]
    }
   ],
   "source": [
    "def average():\n",
    "    n1=10\n",
    "    n2=20\n",
    "    n3=30\n",
    "    avg=(n1+n2+n3)/3\n",
    "    print(avg)\n",
    "average()"
   ]
  },
  {
   "cell_type": "code",
   "execution_count": 56,
   "id": "79e9048f-1729-4035-b766-edebf343918b",
   "metadata": {},
   "outputs": [
    {
     "data": {
      "text/plain": [
       "20.0"
      ]
     },
     "execution_count": 56,
     "metadata": {},
     "output_type": "execute_result"
    }
   ],
   "source": [
    "avg"
   ]
  },
  {
   "cell_type": "code",
   "execution_count": 66,
   "id": "6450e67e-d708-45a6-9cd0-94dad2735046",
   "metadata": {},
   "outputs": [],
   "source": [
    "def average():\n",
    "    n1=10\n",
    "    n2=20\n",
    "    n3=30\n",
    "    avg=(n1+n2+n3)/3\n",
    "    return(avg,n3)\n",
    "avg,n3=average()\n",
    "\n",
    "# functions is ready to return values to me\n",
    "# so i need to store the values "
   ]
  },
  {
   "cell_type": "code",
   "execution_count": 65,
   "id": "3d1932ca-0230-4486-8570-25a2581a5eff",
   "metadata": {},
   "outputs": [
    {
     "data": {
      "text/plain": [
       "(20.0, 30)"
      ]
     },
     "execution_count": 65,
     "metadata": {},
     "output_type": "execute_result"
    }
   ],
   "source": [
    "avg"
   ]
  },
  {
   "cell_type": "code",
   "execution_count": 67,
   "id": "d935f860-f350-4e58-8b43-a6b6426d3541",
   "metadata": {},
   "outputs": [
    {
     "data": {
      "text/plain": [
       "(20.0, 30)"
      ]
     },
     "execution_count": 67,
     "metadata": {},
     "output_type": "execute_result"
    }
   ],
   "source": [
    "avg,n3"
   ]
  },
  {
   "cell_type": "code",
   "execution_count": 68,
   "id": "fcba4ce1-a36c-4d8f-8340-76d3788dd163",
   "metadata": {},
   "outputs": [
    {
     "name": "stdout",
     "output_type": "stream",
     "text": [
      "20.0\n",
      "30\n"
     ]
    }
   ],
   "source": [
    "print(avg)\n",
    "print(n3)"
   ]
  },
  {
   "cell_type": "markdown",
   "id": "7d53dfd8-20c6-4dad-8e33-ece580934cf8",
   "metadata": {},
   "source": [
    "- how many values we are returing\n",
    "- we will store return values in different varaibles\n",
    "- beacuse two values are different\n",
    "- if you store only variable to store = tuple values "
   ]
  },
  {
   "cell_type": "code",
   "execution_count": 84,
   "id": "ca1c55f7-812a-45e4-9020-e544e38d93b9",
   "metadata": {},
   "outputs": [
    {
     "name": "stdout",
     "output_type": "stream",
     "text": [
      "10 20 10\n"
     ]
    }
   ],
   "source": [
    "def sub():\n",
    "    a=10\n",
    "    b=20\n",
    "    subb=b-a\n",
    "    return(a,b,subb)\n",
    "a,b,subb=sub()\n",
    "print(a,b,subb)"
   ]
  },
  {
   "cell_type": "code",
   "execution_count": 74,
   "id": "c3b1c068-7aa8-4cd3-855b-4f777a5afb5a",
   "metadata": {},
   "outputs": [
    {
     "data": {
      "text/plain": [
       "10"
      ]
     },
     "execution_count": 74,
     "metadata": {},
     "output_type": "execute_result"
    }
   ],
   "source": [
    "subb"
   ]
  },
  {
   "cell_type": "markdown",
   "id": "a40f9b16-ec37-4f07-9a19-948a00420855",
   "metadata": {},
   "source": [
    "- return is always at last line of the function not in middle lines ."
   ]
  },
  {
   "cell_type": "code",
   "execution_count": 85,
   "id": "9c73c435-c613-49d3-9920-280b6867cb2e",
   "metadata": {},
   "outputs": [],
   "source": [
    "def sub():\n",
    "    a=10\n",
    "    b=20\n",
    "    subb=b-a\n",
    "    return(a,b,subb)\n",
    "out=sub()            # out is an word used to print all numbers \n",
    "#print(a,b,subb)"
   ]
  },
  {
   "cell_type": "code",
   "execution_count": 86,
   "id": "dad6161b-2544-48d3-9030-b3251709ee09",
   "metadata": {},
   "outputs": [
    {
     "data": {
      "text/plain": [
       "(10, 20, 10)"
      ]
     },
     "execution_count": 86,
     "metadata": {},
     "output_type": "execute_result"
    }
   ],
   "source": [
    "out"
   ]
  },
  {
   "cell_type": "markdown",
   "id": "2b550731-239a-476e-afa8-caa2278419d4",
   "metadata": {},
   "source": [
    "- without arguments\n",
    "- with arguments\n",
    "- default aruguments\n",
    "- local vs global\n",
    "- global keywords\n",
    "- return\n",
    "- function in function"
   ]
  },
  {
   "cell_type": "markdown",
   "id": "ca3695bf-4f6c-48b4-b6f3-bf84ded427d8",
   "metadata": {},
   "source": [
    "# un-bound local error"
   ]
  },
  {
   "cell_type": "code",
   "execution_count": 2,
   "id": "97a9c8f7-d75e-4fbe-8003-76dcd6492e43",
   "metadata": {},
   "outputs": [
    {
     "name": "stdout",
     "output_type": "stream",
     "text": [
      "100\n"
     ]
    }
   ],
   "source": [
    "num=10    #global variable\n",
    "def fun1():\n",
    "    num=100         # local variable\n",
    "    print('inside function',num)\n",
    "fun1()"
   ]
  },
  {
   "cell_type": "code",
   "execution_count": 5,
   "id": "b80d1489-4136-49cb-96e1-906ec8979cf7",
   "metadata": {},
   "outputs": [
    {
     "ename": "UnboundLocalError",
     "evalue": "cannot access local variable 'num2' where it is not associated with a value",
     "output_type": "error",
     "traceback": [
      "\u001b[1;31m---------------------------------------------------------------------------\u001b[0m",
      "\u001b[1;31mUnboundLocalError\u001b[0m                         Traceback (most recent call last)",
      "Cell \u001b[1;32mIn[5], line 5\u001b[0m\n\u001b[0;32m      3\u001b[0m     \u001b[38;5;28mprint\u001b[39m(num2)\n\u001b[0;32m      4\u001b[0m     num2\u001b[38;5;241m=\u001b[39m\u001b[38;5;241m100\u001b[39m\n\u001b[1;32m----> 5\u001b[0m fun2()\n",
      "Cell \u001b[1;32mIn[5], line 3\u001b[0m, in \u001b[0;36mfun2\u001b[1;34m()\u001b[0m\n\u001b[0;32m      2\u001b[0m \u001b[38;5;28;01mdef\u001b[39;00m \u001b[38;5;21mfun2\u001b[39m():\n\u001b[1;32m----> 3\u001b[0m     \u001b[38;5;28mprint\u001b[39m(num2)\n\u001b[0;32m      4\u001b[0m     num2\u001b[38;5;241m=\u001b[39m\u001b[38;5;241m100\u001b[39m\n",
      "\u001b[1;31mUnboundLocalError\u001b[0m: cannot access local variable 'num2' where it is not associated with a value"
     ]
    }
   ],
   "source": [
    "num2=10\n",
    "def fun2():\n",
    "    print(num2)\n",
    "    num2=100\n",
    "fun2()\n",
    "\n",
    "# name error will come\n",
    "# local variable and global variable both names are same\n",
    "# you are trying to access local variables before assign"
   ]
  },
  {
   "cell_type": "code",
   "execution_count": 6,
   "id": "bf736a81-2344-4ecd-9bc4-5cbed7919dd2",
   "metadata": {},
   "outputs": [
    {
     "name": "stdout",
     "output_type": "stream",
     "text": [
      "30\n"
     ]
    }
   ],
   "source": [
    "a=10\n",
    "b=20\n",
    "def add():\n",
    "    add1=a+b\n",
    "    print(add1)\n",
    "add()\n",
    "\n",
    "# here no local variables as same name as global variables"
   ]
  },
  {
   "cell_type": "code",
   "execution_count": 8,
   "id": "68e96bd5-30c5-48ec-aaa6-ec77e9fe02cf",
   "metadata": {},
   "outputs": [
    {
     "name": "stdout",
     "output_type": "stream",
     "text": [
      "300\n"
     ]
    }
   ],
   "source": [
    "a=10\n",
    "b=20\n",
    "def add11():\n",
    "    a=100\n",
    "    b=200\n",
    "    add12=a+b\n",
    "    print(add12)\n",
    "add11()\n",
    "\n",
    "# here we are instilizing local variables names as same as local varibales \n",
    "# we are using "
   ]
  },
  {
   "cell_type": "code",
   "execution_count": 9,
   "id": "0449e9ac-84f8-47cd-98d9-4fa7e6454935",
   "metadata": {},
   "outputs": [
    {
     "ename": "UnboundLocalError",
     "evalue": "cannot access local variable 'a' where it is not associated with a value",
     "output_type": "error",
     "traceback": [
      "\u001b[1;31m---------------------------------------------------------------------------\u001b[0m",
      "\u001b[1;31mUnboundLocalError\u001b[0m                         Traceback (most recent call last)",
      "Cell \u001b[1;32mIn[9], line 8\u001b[0m\n\u001b[0;32m      6\u001b[0m     b\u001b[38;5;241m=\u001b[39m\u001b[38;5;241m200\u001b[39m\n\u001b[0;32m      7\u001b[0m     \u001b[38;5;28mprint\u001b[39m(add123)\n\u001b[1;32m----> 8\u001b[0m add111()\n",
      "Cell \u001b[1;32mIn[9], line 4\u001b[0m, in \u001b[0;36madd111\u001b[1;34m()\u001b[0m\n\u001b[0;32m      3\u001b[0m \u001b[38;5;28;01mdef\u001b[39;00m \u001b[38;5;21madd111\u001b[39m():\n\u001b[1;32m----> 4\u001b[0m     add122\u001b[38;5;241m=\u001b[39ma\u001b[38;5;241m+\u001b[39mb\n\u001b[0;32m      5\u001b[0m     a\u001b[38;5;241m=\u001b[39m\u001b[38;5;241m100\u001b[39m\n\u001b[0;32m      6\u001b[0m     b\u001b[38;5;241m=\u001b[39m\u001b[38;5;241m200\u001b[39m\n",
      "\u001b[1;31mUnboundLocalError\u001b[0m: cannot access local variable 'a' where it is not associated with a value"
     ]
    }
   ],
   "source": [
    "a=10\n",
    "b=20\n",
    "def add111():\n",
    "    add122=a+b\n",
    "    a=100\n",
    "    b=200\n",
    "    print(add123)\n",
    "add111()\n",
    "\n",
    "# we are instilizing local as global and we are instilizing before ."
   ]
  },
  {
   "cell_type": "code",
   "execution_count": 10,
   "id": "b5977821-6c1c-4a1f-adad-9ba17734d1dc",
   "metadata": {},
   "outputs": [
    {
     "ename": "NameError",
     "evalue": "name 'add123' is not defined",
     "output_type": "error",
     "traceback": [
      "\u001b[1;31m---------------------------------------------------------------------------\u001b[0m",
      "\u001b[1;31mNameError\u001b[0m                                 Traceback (most recent call last)",
      "Cell \u001b[1;32mIn[10], line 8\u001b[0m\n\u001b[0;32m      6\u001b[0m     b1\u001b[38;5;241m=\u001b[39m\u001b[38;5;241m200\u001b[39m\n\u001b[0;32m      7\u001b[0m     \u001b[38;5;28mprint\u001b[39m(add123)\n\u001b[1;32m----> 8\u001b[0m add111()\n",
      "Cell \u001b[1;32mIn[10], line 7\u001b[0m, in \u001b[0;36madd111\u001b[1;34m()\u001b[0m\n\u001b[0;32m      5\u001b[0m a1\u001b[38;5;241m=\u001b[39m\u001b[38;5;241m100\u001b[39m\n\u001b[0;32m      6\u001b[0m b1\u001b[38;5;241m=\u001b[39m\u001b[38;5;241m200\u001b[39m\n\u001b[1;32m----> 7\u001b[0m \u001b[38;5;28mprint\u001b[39m(add123)\n",
      "\u001b[1;31mNameError\u001b[0m: name 'add123' is not defined"
     ]
    }
   ],
   "source": [
    "a=10\n",
    "b=20\n",
    "def add111():\n",
    "    add122=a+b\n",
    "    a1=100\n",
    "    b1=200\n",
    "    print(add123)\n",
    "add111()"
   ]
  },
  {
   "cell_type": "code",
   "execution_count": 11,
   "id": "69f91b44-690e-471c-ad83-8ee66cec1b2e",
   "metadata": {},
   "outputs": [
    {
     "name": "stdout",
     "output_type": "stream",
     "text": [
      "300\n"
     ]
    }
   ],
   "source": [
    "a=10\n",
    "b=20\n",
    "def add111():\n",
    "    a1=100\n",
    "    b1=200\n",
    "    add122=a1+b1\n",
    "    print(add122)\n",
    "add111()"
   ]
  },
  {
   "cell_type": "markdown",
   "id": "93c3f51e-ff8c-4e78-9684-c172e003dbde",
   "metadata": {},
   "source": [
    "**no error cases**\n",
    "\n",
    "- here no local variables as same as global variables\n",
    "- we are instilizing lv names as gv\n",
    "- we are using lv after instilizing\n",
    "\n",
    "**error cases**\n",
    "\n",
    "- we are instilizing lv names as gv\n",
    "- we are unsing lv before instilizing"
   ]
  },
  {
   "cell_type": "code",
   "execution_count": 14,
   "id": "20d2fd19-7062-41d1-8a61-a065bce03153",
   "metadata": {
    "scrolled": true
   },
   "outputs": [
    {
     "ename": "NameError",
     "evalue": "name 'a21' is not defined",
     "output_type": "error",
     "traceback": [
      "\u001b[1;31m---------------------------------------------------------------------------\u001b[0m",
      "\u001b[1;31mNameError\u001b[0m                                 Traceback (most recent call last)",
      "Cell \u001b[1;32mIn[14], line 5\u001b[0m\n\u001b[0;32m      3\u001b[0m     add1\u001b[38;5;241m=\u001b[39ma21\u001b[38;5;241m+\u001b[39mb21\n\u001b[0;32m      4\u001b[0m     \u001b[38;5;28mprint\u001b[39m(add1)\n\u001b[1;32m----> 5\u001b[0m (add21())\n\u001b[0;32m      6\u001b[0m a\u001b[38;5;241m=\u001b[39m\u001b[38;5;241m6000\u001b[39m\n",
      "Cell \u001b[1;32mIn[14], line 3\u001b[0m, in \u001b[0;36madd21\u001b[1;34m()\u001b[0m\n\u001b[0;32m      2\u001b[0m \u001b[38;5;28;01mdef\u001b[39;00m \u001b[38;5;21madd21\u001b[39m():\n\u001b[1;32m----> 3\u001b[0m     add1\u001b[38;5;241m=\u001b[39ma21\u001b[38;5;241m+\u001b[39mb21\n\u001b[0;32m      4\u001b[0m     \u001b[38;5;28mprint\u001b[39m(add1)\n",
      "\u001b[1;31mNameError\u001b[0m: name 'a21' is not defined"
     ]
    }
   ],
   "source": [
    "b21=200\n",
    "def add21():\n",
    "    add1=a21+b21\n",
    "    print(add1)\n",
    "(add21())\n",
    "a=6000"
   ]
  },
  {
   "cell_type": "code",
   "execution_count": 15,
   "id": "9a4b8235-0439-4b1a-9889-f6d8d2659776",
   "metadata": {},
   "outputs": [
    {
     "name": "stdout",
     "output_type": "stream",
     "text": [
      "300\n"
     ]
    }
   ],
   "source": [
    "b21=200\n",
    "def add21():\n",
    "    a21=100\n",
    "    add1=a21+b21\n",
    "    print(add1)\n",
    "(add21())\n",
    "a=6000"
   ]
  },
  {
   "cell_type": "markdown",
   "id": "2769ccdd-068a-4ab6-8472-d853eb5ca675",
   "metadata": {},
   "source": [
    "***steps to functions***\n",
    "- global variable instilizing\n",
    "- define the functiom\n",
    "- call the functon\n",
    "- run the funtion"
   ]
  },
  {
   "cell_type": "markdown",
   "id": "7bec3ea1-9f45-41f5-83d1-b93fa85d27de",
   "metadata": {},
   "source": [
    "# functions in functions"
   ]
  },
  {
   "cell_type": "code",
   "execution_count": 16,
   "id": "5ece9430-f0ab-48ba-90ec-6640455d269e",
   "metadata": {},
   "outputs": [
    {
     "name": "stdout",
     "output_type": "stream",
     "text": [
      "hello good morning\n",
      "good night\n"
     ]
    }
   ],
   "source": [
    "def greet1():\n",
    "    print('hello good morning')\n",
    "\n",
    "def greet2():\n",
    "    print('good night')\n",
    "greet1()\n",
    "greet2()"
   ]
  },
  {
   "cell_type": "code",
   "execution_count": 17,
   "id": "3ee7df58-43f9-4eae-8e49-d687c06a1f8b",
   "metadata": {},
   "outputs": [
    {
     "name": "stdout",
     "output_type": "stream",
     "text": [
      "hello good morning\n",
      "good night\n"
     ]
    }
   ],
   "source": [
    "def greet1():\n",
    "    print('hello good morning')\n",
    "    greet2()\n",
    "def greet2():\n",
    "    print('good night')\n",
    "greet1()"
   ]
  },
  {
   "cell_type": "code",
   "execution_count": 19,
   "id": "05638494-5bf3-4d38-874b-c28a04e77c6c",
   "metadata": {},
   "outputs": [
    {
     "name": "stdout",
     "output_type": "stream",
     "text": [
      "hello good morning\n",
      "hello good night\n",
      "hello good morning\n",
      "hello good night\n",
      "hello good morning\n",
      "hello good night\n",
      "hello good morning\n",
      "hello good night\n",
      "hello good morning\n",
      "hello good night\n",
      "hello good morning\n",
      "hello good night\n",
      "hello good morning\n",
      "hello good night\n",
      "hello good morning\n",
      "hello good night\n",
      "hello good morning\n",
      "hello good night\n",
      "hello good morning\n",
      "hello good night\n",
      "hello good morning\n",
      "hello good night\n",
      "hello good morning\n",
      "hello good night\n",
      "hello good morning\n",
      "hello good night\n",
      "hello good morning\n",
      "hello good night\n",
      "hello good morning\n",
      "hello good night\n",
      "hello good morning\n",
      "hello good night\n",
      "hello good morning\n",
      "hello good night\n",
      "hello good morning\n",
      "hello good night\n",
      "hello good morning\n",
      "hello good night\n",
      "hello good morning\n",
      "hello good night\n",
      "hello good morning\n",
      "hello good night\n",
      "hello good morning\n",
      "hello good night\n",
      "hello good morning\n",
      "hello good night\n",
      "hello good morning\n",
      "hello good night\n",
      "hello good morning\n",
      "hello good night\n",
      "hello good morning\n",
      "hello good night\n",
      "hello good morning\n",
      "hello good night\n",
      "hello good morning\n",
      "hello good night\n",
      "hello good morning\n",
      "hello good night\n",
      "hello good morning\n",
      "hello good night\n",
      "hello good morning\n",
      "hello good night\n",
      "hello good morning\n",
      "hello good night\n",
      "hello good morning\n",
      "hello good night\n",
      "hello good morning\n",
      "hello good night\n",
      "hello good morning\n",
      "hello good night\n",
      "hello good morning\n",
      "hello good night\n",
      "hello good morning\n",
      "hello good night\n",
      "hello good morning\n",
      "hello good night\n",
      "hello good morning\n",
      "hello good night\n",
      "hello good morning\n",
      "hello good night\n",
      "hello good morning\n",
      "hello good night\n",
      "hello good morning\n",
      "hello good night\n",
      "hello good morning\n",
      "hello good night\n",
      "hello good morning\n",
      "hello good night\n",
      "hello good morning\n",
      "hello good night\n",
      "hello good morning\n",
      "hello good night\n",
      "hello good morning\n",
      "hello good night\n",
      "hello good morning\n",
      "hello good night\n",
      "hello good morning\n",
      "hello good night\n",
      "hello good morning\n",
      "hello good night\n",
      "hello good morning\n",
      "hello good night\n",
      "hello good morning\n",
      "hello good night\n",
      "hello good morning\n",
      "hello good night\n",
      "hello good morning\n",
      "hello good night\n",
      "hello good morning\n",
      "hello good night\n",
      "hello good morning\n",
      "hello good night\n",
      "hello good morning\n",
      "hello good night\n",
      "hello good morning\n",
      "hello good night\n",
      "hello good morning\n",
      "hello good night\n",
      "hello good morning\n",
      "hello good night\n",
      "hello good morning\n",
      "hello good night\n",
      "hello good morning\n",
      "hello good night\n",
      "hello good morning\n",
      "hello good night\n",
      "hello good morning\n",
      "hello good night\n",
      "hello good morning\n",
      "hello good night\n",
      "hello good morning\n",
      "hello good night\n",
      "hello good morning\n",
      "hello good night\n",
      "hello good morning\n",
      "hello good night\n",
      "hello good morning\n",
      "hello good night\n",
      "hello good morning\n",
      "hello good night\n",
      "hello good morning\n",
      "hello good night\n",
      "hello good morning\n",
      "hello good night\n",
      "hello good morning\n",
      "hello good night\n",
      "hello good morning\n",
      "hello good night\n",
      "hello good morning\n",
      "hello good night\n",
      "hello good morning\n",
      "hello good night\n",
      "hello good morning\n",
      "hello good night\n",
      "hello good morning\n",
      "hello good night\n",
      "hello good morning\n",
      "hello good night\n",
      "hello good morning\n",
      "hello good night\n",
      "hello good morning\n",
      "hello good night\n",
      "hello good morning\n",
      "hello good night\n",
      "hello good morning\n",
      "hello good night\n",
      "hello good morning\n",
      "hello good night\n",
      "hello good morning\n",
      "hello good night\n",
      "hello good morning\n",
      "hello good night\n",
      "hello good morning\n",
      "hello good night\n",
      "hello good morning\n",
      "hello good night\n",
      "hello good morning\n",
      "hello good night\n",
      "hello good morning\n",
      "hello good night\n",
      "hello good morning\n",
      "hello good night\n",
      "hello good morning\n",
      "hello good night\n",
      "hello good morning\n",
      "hello good night\n",
      "hello good morning\n",
      "hello good night\n",
      "hello good morning\n",
      "hello good night\n",
      "hello good morning\n",
      "hello good night\n",
      "hello good morning\n",
      "hello good night\n",
      "hello good morning\n",
      "hello good night\n",
      "hello good morning\n",
      "hello good night\n",
      "hello good morning\n",
      "hello good night\n",
      "hello good morning\n",
      "hello good night\n",
      "hello good morning\n",
      "hello good night\n",
      "hello good morning\n",
      "hello good night\n",
      "hello good morning\n",
      "hello good night\n",
      "hello good morning\n",
      "hello good night\n",
      "hello good morning\n",
      "hello good night\n",
      "hello good morning\n",
      "hello good night\n",
      "hello good morning\n",
      "hello good night\n",
      "hello good morning\n",
      "hello good night\n",
      "hello good morning\n",
      "hello good night\n",
      "hello good morning\n",
      "hello good night\n",
      "hello good morning\n",
      "hello good night\n",
      "hello good morning\n",
      "hello good night\n",
      "hello good morning\n",
      "hello good night\n",
      "hello good morning\n",
      "hello good night\n",
      "hello good morning\n",
      "hello good night\n",
      "hello good morning\n",
      "hello good night\n",
      "hello good morning\n",
      "hello good night\n",
      "hello good morning\n",
      "hello good night\n",
      "hello good morning\n",
      "hello good night\n",
      "hello good morning\n",
      "hello good night\n",
      "hello good morning\n",
      "hello good night\n",
      "hello good morning\n",
      "hello good night\n",
      "hello good morning\n",
      "hello good night\n",
      "hello good morning\n",
      "hello good night\n",
      "hello good morning\n",
      "hello good night\n",
      "hello good morning\n",
      "hello good night\n",
      "hello good morning\n",
      "hello good night\n",
      "hello good morning\n",
      "hello good night\n",
      "hello good morning\n",
      "hello good night\n",
      "hello good morning\n",
      "hello good night\n",
      "hello good morning\n",
      "hello good night\n",
      "hello good morning\n",
      "hello good night\n",
      "hello good morning\n",
      "hello good night\n",
      "hello good morning\n",
      "hello good night\n",
      "hello good morning\n",
      "hello good night\n",
      "hello good morning\n",
      "hello good night\n",
      "hello good morning\n",
      "hello good night\n",
      "hello good morning\n",
      "hello good night\n",
      "hello good morning\n",
      "hello good night\n",
      "hello good morning\n",
      "hello good night\n",
      "hello good morning\n",
      "hello good night\n",
      "hello good morning\n",
      "hello good night\n",
      "hello good morning\n",
      "hello good night\n",
      "hello good morning\n",
      "hello good night\n",
      "hello good morning\n",
      "hello good night\n",
      "hello good morning\n",
      "hello good night\n",
      "hello good morning\n",
      "hello good night\n",
      "hello good morning\n",
      "hello good night\n",
      "hello good morning\n",
      "hello good night\n",
      "hello good morning\n",
      "hello good night\n",
      "hello good morning\n",
      "hello good night\n",
      "hello good morning\n",
      "hello good night\n",
      "hello good morning\n",
      "hello good night\n",
      "hello good morning\n",
      "hello good night\n",
      "hello good morning\n",
      "hello good night\n",
      "hello good morning\n",
      "hello good night\n",
      "hello good morning\n",
      "hello good night\n",
      "hello good morning\n",
      "hello good night\n",
      "hello good morning\n",
      "hello good night\n",
      "hello good morning\n",
      "hello good night\n",
      "hello good morning\n",
      "hello good night\n",
      "hello good morning\n",
      "hello good night\n",
      "hello good morning\n",
      "hello good night\n",
      "hello good morning\n",
      "hello good night\n",
      "hello good morning\n",
      "hello good night\n",
      "hello good morning\n",
      "hello good night\n",
      "hello good morning\n",
      "hello good night\n",
      "hello good morning\n",
      "hello good night\n",
      "hello good morning\n",
      "hello good night\n",
      "hello good morning\n",
      "hello good night\n",
      "hello good morning\n",
      "hello good night\n",
      "hello good morning\n",
      "hello good night\n",
      "hello good morning\n",
      "hello good night\n",
      "hello good morning\n",
      "hello good night\n",
      "hello good morning\n",
      "hello good night\n",
      "hello good morning\n",
      "hello good night\n",
      "hello good morning\n",
      "hello good night\n",
      "hello good morning\n",
      "hello good night\n",
      "hello good morning\n",
      "hello good night\n",
      "hello good morning\n",
      "hello good night\n",
      "hello good morning\n",
      "hello good night\n",
      "hello good morning\n",
      "hello good night\n",
      "hello good morning\n",
      "hello good night\n",
      "hello good morning\n",
      "hello good night\n",
      "hello good morning\n",
      "hello good night\n",
      "hello good morning\n",
      "hello good night\n",
      "hello good morning\n",
      "hello good night\n",
      "hello good morning\n",
      "hello good night\n",
      "hello good morning\n",
      "hello good night\n",
      "hello good morning\n",
      "hello good night\n",
      "hello good morning\n",
      "hello good night\n",
      "hello good morning\n",
      "hello good night\n",
      "hello good morning\n",
      "hello good night\n",
      "hello good morning\n",
      "hello good night\n",
      "hello good morning\n",
      "hello good night\n",
      "hello good morning\n",
      "hello good night\n",
      "hello good morning\n",
      "hello good night\n",
      "hello good morning\n",
      "hello good night\n",
      "hello good morning\n",
      "hello good night\n",
      "hello good morning\n",
      "hello good night\n",
      "hello good morning\n",
      "hello good night\n",
      "hello good morning\n",
      "hello good night\n",
      "hello good morning\n",
      "hello good night\n",
      "hello good morning\n",
      "hello good night\n",
      "hello good morning\n",
      "hello good night\n",
      "hello good morning\n",
      "hello good night\n",
      "hello good morning\n",
      "hello good night\n",
      "hello good morning\n",
      "hello good night\n",
      "hello good morning\n",
      "hello good night\n",
      "hello good morning\n",
      "hello good night\n",
      "hello good morning\n",
      "hello good night\n",
      "hello good morning\n",
      "hello good night\n",
      "hello good morning\n",
      "hello good night\n",
      "hello good morning\n",
      "hello good night\n",
      "hello good morning\n",
      "hello good night\n",
      "hello good morning\n",
      "hello good night\n",
      "hello good morning\n",
      "hello good night\n",
      "hello good morning\n",
      "hello good night\n",
      "hello good morning\n",
      "hello good night\n",
      "hello good morning\n",
      "hello good night\n",
      "hello good morning\n",
      "hello good night\n",
      "hello good morning\n",
      "hello good night\n",
      "hello good morning\n",
      "hello good night\n",
      "hello good morning\n",
      "hello good night\n",
      "hello good morning\n",
      "hello good night\n",
      "hello good morning\n",
      "hello good night\n",
      "hello good morning\n",
      "hello good night\n",
      "hello good morning\n",
      "hello good night\n",
      "hello good morning\n",
      "hello good night\n",
      "hello good morning\n",
      "hello good night\n",
      "hello good morning\n",
      "hello good night\n",
      "hello good morning\n",
      "hello good night\n",
      "hello good morning\n",
      "hello good night\n",
      "hello good morning\n",
      "hello good night\n",
      "hello good morning\n",
      "hello good night\n",
      "hello good morning\n",
      "hello good night\n",
      "hello good morning\n",
      "hello good night\n",
      "hello good morning\n",
      "hello good night\n",
      "hello good morning\n",
      "hello good night\n",
      "hello good morning\n",
      "hello good night\n",
      "hello good morning\n",
      "hello good night\n",
      "hello good morning\n",
      "hello good night\n",
      "hello good morning\n",
      "hello good night\n",
      "hello good morning\n",
      "hello good night\n",
      "hello good morning\n",
      "hello good night\n",
      "hello good morning\n",
      "hello good night\n",
      "hello good morning\n",
      "hello good night\n",
      "hello good morning\n",
      "hello good night\n",
      "hello good morning\n",
      "hello good night\n",
      "hello good morning\n",
      "hello good night\n",
      "hello good morning\n",
      "hello good night\n",
      "hello good morning\n",
      "hello good night\n",
      "hello good morning\n",
      "hello good night\n",
      "hello good morning\n",
      "hello good night\n",
      "hello good morning\n",
      "hello good night\n",
      "hello good morning\n",
      "hello good night\n",
      "hello good morning\n",
      "hello good night\n",
      "hello good morning\n",
      "hello good night\n",
      "hello good morning\n",
      "hello good night\n",
      "hello good morning\n",
      "hello good night\n",
      "hello good morning\n",
      "hello good night\n",
      "hello good morning\n",
      "hello good night\n",
      "hello good morning\n",
      "hello good night\n",
      "hello good morning\n",
      "hello good night\n",
      "hello good morning\n",
      "hello good night\n",
      "hello good morning\n",
      "hello good night\n",
      "hello good morning\n",
      "hello good night\n",
      "hello good morning\n",
      "hello good night\n",
      "hello good morning\n",
      "hello good night\n",
      "hello good morning\n",
      "hello good night\n",
      "hello good morning\n",
      "hello good night\n",
      "hello good morning\n",
      "hello good night\n",
      "hello good morning\n",
      "hello good night\n",
      "hello good morning\n",
      "hello good night\n",
      "hello good morning\n",
      "hello good night\n",
      "hello good morning\n",
      "hello good night\n",
      "hello good morning\n",
      "hello good night\n",
      "hello good morning\n",
      "hello good night\n",
      "hello good morning\n",
      "hello good night\n",
      "hello good morning\n",
      "hello good night\n",
      "hello good morning\n",
      "hello good night\n",
      "hello good morning\n",
      "hello good night\n",
      "hello good morning\n",
      "hello good night\n",
      "hello good morning\n",
      "hello good night\n",
      "hello good morning\n",
      "hello good night\n",
      "hello good morning\n",
      "hello good night\n",
      "hello good morning\n",
      "hello good night\n",
      "hello good morning\n",
      "hello good night\n",
      "hello good morning\n",
      "hello good night\n",
      "hello good morning\n",
      "hello good night\n",
      "hello good morning\n",
      "hello good night\n",
      "hello good morning\n",
      "hello good night\n",
      "hello good morning\n",
      "hello good night\n",
      "hello good morning\n",
      "hello good night\n",
      "hello good morning\n",
      "hello good night\n",
      "hello good morning\n",
      "hello good night\n",
      "hello good morning\n",
      "hello good night\n",
      "hello good morning\n",
      "hello good night\n",
      "hello good morning\n",
      "hello good night\n",
      "hello good morning\n",
      "hello good night\n",
      "hello good morning\n",
      "hello good night\n",
      "hello good morning\n",
      "hello good night\n",
      "hello good morning\n",
      "hello good night\n",
      "hello good morning\n",
      "hello good night\n",
      "hello good morning\n",
      "hello good night\n",
      "hello good morning\n",
      "hello good night\n",
      "hello good morning\n",
      "hello good night\n",
      "hello good morning\n",
      "hello good night\n",
      "hello good morning\n",
      "hello good night\n",
      "hello good morning\n",
      "hello good night\n",
      "hello good morning\n",
      "hello good night\n",
      "hello good morning\n",
      "hello good night\n",
      "hello good morning\n",
      "hello good night\n",
      "hello good morning\n",
      "hello good night\n",
      "hello good morning\n",
      "hello good night\n",
      "hello good morning\n",
      "hello good night\n",
      "hello good morning\n",
      "hello good night\n",
      "hello good morning\n",
      "hello good night\n",
      "hello good morning\n",
      "hello good night\n",
      "hello good morning\n",
      "hello good night\n",
      "hello good morning\n",
      "hello good night\n",
      "hello good morning\n",
      "hello good night\n",
      "hello good morning\n",
      "hello good night\n",
      "hello good morning\n",
      "hello good night\n",
      "hello good morning\n",
      "hello good night\n",
      "hello good morning\n",
      "hello good night\n",
      "hello good morning\n",
      "hello good night\n",
      "hello good morning\n",
      "hello good night\n",
      "hello good morning\n",
      "hello good night\n",
      "hello good morning\n",
      "hello good night\n",
      "hello good morning\n",
      "hello good night\n",
      "hello good morning\n",
      "hello good night\n",
      "hello good morning\n",
      "hello good night\n",
      "hello good morning\n",
      "hello good night\n",
      "hello good morning\n",
      "hello good night\n",
      "hello good morning\n",
      "hello good night\n",
      "hello good morning\n",
      "hello good night\n",
      "hello good morning\n",
      "hello good night\n",
      "hello good morning\n",
      "hello good night\n",
      "hello good morning\n",
      "hello good night\n",
      "hello good morning\n",
      "hello good night\n",
      "hello good morning\n",
      "hello good night\n",
      "hello good morning\n",
      "hello good night\n",
      "hello good morning\n",
      "hello good night\n",
      "hello good morning\n",
      "hello good night\n",
      "hello good morning\n",
      "hello good night\n",
      "hello good morning\n",
      "hello good night\n",
      "hello good morning\n",
      "hello good night\n",
      "hello good morning\n",
      "hello good night\n",
      "hello good morning\n",
      "hello good night\n",
      "hello good morning\n",
      "hello good night\n",
      "hello good morning\n",
      "hello good night\n",
      "hello good morning\n",
      "hello good night\n",
      "hello good morning\n",
      "hello good night\n",
      "hello good morning\n",
      "hello good night\n",
      "hello good morning\n",
      "hello good night\n",
      "hello good morning\n",
      "hello good night\n",
      "hello good morning\n",
      "hello good night\n",
      "hello good morning\n",
      "hello good night\n",
      "hello good morning\n",
      "hello good night\n",
      "hello good morning\n",
      "hello good night\n",
      "hello good morning\n",
      "hello good night\n",
      "hello good morning\n",
      "hello good night\n",
      "hello good morning\n",
      "hello good night\n",
      "hello good morning\n",
      "hello good night\n",
      "hello good morning\n",
      "hello good night\n",
      "hello good morning\n",
      "hello good night\n",
      "hello good morning\n",
      "hello good night\n",
      "hello good morning\n",
      "hello good night\n",
      "hello good morning\n",
      "hello good night\n",
      "hello good morning\n",
      "hello good night\n",
      "hello good morning\n",
      "hello good night\n",
      "hello good morning\n",
      "hello good night\n",
      "hello good morning\n",
      "hello good night\n",
      "hello good morning\n",
      "hello good night\n",
      "hello good morning\n",
      "hello good night\n",
      "hello good morning\n",
      "hello good night\n",
      "hello good morning\n",
      "hello good night\n",
      "hello good morning\n",
      "hello good night\n",
      "hello good morning\n",
      "hello good night\n",
      "hello good morning\n",
      "hello good night\n",
      "hello good morning\n",
      "hello good night\n",
      "hello good morning\n",
      "hello good night\n",
      "hello good morning\n",
      "hello good night\n",
      "hello good morning\n",
      "hello good night\n",
      "hello good morning\n",
      "hello good night\n",
      "hello good morning\n",
      "hello good night\n",
      "hello good morning\n",
      "hello good night\n",
      "hello good morning\n",
      "hello good night\n",
      "hello good morning\n",
      "hello good night\n",
      "hello good morning\n",
      "hello good night\n",
      "hello good morning\n",
      "hello good night\n",
      "hello good morning\n",
      "hello good night\n",
      "hello good morning\n",
      "hello good night\n",
      "hello good morning\n",
      "hello good night\n",
      "hello good morning\n",
      "hello good night\n",
      "hello good morning\n",
      "hello good night\n",
      "hello good morning\n",
      "hello good night\n",
      "hello good morning\n",
      "hello good night\n",
      "hello good morning\n",
      "hello good night\n",
      "hello good morning\n",
      "hello good night\n",
      "hello good morning\n",
      "hello good night\n",
      "hello good morning\n",
      "hello good night\n",
      "hello good morning\n",
      "hello good night\n",
      "hello good morning\n",
      "hello good night\n",
      "hello good morning\n",
      "hello good night\n",
      "hello good morning\n",
      "hello good night\n",
      "hello good morning\n",
      "hello good night\n",
      "hello good morning\n",
      "hello good night\n",
      "hello good morning\n",
      "hello good night\n",
      "hello good morning\n",
      "hello good night\n",
      "hello good morning\n",
      "hello good night\n",
      "hello good morning\n",
      "hello good night\n",
      "hello good morning\n",
      "hello good night\n",
      "hello good morning\n",
      "hello good night\n",
      "hello good morning\n",
      "hello good night\n",
      "hello good morning\n",
      "hello good night\n",
      "hello good morning\n",
      "hello good night\n",
      "hello good morning\n",
      "hello good night\n",
      "hello good morning\n",
      "hello good night\n",
      "hello good morning\n",
      "hello good night\n",
      "hello good morning\n",
      "hello good night\n",
      "hello good morning\n",
      "hello good night\n",
      "hello good morning\n",
      "hello good night\n",
      "hello good morning\n",
      "hello good night\n",
      "hello good morning\n",
      "hello good night\n",
      "hello good morning\n",
      "hello good night\n",
      "hello good morning\n",
      "hello good night\n",
      "hello good morning\n",
      "hello good night\n",
      "hello good morning\n",
      "hello good night\n",
      "hello good morning\n",
      "hello good night\n",
      "hello good morning\n",
      "hello good night\n",
      "hello good morning\n",
      "hello good night\n",
      "hello good morning\n",
      "hello good night\n",
      "hello good morning\n",
      "hello good night\n",
      "hello good morning\n",
      "hello good night\n",
      "hello good morning\n",
      "hello good night\n",
      "hello good morning\n",
      "hello good night\n",
      "hello good morning\n",
      "hello good night\n",
      "hello good morning\n",
      "hello good night\n",
      "hello good morning\n",
      "hello good night\n",
      "hello good morning\n",
      "hello good night\n",
      "hello good morning\n",
      "hello good night\n",
      "hello good morning\n",
      "hello good night\n",
      "hello good morning\n",
      "hello good night\n",
      "hello good morning\n",
      "hello good night\n",
      "hello good morning\n",
      "hello good night\n",
      "hello good morning\n",
      "hello good night\n",
      "hello good morning\n",
      "hello good night\n",
      "hello good morning\n",
      "hello good night\n",
      "hello good morning\n",
      "hello good night\n",
      "hello good morning\n",
      "hello good night\n",
      "hello good morning\n",
      "hello good night\n",
      "hello good morning\n",
      "hello good night\n",
      "hello good morning\n",
      "hello good night\n",
      "hello good morning\n",
      "hello good night\n",
      "hello good morning\n",
      "hello good night\n",
      "hello good morning\n",
      "hello good night\n",
      "hello good morning\n",
      "hello good night\n",
      "hello good morning\n",
      "hello good night\n",
      "hello good morning\n",
      "hello good night\n",
      "hello good morning\n",
      "hello good night\n",
      "hello good morning\n",
      "hello good night\n",
      "hello good morning\n",
      "hello good night\n",
      "hello good morning\n",
      "hello good night\n",
      "hello good morning\n",
      "hello good night\n",
      "hello good morning\n",
      "hello good night\n",
      "hello good morning\n",
      "hello good night\n",
      "hello good morning\n",
      "hello good night\n",
      "hello good morning\n",
      "hello good night\n",
      "hello good morning\n",
      "hello good night\n",
      "hello good morning\n",
      "hello good night\n",
      "hello good morning\n",
      "hello good night\n",
      "hello good morning\n",
      "hello good night\n",
      "hello good morning\n",
      "hello good night\n",
      "hello good morning\n",
      "hello good night\n",
      "hello good morning\n",
      "hello good night\n",
      "hello good morning\n",
      "hello good night\n",
      "hello good morning\n",
      "hello good night\n",
      "hello good morning\n",
      "hello good night\n",
      "hello good morning\n",
      "hello good night\n",
      "hello good morning\n",
      "hello good night\n",
      "hello good morning\n",
      "hello good night\n",
      "hello good morning\n",
      "hello good night\n",
      "hello good morning\n",
      "hello good night\n",
      "hello good morning\n",
      "hello good night\n",
      "hello good morning\n",
      "hello good night\n",
      "hello good morning\n",
      "hello good night\n",
      "hello good morning\n",
      "hello good night\n",
      "hello good morning\n",
      "hello good night\n",
      "hello good morning\n",
      "hello good night\n",
      "hello good morning\n",
      "hello good night\n",
      "hello good morning\n",
      "hello good night\n",
      "hello good morning\n",
      "hello good night\n",
      "hello good morning\n",
      "hello good night\n",
      "hello good morning\n",
      "hello good night\n",
      "hello good morning\n",
      "hello good night\n",
      "hello good morning\n",
      "hello good night\n",
      "hello good morning\n",
      "hello good night\n",
      "hello good morning\n",
      "hello good night\n",
      "hello good morning\n",
      "hello good night\n",
      "hello good morning\n",
      "hello good night\n",
      "hello good morning\n",
      "hello good night\n",
      "hello good morning\n",
      "hello good night\n",
      "hello good morning\n",
      "hello good night\n",
      "hello good morning\n",
      "hello good night\n",
      "hello good morning\n",
      "hello good night\n",
      "hello good morning\n",
      "hello good night\n",
      "hello good morning\n",
      "hello good night\n",
      "hello good morning\n",
      "hello good night\n",
      "hello good morning\n",
      "hello good night\n",
      "hello good morning\n",
      "hello good night\n",
      "hello good morning\n",
      "hello good night\n",
      "hello good morning\n",
      "hello good night\n",
      "hello good morning\n",
      "hello good night\n",
      "hello good morning\n",
      "hello good night\n",
      "hello good morning\n",
      "hello good night\n",
      "hello good morning\n",
      "hello good night\n",
      "hello good morning\n",
      "hello good night\n",
      "hello good morning\n",
      "hello good night\n",
      "hello good morning\n",
      "hello good night\n",
      "hello good morning\n",
      "hello good night\n",
      "hello good morning\n",
      "hello good night\n",
      "hello good morning\n",
      "hello good night\n",
      "hello good morning\n",
      "hello good night\n",
      "hello good morning\n",
      "hello good night\n",
      "hello good morning\n",
      "hello good night\n",
      "hello good morning\n",
      "hello good night\n",
      "hello good morning\n",
      "hello good night\n",
      "hello good morning\n",
      "hello good night\n",
      "hello good morning\n",
      "hello good night\n",
      "hello good morning\n",
      "hello good night\n",
      "hello good morning\n",
      "hello good night\n",
      "hello good morning\n",
      "hello good night\n",
      "hello good morning\n",
      "hello good night\n",
      "hello good morning\n",
      "hello good night\n",
      "hello good morning\n",
      "hello good night\n",
      "hello good morning\n",
      "hello good night\n",
      "hello good morning\n",
      "hello good night\n",
      "hello good morning\n",
      "hello good night\n",
      "hello good morning\n",
      "hello good night\n",
      "hello good morning\n",
      "hello good night\n",
      "hello good morning\n",
      "hello good night\n",
      "hello good morning\n",
      "hello good night\n",
      "hello good morning\n",
      "hello good night\n",
      "hello good morning\n",
      "hello good night\n",
      "hello good morning\n",
      "hello good night\n",
      "hello good morning\n",
      "hello good night\n",
      "hello good morning\n",
      "hello good night\n",
      "hello good morning\n",
      "hello good night\n",
      "hello good morning\n",
      "hello good night\n",
      "hello good morning\n",
      "hello good night\n",
      "hello good morning\n",
      "hello good night\n",
      "hello good morning\n",
      "hello good night\n",
      "hello good morning\n",
      "hello good night\n",
      "hello good morning\n",
      "hello good night\n",
      "hello good morning\n",
      "hello good night\n",
      "hello good morning\n",
      "hello good night\n",
      "hello good morning\n",
      "hello good night\n",
      "hello good morning\n",
      "hello good night\n",
      "hello good morning\n",
      "hello good night\n",
      "hello good morning\n",
      "hello good night\n",
      "hello good morning\n",
      "hello good night\n",
      "hello good morning\n",
      "hello good night\n",
      "hello good morning\n",
      "hello good night\n",
      "hello good morning\n",
      "hello good night\n",
      "hello good morning\n",
      "hello good night\n",
      "hello good morning\n",
      "hello good night\n",
      "hello good morning\n",
      "hello good night\n",
      "hello good morning\n",
      "hello good night\n",
      "hello good morning\n",
      "hello good night\n",
      "hello good morning\n",
      "hello good night\n",
      "hello good morning\n",
      "hello good night\n",
      "hello good morning\n",
      "hello good night\n",
      "hello good morning\n",
      "hello good night\n",
      "hello good morning\n",
      "hello good night\n",
      "hello good morning\n",
      "hello good night\n",
      "hello good morning\n",
      "hello good night\n",
      "hello good morning\n",
      "hello good night\n",
      "hello good morning\n",
      "hello good night\n",
      "hello good morning\n",
      "hello good night\n",
      "hello good morning\n",
      "hello good night\n",
      "hello good morning\n",
      "hello good night\n",
      "hello good morning\n",
      "hello good night\n",
      "hello good morning\n",
      "hello good night\n",
      "hello good morning\n",
      "hello good night\n",
      "hello good morning\n",
      "hello good night\n",
      "hello good morning\n",
      "hello good night\n",
      "hello good morning\n",
      "hello good night\n",
      "hello good morning\n",
      "hello good night\n",
      "hello good morning\n",
      "hello good night\n",
      "hello good morning\n",
      "hello good night\n",
      "hello good morning\n",
      "hello good night\n",
      "hello good morning\n",
      "hello good night\n",
      "hello good morning\n",
      "hello good night\n",
      "hello good morning\n",
      "hello good night\n",
      "hello good morning\n",
      "hello good night\n",
      "hello good morning\n",
      "hello good night\n",
      "hello good morning\n",
      "hello good night\n",
      "hello good morning\n",
      "hello good night\n",
      "hello good morning\n",
      "hello good night\n",
      "hello good morning\n",
      "hello good night\n",
      "hello good morning\n",
      "hello good night\n",
      "hello good morning\n",
      "hello good night\n",
      "hello good morning\n",
      "hello good night\n",
      "hello good morning\n",
      "hello good night\n",
      "hello good morning\n",
      "hello good night\n",
      "hello good morning\n",
      "hello good night\n",
      "hello good morning\n",
      "hello good night\n",
      "hello good morning\n",
      "hello good night\n",
      "hello good morning\n",
      "hello good night\n",
      "hello good morning\n",
      "hello good night\n",
      "hello good morning\n",
      "hello good night\n",
      "hello good morning\n",
      "hello good night\n",
      "hello good morning\n",
      "hello good night\n",
      "hello good morning\n",
      "hello good night\n",
      "hello good morning\n",
      "hello good night\n",
      "hello good morning\n",
      "hello good night\n",
      "hello good morning\n",
      "hello good night\n",
      "hello good morning\n",
      "hello good night\n",
      "hello good morning\n",
      "hello good night\n",
      "hello good morning\n",
      "hello good night\n",
      "hello good morning\n",
      "hello good night\n",
      "hello good morning\n",
      "hello good night\n",
      "hello good morning\n",
      "hello good night\n",
      "hello good morning\n",
      "hello good night\n",
      "hello good morning\n",
      "hello good night\n",
      "hello good morning\n",
      "hello good night\n",
      "hello good morning\n",
      "hello good night\n",
      "hello good morning\n",
      "hello good night\n",
      "hello good morning\n",
      "hello good night\n",
      "hello good morning\n",
      "hello good night\n",
      "hello good morning\n",
      "hello good night\n",
      "hello good morning\n",
      "hello good night\n",
      "hello good morning\n",
      "hello good night\n",
      "hello good morning\n",
      "hello good night\n",
      "hello good morning\n",
      "hello good night\n",
      "hello good morning\n",
      "hello good night\n",
      "hello good morning\n",
      "hello good night\n",
      "hello good morning\n",
      "hello good night\n",
      "hello good morning\n",
      "hello good night\n",
      "hello good morning\n",
      "hello good night\n",
      "hello good morning\n",
      "hello good night\n",
      "hello good morning\n",
      "hello good night\n",
      "hello good morning\n",
      "hello good night\n",
      "hello good morning\n",
      "hello good night\n",
      "hello good morning\n",
      "hello good night\n",
      "hello good morning\n",
      "hello good night\n",
      "hello good morning\n",
      "hello good night\n",
      "hello good morning\n",
      "hello good night\n",
      "hello good morning\n",
      "hello good night\n",
      "hello good morning\n",
      "hello good night\n",
      "hello good morning\n",
      "hello good night\n",
      "hello good morning\n",
      "hello good night\n",
      "hello good morning\n",
      "hello good night\n",
      "hello good morning\n",
      "hello good night\n",
      "hello good morning\n",
      "hello good night\n",
      "hello good morning\n",
      "hello good night\n",
      "hello good morning\n",
      "hello good night\n",
      "hello good morning\n",
      "hello good night\n",
      "hello good morning\n",
      "hello good night\n",
      "hello good morning\n",
      "hello good night\n",
      "hello good morning\n",
      "hello good night\n",
      "hello good morning\n",
      "hello good night\n",
      "hello good morning\n",
      "hello good night\n",
      "hello good morning\n",
      "hello good night\n",
      "hello good morning\n",
      "hello good night\n",
      "hello good morning\n",
      "hello good night\n",
      "hello good morning\n",
      "hello good night\n",
      "hello good morning\n",
      "hello good night\n",
      "hello good morning\n",
      "hello good night\n",
      "hello good morning\n",
      "hello good night\n",
      "hello good morning\n",
      "hello good night\n",
      "hello good morning\n",
      "hello good night\n",
      "hello good morning\n",
      "hello good night\n",
      "hello good morning\n",
      "hello good night\n",
      "hello good morning\n",
      "hello good night\n",
      "hello good morning\n",
      "hello good night\n",
      "hello good morning\n",
      "hello good night\n",
      "hello good morning\n",
      "hello good night\n",
      "hello good morning\n",
      "hello good night\n",
      "hello good morning\n",
      "hello good night\n",
      "hello good morning\n",
      "hello good night\n",
      "hello good morning\n",
      "hello good night\n",
      "hello good morning\n",
      "hello good night\n",
      "hello good morning\n",
      "hello good night\n",
      "hello good morning\n",
      "hello good night\n",
      "hello good morning\n",
      "hello good night\n",
      "hello good morning\n",
      "hello good night\n",
      "hello good morning\n",
      "hello good night\n",
      "hello good morning\n",
      "hello good night\n",
      "hello good morning\n",
      "hello good night\n",
      "hello good morning\n",
      "hello good night\n",
      "hello good morning\n",
      "hello good night\n",
      "hello good morning\n",
      "hello good night\n",
      "hello good morning\n",
      "hello good night\n",
      "hello good morning\n",
      "hello good night\n",
      "hello good morning\n",
      "hello good night\n",
      "hello good morning\n",
      "hello good night\n",
      "hello good morning\n",
      "hello good night\n",
      "hello good morning\n",
      "hello good night\n",
      "hello good morning\n",
      "hello good night\n",
      "hello good morning\n",
      "hello good night\n",
      "hello good morning\n",
      "hello good night\n",
      "hello good morning\n",
      "hello good night\n",
      "hello good morning\n",
      "hello good night\n",
      "hello good morning\n",
      "hello good night\n",
      "hello good morning\n",
      "hello good night\n",
      "hello good morning\n",
      "hello good night\n",
      "hello good morning\n",
      "hello good night\n",
      "hello good morning\n",
      "hello good night\n",
      "hello good morning\n",
      "hello good night\n",
      "hello good morning\n",
      "hello good night\n",
      "hello good morning\n",
      "hello good night\n",
      "hello good morning\n",
      "hello good night\n",
      "hello good morning\n",
      "hello good night\n",
      "hello good morning\n",
      "hello good night\n",
      "hello good morning\n",
      "hello good night\n",
      "hello good morning\n",
      "hello good night\n",
      "hello good morning\n",
      "hello good night\n",
      "hello good morning\n",
      "hello good night\n",
      "hello good morning\n",
      "hello good night\n",
      "hello good morning\n",
      "hello good night\n",
      "hello good morning\n",
      "hello good night\n",
      "hello good morning\n",
      "hello good night\n",
      "hello good morning\n",
      "hello good night\n",
      "hello good morning\n",
      "hello good night\n",
      "hello good morning\n",
      "hello good night\n",
      "hello good morning\n",
      "hello good night\n",
      "hello good morning\n",
      "hello good night\n",
      "hello good morning\n",
      "hello good night\n",
      "hello good morning\n",
      "hello good night\n",
      "hello good morning\n",
      "hello good night\n",
      "hello good morning\n",
      "hello good night\n",
      "hello good morning\n",
      "hello good night\n",
      "hello good morning\n",
      "hello good night\n",
      "hello good morning\n",
      "hello good night\n",
      "hello good morning\n",
      "hello good night\n",
      "hello good morning\n",
      "hello good night\n",
      "hello good morning\n",
      "hello good night\n",
      "hello good morning\n",
      "hello good night\n",
      "hello good morning\n",
      "hello good night\n",
      "hello good morning\n",
      "hello good night\n",
      "hello good morning\n",
      "hello good night\n",
      "hello good morning\n",
      "hello good night\n",
      "hello good morning\n",
      "hello good night\n",
      "hello good morning\n",
      "hello good night\n",
      "hello good morning\n",
      "hello good night\n",
      "hello good morning\n",
      "hello good night\n",
      "hello good morning\n",
      "hello good night\n",
      "hello good morning\n",
      "hello good night\n",
      "hello good morning\n",
      "hello good night\n",
      "hello good morning\n",
      "hello good night\n",
      "hello good morning\n",
      "hello good night\n",
      "hello good morning\n",
      "hello good night\n",
      "hello good morning\n",
      "hello good night\n",
      "hello good morning\n",
      "hello good night\n",
      "hello good morning\n",
      "hello good night\n",
      "hello good morning\n",
      "hello good night\n",
      "hello good morning\n",
      "hello good night\n",
      "hello good morning\n",
      "hello good night\n",
      "hello good morning\n",
      "hello good night\n",
      "hello good morning\n",
      "hello good night\n",
      "hello good morning\n",
      "hello good night\n",
      "hello good morning\n",
      "hello good night\n",
      "hello good morning\n",
      "hello good night\n",
      "hello good morning\n",
      "hello good night\n",
      "hello good morning\n",
      "hello good night\n",
      "hello good morning\n",
      "hello good night\n",
      "hello good morning\n",
      "hello good night\n",
      "hello good morning\n",
      "hello good night\n",
      "hello good morning\n",
      "hello good night\n",
      "hello good morning\n",
      "hello good night\n",
      "hello good morning\n",
      "hello good night\n",
      "hello good morning\n",
      "hello good night\n",
      "hello good morning\n",
      "hello good night\n",
      "hello good morning\n",
      "hello good night\n",
      "hello good morning\n",
      "hello good night\n",
      "hello good morning\n",
      "hello good night\n",
      "hello good morning\n",
      "hello good night\n",
      "hello good morning\n",
      "hello good night\n",
      "hello good morning\n",
      "hello good night\n",
      "hello good morning\n",
      "hello good night\n",
      "hello good morning\n",
      "hello good night\n",
      "hello good morning\n",
      "hello good night\n",
      "hello good morning\n",
      "hello good night\n",
      "hello good morning\n",
      "hello good night\n",
      "hello good morning\n",
      "hello good night\n",
      "hello good morning\n",
      "hello good night\n",
      "hello good morning\n",
      "hello good night\n",
      "hello good morning\n",
      "hello good night\n",
      "hello good morning\n",
      "hello good night\n",
      "hello good morning\n",
      "hello good night\n",
      "hello good morning\n",
      "hello good night\n",
      "hello good morning\n",
      "hello good night\n",
      "hello good morning\n",
      "hello good night\n",
      "hello good morning\n",
      "hello good night\n",
      "hello good morning\n",
      "hello good night\n",
      "hello good morning\n",
      "hello good night\n",
      "hello good morning\n",
      "hello good night\n",
      "hello good morning\n",
      "hello good night\n",
      "hello good morning\n",
      "hello good night\n",
      "hello good morning\n",
      "hello good night\n",
      "hello good morning\n",
      "hello good night\n",
      "hello good morning\n",
      "hello good night\n",
      "hello good morning\n",
      "hello good night\n",
      "hello good morning\n",
      "hello good night\n",
      "hello good morning\n",
      "hello good night\n",
      "hello good morning\n",
      "hello good night\n",
      "hello good morning\n",
      "hello good night\n",
      "hello good morning\n",
      "hello good night\n",
      "hello good morning\n",
      "hello good night\n",
      "hello good morning\n",
      "hello good night\n",
      "hello good morning\n",
      "hello good night\n",
      "hello good morning\n",
      "hello good night\n",
      "hello good morning\n",
      "hello good night\n",
      "hello good morning\n",
      "hello good night\n",
      "hello good morning\n",
      "hello good night\n",
      "hello good morning\n",
      "hello good night\n",
      "hello good morning\n",
      "hello good night\n",
      "hello good morning\n",
      "hello good night\n",
      "hello good morning\n",
      "hello good night\n",
      "hello good morning\n",
      "hello good night\n",
      "hello good morning\n",
      "hello good night\n",
      "hello good morning\n",
      "hello good night\n",
      "hello good morning\n",
      "hello good night\n",
      "hello good morning\n",
      "hello good night\n",
      "hello good morning\n",
      "hello good night\n",
      "hello good morning\n",
      "hello good night\n",
      "hello good morning\n",
      "hello good night\n",
      "hello good morning\n",
      "hello good night\n",
      "hello good morning\n",
      "hello good night\n",
      "hello good morning\n",
      "hello good night\n",
      "hello good morning\n",
      "hello good night\n",
      "hello good morning\n",
      "hello good night\n",
      "hello good morning\n",
      "hello good night\n",
      "hello good morning\n",
      "hello good night\n",
      "hello good morning\n",
      "hello good night\n",
      "hello good morning\n",
      "hello good night\n",
      "hello good morning\n",
      "hello good night\n",
      "hello good morning\n",
      "hello good night\n",
      "hello good morning\n",
      "hello good night\n",
      "hello good morning\n",
      "hello good night\n",
      "hello good morning\n",
      "hello good night\n",
      "hello good morning\n",
      "hello good night\n",
      "hello good morning\n",
      "hello good night\n",
      "hello good morning\n",
      "hello good night\n",
      "hello good morning\n",
      "hello good night\n",
      "hello good morning\n",
      "hello good night\n",
      "hello good morning\n",
      "hello good night\n",
      "hello good morning\n",
      "hello good night\n",
      "hello good morning\n",
      "hello good night\n",
      "hello good morning\n",
      "hello good night\n",
      "hello good morning\n",
      "hello good night\n",
      "hello good morning\n",
      "hello good night\n",
      "hello good morning\n",
      "hello good night\n",
      "hello good morning\n",
      "hello good night\n",
      "hello good morning\n",
      "hello good night\n",
      "hello good morning\n",
      "hello good night\n",
      "hello good morning\n",
      "hello good night\n",
      "hello good morning\n",
      "hello good night\n",
      "hello good morning\n",
      "hello good night\n",
      "hello good morning\n",
      "hello good night\n",
      "hello good morning\n",
      "hello good night\n",
      "hello good morning\n",
      "hello good night\n",
      "hello good morning\n",
      "hello good night\n",
      "hello good morning\n",
      "hello good night\n",
      "hello good morning\n",
      "hello good night\n",
      "hello good morning\n",
      "hello good night\n",
      "hello good morning\n",
      "hello good night\n",
      "hello good morning\n",
      "hello good night\n",
      "hello good morning\n",
      "hello good night\n",
      "hello good morning\n",
      "hello good night\n",
      "hello good morning\n",
      "hello good night\n",
      "hello good morning\n",
      "hello good night\n",
      "hello good morning\n",
      "hello good night\n",
      "hello good morning\n",
      "hello good night\n",
      "hello good morning\n",
      "hello good night\n",
      "hello good morning\n",
      "hello good night\n",
      "hello good morning\n",
      "hello good night\n",
      "hello good morning\n",
      "hello good night\n",
      "hello good morning\n",
      "hello good night\n",
      "hello good morning\n",
      "hello good night\n",
      "hello good morning\n",
      "hello good night\n",
      "hello good morning\n",
      "hello good night\n",
      "hello good morning\n",
      "hello good night\n",
      "hello good morning\n",
      "hello good night\n",
      "hello good morning\n",
      "hello good night\n",
      "hello good morning\n",
      "hello good night\n",
      "hello good morning\n",
      "hello good night\n",
      "hello good morning\n",
      "hello good night\n",
      "hello good morning\n",
      "hello good night\n",
      "hello good morning\n",
      "hello good night\n",
      "hello good morning\n",
      "hello good night\n",
      "hello good morning\n",
      "hello good night\n",
      "hello good morning\n",
      "hello good night\n",
      "hello good morning\n",
      "hello good night\n",
      "hello good morning\n",
      "hello good night\n",
      "hello good morning\n",
      "hello good night\n",
      "hello good morning\n",
      "hello good night\n",
      "hello good morning\n",
      "hello good night\n",
      "hello good morning\n",
      "hello good night\n",
      "hello good morning\n",
      "hello good night\n",
      "hello good morning\n",
      "hello good night\n",
      "hello good morning\n",
      "hello good night\n",
      "hello good morning\n",
      "hello good night\n",
      "hello good morning\n",
      "hello good night\n",
      "hello good morning\n",
      "hello good night\n",
      "hello good morning\n",
      "hello good night\n",
      "hello good morning\n",
      "hello good night\n",
      "hello good morning\n",
      "hello good night\n",
      "hello good morning\n",
      "hello good night\n",
      "hello good morning\n",
      "hello good night\n",
      "hello good morning\n",
      "hello good night\n",
      "hello good morning\n",
      "hello good night\n",
      "hello good morning\n",
      "hello good night\n",
      "hello good morning\n",
      "hello good night\n",
      "hello good morning\n",
      "hello good night\n",
      "hello good morning\n",
      "hello good night\n",
      "hello good morning\n",
      "hello good night\n",
      "hello good morning\n",
      "hello good night\n",
      "hello good morning\n",
      "hello good night\n",
      "hello good morning\n",
      "hello good night\n",
      "hello good morning\n",
      "hello good night\n",
      "hello good morning\n",
      "hello good night\n",
      "hello good morning\n",
      "hello good night\n",
      "hello good morning\n",
      "hello good night\n",
      "hello good morning\n",
      "hello good night\n",
      "hello good morning\n",
      "hello good night\n",
      "hello good morning\n",
      "hello good night\n",
      "hello good morning\n",
      "hello good night\n",
      "hello good morning\n",
      "hello good night\n",
      "hello good morning\n",
      "hello good night\n",
      "hello good morning\n",
      "hello good night\n",
      "hello good morning\n",
      "hello good night\n",
      "hello good morning\n",
      "hello good night\n",
      "hello good morning\n",
      "hello good night\n",
      "hello good morning\n",
      "hello good night\n",
      "hello good morning\n",
      "hello good night\n",
      "hello good morning\n",
      "hello good night\n",
      "hello good morning\n",
      "hello good night\n",
      "hello good morning\n",
      "hello good night\n",
      "hello good morning\n",
      "hello good night\n",
      "hello good morning\n",
      "hello good night\n",
      "hello good morning\n",
      "hello good night\n",
      "hello good morning\n",
      "hello good night\n",
      "hello good morning\n",
      "hello good night\n",
      "hello good morning\n",
      "hello good night\n",
      "hello good morning\n",
      "hello good night\n",
      "hello good morning\n",
      "hello good night\n",
      "hello good morning\n",
      "hello good night\n",
      "hello good morning\n",
      "hello good night\n",
      "hello good morning\n",
      "hello good night\n",
      "hello good morning\n",
      "hello good night\n",
      "hello good morning\n",
      "hello good night\n",
      "hello good morning\n",
      "hello good night\n",
      "hello good morning\n",
      "hello good night\n",
      "hello good morning\n",
      "hello good night\n",
      "hello good morning\n",
      "hello good night\n",
      "hello good morning\n",
      "hello good night\n",
      "hello good morning\n",
      "hello good night\n",
      "hello good morning\n",
      "hello good night\n",
      "hello good morning\n",
      "hello good night\n",
      "hello good morning\n",
      "hello good night\n",
      "hello good morning\n",
      "hello good night\n",
      "hello good morning\n",
      "hello good night\n",
      "hello good morning\n",
      "hello good night\n",
      "hello good morning\n",
      "hello good night\n",
      "hello good morning\n",
      "hello good night\n",
      "hello good morning\n",
      "hello good night\n",
      "hello good morning\n",
      "hello good night\n",
      "hello good morning\n",
      "hello good night\n",
      "hello good morning\n",
      "hello good night\n",
      "hello good morning\n",
      "hello good night\n",
      "hello good morning\n",
      "hello good night\n",
      "hello good morning\n",
      "hello good night\n",
      "hello good morning\n",
      "hello good night\n",
      "hello good morning\n",
      "hello good night\n",
      "hello good morning\n",
      "hello good night\n",
      "hello good morning\n",
      "hello good night\n",
      "hello good morning\n",
      "hello good night\n",
      "hello good morning\n",
      "hello good night\n",
      "hello good morning\n",
      "hello good night\n",
      "hello good morning\n",
      "hello good night\n",
      "hello good morning\n",
      "hello good night\n",
      "hello good morning\n",
      "hello good night\n",
      "hello good morning\n",
      "hello good night\n",
      "hello good morning\n",
      "hello good night\n",
      "hello good morning\n",
      "hello good night\n",
      "hello good morning\n",
      "hello good night\n",
      "hello good morning\n",
      "hello good night\n",
      "hello good morning\n",
      "hello good night\n",
      "hello good morning\n",
      "hello good night\n",
      "hello good morning\n",
      "hello good night\n",
      "hello good morning\n",
      "hello good night\n",
      "hello good morning\n",
      "hello good night\n",
      "hello good morning\n",
      "hello good night\n",
      "hello good morning\n",
      "hello good night\n",
      "hello good morning\n",
      "hello good night\n",
      "hello good morning\n",
      "hello good night\n",
      "hello good morning\n",
      "hello good night\n",
      "hello good morning\n",
      "hello good night\n",
      "hello good morning\n",
      "hello good night\n",
      "hello good morning\n",
      "hello good night\n",
      "hello good morning\n",
      "hello good night\n",
      "hello good morning\n",
      "hello good night\n",
      "hello good morning\n",
      "hello good night\n",
      "hello good morning\n",
      "hello good night\n",
      "hello good morning\n",
      "hello good night\n",
      "hello good morning\n",
      "hello good night\n",
      "hello good morning\n",
      "hello good night\n",
      "hello good morning\n",
      "hello good night\n",
      "hello good morning\n",
      "hello good night\n",
      "hello good morning\n",
      "hello good night\n",
      "hello good morning\n",
      "hello good night\n",
      "hello good morning\n",
      "hello good night\n",
      "hello good morning\n",
      "hello good night\n",
      "hello good morning\n",
      "hello good night\n",
      "hello good morning\n",
      "hello good night\n",
      "hello good morning\n",
      "hello good night\n",
      "hello good morning\n",
      "hello good night\n",
      "hello good morning\n",
      "hello good night\n",
      "hello good morning\n",
      "hello good night\n",
      "hello good morning\n",
      "hello good night\n",
      "hello good morning\n",
      "hello good night\n",
      "hello good morning\n",
      "hello good night\n",
      "hello good morning\n",
      "hello good night\n",
      "hello good morning\n",
      "hello good night\n",
      "hello good morning\n",
      "hello good night\n",
      "hello good morning\n",
      "hello good night\n",
      "hello good morning\n",
      "hello good night\n",
      "hello good morning\n",
      "hello good night\n",
      "hello good morning\n",
      "hello good night\n",
      "hello good morning\n",
      "hello good night\n",
      "hello good morning\n",
      "hello good night\n",
      "hello good morning\n",
      "hello good night\n",
      "hello good morning\n",
      "hello good night\n",
      "hello good morning\n",
      "hello good night\n",
      "hello good morning\n",
      "hello good night\n",
      "hello good morning\n",
      "hello good night\n",
      "hello good morning\n",
      "hello good night\n",
      "hello good morning\n",
      "hello good night\n",
      "hello good morning\n",
      "hello good night\n",
      "hello good morning\n",
      "hello good night\n",
      "hello good morning\n",
      "hello good night\n",
      "hello good morning\n",
      "hello good night\n",
      "hello good morning\n",
      "hello good night\n",
      "hello good morning\n",
      "hello good night\n",
      "hello good morning\n",
      "hello good night\n",
      "hello good morning\n",
      "hello good night\n",
      "hello good morning\n",
      "hello good night\n",
      "hello good morning\n",
      "hello good night\n",
      "hello good morning\n",
      "hello good night\n",
      "hello good morning\n",
      "hello good night\n",
      "hello good morning\n",
      "hello good night\n",
      "hello good morning\n",
      "hello good night\n",
      "hello good morning\n",
      "hello good night\n",
      "hello good morning\n",
      "hello good night\n",
      "hello good morning\n",
      "hello good night\n",
      "hello good morning\n",
      "hello good night\n",
      "hello good morning\n",
      "hello good night\n",
      "hello good morning\n",
      "hello good night\n",
      "hello good morning\n",
      "hello good night\n",
      "hello good morning\n",
      "hello good night\n",
      "hello good morning\n",
      "hello good night\n",
      "hello good morning\n",
      "hello good night\n",
      "hello good morning\n",
      "hello good night\n",
      "hello good morning\n",
      "hello good night\n",
      "hello good morning\n",
      "hello good night\n",
      "hello good morning\n",
      "hello good night\n",
      "hello good morning\n",
      "hello good night\n",
      "hello good morning\n",
      "hello good night\n",
      "hello good morning\n",
      "hello good night\n",
      "hello good morning\n",
      "hello good night\n",
      "hello good morning\n",
      "hello good night\n",
      "hello good morning\n",
      "hello good night\n",
      "hello good morning\n",
      "hello good night\n",
      "hello good morning\n",
      "hello good night\n",
      "hello good morning\n",
      "hello good night\n",
      "hello good morning\n",
      "hello good night\n",
      "hello good morning\n",
      "hello good night\n",
      "hello good morning\n",
      "hello good night\n",
      "hello good morning\n",
      "hello good night\n",
      "hello good morning\n",
      "hello good night\n",
      "hello good morning\n",
      "hello good night\n",
      "hello good morning\n",
      "hello good night\n",
      "hello good morning\n",
      "hello good night\n",
      "hello good morning\n",
      "hello good night\n",
      "hello good morning\n",
      "hello good night\n",
      "hello good morning\n",
      "hello good night\n",
      "hello good morning\n",
      "hello good night\n",
      "hello good morning\n",
      "hello good night\n",
      "hello good morning\n",
      "hello good night\n",
      "hello good morning\n",
      "hello good night\n",
      "hello good morning\n",
      "hello good night\n",
      "hello good morning\n",
      "hello good night\n",
      "hello good morning\n",
      "hello good night\n",
      "hello good morning\n",
      "hello good night\n",
      "hello good morning\n",
      "hello good night\n",
      "hello good morning\n",
      "hello good night\n",
      "hello good morning\n",
      "hello good night\n",
      "hello good morning\n",
      "hello good night\n",
      "hello good morning\n",
      "hello good night\n",
      "hello good morning\n",
      "hello good night\n",
      "hello good morning\n",
      "hello good night\n",
      "hello good morning\n",
      "hello good night\n",
      "hello good morning\n",
      "hello good night\n",
      "hello good morning\n",
      "hello good night\n",
      "hello good morning\n",
      "hello good night\n",
      "hello good morning\n",
      "hello good night\n",
      "hello good morning\n",
      "hello good night\n",
      "hello good morning\n",
      "hello good night\n",
      "hello good morning\n",
      "hello good night\n",
      "hello good morning\n",
      "hello good night\n",
      "hello good morning\n",
      "hello good night\n",
      "hello good morning\n",
      "hello good night\n",
      "hello good morning\n",
      "hello good night\n",
      "hello good morning\n",
      "hello good night\n",
      "hello good morning\n",
      "hello good night\n",
      "hello good morning\n",
      "hello good night\n",
      "hello good morning\n",
      "hello good night\n",
      "hello good morning\n",
      "hello good night\n",
      "hello good morning\n",
      "hello good night\n",
      "hello good morning\n",
      "hello good night\n",
      "hello good morning\n",
      "hello good night\n",
      "hello good morning\n",
      "hello good night\n",
      "hello good morning\n",
      "hello good night\n",
      "hello good morning\n",
      "hello good night\n",
      "hello good morning\n",
      "hello good night\n",
      "hello good morning\n",
      "hello good night\n",
      "hello good morning\n",
      "hello good night\n",
      "hello good morning\n",
      "hello good night\n",
      "hello good morning\n",
      "hello good night\n",
      "hello good morning\n",
      "hello good night\n",
      "hello good morning\n",
      "hello good night\n",
      "hello good morning\n",
      "hello good night\n",
      "hello good morning\n",
      "hello good night\n",
      "hello good morning\n",
      "hello good night\n",
      "hello good morning\n",
      "hello good night\n",
      "hello good morning\n",
      "hello good night\n",
      "hello good morning\n",
      "hello good night\n",
      "hello good morning\n",
      "hello good night\n",
      "hello good morning\n",
      "hello good night\n",
      "hello good morning\n",
      "hello good night\n",
      "hello good morning\n",
      "hello good night\n",
      "hello good morning\n",
      "hello good night\n",
      "hello good morning\n",
      "hello good night\n",
      "hello good morning\n",
      "hello good night\n",
      "hello good morning\n",
      "hello good night\n",
      "hello good morning\n",
      "hello good night\n",
      "hello good morning\n",
      "hello good night\n",
      "hello good morning\n",
      "hello good night\n",
      "hello good morning\n",
      "hello good night\n",
      "hello good morning\n",
      "hello good night\n",
      "hello good morning\n",
      "hello good night\n",
      "hello good morning\n",
      "hello good night\n",
      "hello good morning\n",
      "hello good night\n",
      "hello good morning\n",
      "hello good night\n",
      "hello good morning\n",
      "hello good night\n",
      "hello good morning\n",
      "hello good night\n",
      "hello good morning\n",
      "hello good night\n",
      "hello good morning\n",
      "hello good night\n",
      "hello good morning\n",
      "hello good night\n",
      "hello good morning\n",
      "hello good night\n",
      "hello good morning\n",
      "hello good night\n",
      "hello good morning\n",
      "hello good night\n",
      "hello good morning\n",
      "hello good night\n",
      "hello good morning\n",
      "hello good night\n",
      "hello good morning\n",
      "hello good night\n",
      "hello good morning\n",
      "hello good night\n",
      "hello good morning\n",
      "hello good night\n",
      "hello good morning\n",
      "hello good night\n",
      "hello good morning\n",
      "hello good night\n",
      "hello good morning\n",
      "hello good night\n",
      "hello good morning\n",
      "hello good night\n",
      "hello good morning\n",
      "hello good night\n",
      "hello good morning\n",
      "hello good night\n",
      "hello good morning\n",
      "hello good night\n",
      "hello good morning\n",
      "hello good night\n",
      "hello good morning\n",
      "hello good night\n",
      "hello good morning\n",
      "hello good night\n",
      "hello good morning\n",
      "hello good night\n",
      "hello good morning\n",
      "hello good night\n",
      "hello good morning\n",
      "hello good night\n",
      "hello good morning\n",
      "hello good night\n",
      "hello good morning\n",
      "hello good night\n",
      "hello good morning\n",
      "hello good night\n",
      "hello good morning\n",
      "hello good night\n",
      "hello good morning\n",
      "hello good night\n",
      "hello good morning\n",
      "hello good night\n",
      "hello good morning\n",
      "hello good night\n",
      "hello good morning\n",
      "hello good night\n",
      "hello good morning\n",
      "hello good night\n",
      "hello good morning\n",
      "hello good night\n",
      "hello good morning\n",
      "hello good night\n",
      "hello good morning\n",
      "hello good night\n",
      "hello good morning\n",
      "hello good night\n",
      "hello good morning\n",
      "hello good night\n",
      "hello good morning\n",
      "hello good night\n",
      "hello good morning\n",
      "hello good night\n",
      "hello good morning\n",
      "hello good night\n",
      "hello good morning\n",
      "hello good night\n",
      "hello good morning\n",
      "hello good night\n",
      "hello good morning\n",
      "hello good night\n",
      "hello good morning\n",
      "hello good night\n",
      "hello good morning\n",
      "hello good night\n",
      "hello good morning\n",
      "hello good night\n",
      "hello good morning\n",
      "hello good night\n",
      "hello good morning\n",
      "hello good night\n",
      "hello good morning\n",
      "hello good night\n",
      "hello good morning\n",
      "hello good night\n",
      "hello good morning\n",
      "hello good night\n",
      "hello good morning\n",
      "hello good night\n",
      "hello good morning\n",
      "hello good night\n",
      "hello good morning\n",
      "hello good night\n",
      "hello good morning\n",
      "hello good night\n",
      "hello good morning\n",
      "hello good night\n",
      "hello good morning\n",
      "hello good night\n",
      "hello good morning\n",
      "hello good night\n",
      "hello good morning\n",
      "hello good night\n",
      "hello good morning\n",
      "hello good night\n",
      "hello good morning\n",
      "hello good night\n",
      "hello good morning\n",
      "hello good night\n",
      "hello good morning\n",
      "hello good night\n",
      "hello good morning\n",
      "hello good night\n",
      "hello good morning\n",
      "hello good night\n",
      "hello good morning\n",
      "hello good night\n",
      "hello good morning\n",
      "hello good night\n",
      "hello good morning\n",
      "hello good night\n",
      "hello good morning\n",
      "hello good night\n",
      "hello good morning\n",
      "hello good night\n",
      "hello good morning\n",
      "hello good night\n",
      "hello good morning\n",
      "hello good night\n",
      "hello good morning\n",
      "hello good night\n",
      "hello good morning\n",
      "hello good night\n",
      "hello good morning\n",
      "hello good night\n",
      "hello good morning\n",
      "hello good night\n",
      "hello good morning\n",
      "hello good night\n",
      "hello good morning\n",
      "hello good night\n",
      "hello good morning\n",
      "hello good night\n",
      "hello good morning\n",
      "hello good night\n",
      "hello good morning\n",
      "hello good night\n",
      "hello good morning\n",
      "hello good night\n",
      "hello good morning\n",
      "hello good night\n",
      "hello good morning\n",
      "hello good night\n",
      "hello good morning\n",
      "hello good night\n",
      "hello good morning\n",
      "hello good night\n",
      "hello good morning\n",
      "hello good night\n",
      "hello good morning\n",
      "hello good night\n",
      "hello good morning\n",
      "hello good night\n",
      "hello good morning\n",
      "hello good night\n",
      "hello good morning\n",
      "hello good night\n",
      "hello good morning\n",
      "hello good night\n",
      "hello good morning\n",
      "hello good night\n",
      "hello good morning\n",
      "hello good night\n",
      "hello good morning\n",
      "hello good night\n",
      "hello good morning\n",
      "hello good night\n",
      "hello good morning\n",
      "hello good night\n",
      "hello good morning\n",
      "hello good night\n",
      "hello good morning\n",
      "hello good night\n",
      "hello good morning\n",
      "hello good night\n",
      "hello good morning\n",
      "hello good night\n",
      "hello good morning\n",
      "hello good night\n",
      "hello good morning\n",
      "hello good night\n",
      "hello good morning\n",
      "hello good night\n",
      "hello good morning\n",
      "hello good night\n",
      "hello good morning\n",
      "hello good night\n",
      "hello good morning\n",
      "hello good night\n",
      "hello good morning\n",
      "hello good night\n",
      "hello good morning\n",
      "hello good night\n",
      "hello good morning\n",
      "hello good night\n",
      "hello good morning\n",
      "hello good night\n",
      "hello good morning\n",
      "hello good night\n",
      "hello good morning\n",
      "hello good night\n",
      "hello good morning\n",
      "hello good night\n",
      "hello good morning\n",
      "hello good night\n",
      "hello good morning\n",
      "hello good night\n",
      "hello good morning\n",
      "hello good night\n",
      "hello good morning\n",
      "hello good night\n",
      "hello good morning\n",
      "hello good night\n",
      "hello good morning\n",
      "hello good night\n",
      "hello good morning\n",
      "hello good night\n",
      "hello good morning\n",
      "hello good night\n",
      "hello good morning\n",
      "hello good night\n",
      "hello good morning\n",
      "hello good night\n",
      "hello good morning\n",
      "hello good night\n",
      "hello good morning\n",
      "hello good night\n",
      "hello good morning\n",
      "hello good night\n",
      "hello good morning\n",
      "hello good night\n",
      "hello good morning\n",
      "hello good night\n",
      "hello good morning\n",
      "hello good night\n",
      "hello good morning\n",
      "hello good night\n",
      "hello good morning\n",
      "hello good night\n",
      "hello good morning\n",
      "hello good night\n",
      "hello good morning\n",
      "hello good night\n",
      "hello good morning\n",
      "hello good night\n",
      "hello good morning\n",
      "hello good night\n",
      "hello good morning\n",
      "hello good night\n",
      "hello good morning\n",
      "hello good night\n",
      "hello good morning\n",
      "hello good night\n",
      "hello good morning\n",
      "hello good night\n",
      "hello good morning\n",
      "hello good night\n",
      "hello good morning\n",
      "hello good night\n",
      "hello good morning\n",
      "hello good night\n",
      "hello good morning\n",
      "hello good night\n",
      "hello good morning\n",
      "hello good night\n",
      "hello good morning\n",
      "hello good night\n",
      "hello good morning\n",
      "hello good night\n",
      "hello good morning\n",
      "hello good night\n",
      "hello good morning\n",
      "hello good night\n",
      "hello good morning\n",
      "hello good night\n",
      "hello good morning\n",
      "hello good night\n",
      "hello good morning\n",
      "hello good night\n",
      "hello good morning\n",
      "hello good night\n",
      "hello good morning\n",
      "hello good night\n",
      "hello good morning\n",
      "hello good night\n",
      "hello good morning\n",
      "hello good night\n",
      "hello good morning\n",
      "hello good night\n",
      "hello good morning\n",
      "hello good night\n",
      "hello good morning\n",
      "hello good night\n",
      "hello good morning\n",
      "hello good night\n",
      "hello good morning\n",
      "hello good night\n",
      "hello good morning\n",
      "hello good night\n",
      "hello good morning\n",
      "hello good night\n",
      "hello good morning\n",
      "hello good night\n",
      "hello good morning\n",
      "hello good night\n",
      "hello good morning\n",
      "hello good night\n",
      "hello good morning\n",
      "hello good night\n",
      "hello good morning\n",
      "hello good night\n",
      "hello good morning\n",
      "hello good night\n",
      "hello good morning\n",
      "hello good night\n",
      "hello good morning\n",
      "hello good night\n",
      "hello good morning\n",
      "hello good night\n",
      "hello good morning\n",
      "hello good night\n",
      "hello good morning\n",
      "hello good night\n",
      "hello good morning\n",
      "hello good night\n",
      "hello good morning\n",
      "hello good night\n",
      "hello good morning\n",
      "hello good night\n",
      "hello good morning\n",
      "hello good night\n",
      "hello good morning\n",
      "hello good night\n",
      "hello good morning\n",
      "hello good night\n",
      "hello good morning\n",
      "hello good night\n",
      "hello good morning\n",
      "hello good night\n",
      "hello good morning\n",
      "hello good night\n",
      "hello good morning\n",
      "hello good night\n",
      "hello good morning\n",
      "hello good night\n",
      "hello good morning\n",
      "hello good night\n",
      "hello good morning\n",
      "hello good night\n",
      "hello good morning\n",
      "hello good night\n",
      "hello good morning\n",
      "hello good night\n",
      "hello good morning\n",
      "hello good night\n",
      "hello good morning\n",
      "hello good night\n",
      "hello good morning\n",
      "hello good night\n",
      "hello good morning\n",
      "hello good night\n",
      "hello good morning\n",
      "hello good night\n",
      "hello good morning\n",
      "hello good night\n",
      "hello good morning\n",
      "hello good night\n",
      "hello good morning\n",
      "hello good night\n",
      "hello good morning\n",
      "hello good night\n",
      "hello good morning\n",
      "hello good night\n",
      "hello good morning\n",
      "hello good night\n",
      "hello good morning\n",
      "hello good night\n",
      "hello good morning\n",
      "hello good night\n",
      "hello good morning\n",
      "hello good night\n",
      "hello good morning\n",
      "hello good night\n",
      "hello good morning\n",
      "hello good night\n",
      "hello good morning\n",
      "hello good night\n",
      "hello good morning\n",
      "hello good night\n",
      "hello good morning\n",
      "hello good night\n",
      "hello good morning\n",
      "hello good night\n",
      "hello good morning\n",
      "hello good night\n",
      "hello good morning\n",
      "hello good night\n",
      "hello good morning\n",
      "hello good night\n",
      "hello good morning\n",
      "hello good night\n",
      "hello good morning\n",
      "hello good night\n",
      "hello good morning\n",
      "hello good night\n",
      "hello good morning\n",
      "hello good night\n",
      "hello good morning\n",
      "hello good night\n",
      "hello good morning\n",
      "hello good night\n",
      "hello good morning\n",
      "hello good night\n",
      "hello good morning\n",
      "hello good night\n",
      "hello good morning\n",
      "hello good night\n",
      "hello good morning\n",
      "hello good night\n",
      "hello good morning\n",
      "hello good night\n",
      "hello good morning\n",
      "hello good night\n",
      "hello good morning\n",
      "hello good night\n",
      "hello good morning\n",
      "hello good night\n",
      "hello good morning\n",
      "hello good night\n",
      "hello good morning\n",
      "hello good night\n",
      "hello good morning\n",
      "hello good night\n",
      "hello good morning\n",
      "hello good night\n",
      "hello good morning\n",
      "hello good night\n",
      "hello good morning\n",
      "hello good night\n",
      "hello good morning\n",
      "hello good night\n",
      "hello good morning\n",
      "hello good night\n",
      "hello good morning\n",
      "hello good night\n",
      "hello good morning\n",
      "hello good night\n",
      "hello good morning\n",
      "hello good night\n",
      "hello good morning\n",
      "hello good night\n",
      "hello good morning\n",
      "hello good night\n",
      "hello good morning\n",
      "hello good night\n",
      "hello good morning\n",
      "hello good night\n",
      "hello good morning\n",
      "hello good night\n",
      "hello good morning\n",
      "hello good night\n",
      "hello good morning\n",
      "hello good night\n",
      "hello good morning\n",
      "hello good night\n",
      "hello good morning\n",
      "hello good night\n",
      "hello good morning\n",
      "hello good night\n",
      "hello good morning\n",
      "hello good night\n",
      "hello good morning\n",
      "hello good night\n",
      "hello good morning\n",
      "hello good night\n",
      "hello good morning\n",
      "hello good night\n",
      "hello good morning\n",
      "hello good night\n",
      "hello good morning\n",
      "hello good night\n",
      "hello good morning\n",
      "hello good night\n",
      "hello good morning\n",
      "hello good night\n",
      "hello good morning\n",
      "hello good night\n",
      "hello good morning\n",
      "hello good night\n",
      "hello good morning\n",
      "hello good night\n",
      "hello good morning\n",
      "hello good night\n",
      "hello good morning\n",
      "hello good night\n",
      "hello good morning\n",
      "hello good night\n",
      "hello good morning\n",
      "hello good night\n",
      "hello good morning\n",
      "hello good night\n",
      "hello good morning\n",
      "hello good night\n",
      "hello good morning\n",
      "hello good night\n",
      "hello good morning\n",
      "hello good night\n",
      "hello good morning\n",
      "hello good night\n",
      "hello good morning\n",
      "hello good night\n",
      "hello good morning\n",
      "hello good night\n",
      "hello good morning\n",
      "hello good night\n",
      "hello good morning\n",
      "hello good night\n",
      "hello good morning\n",
      "hello good night\n",
      "hello good morning\n",
      "hello good night\n",
      "hello good morning\n",
      "hello good night\n",
      "hello good morning\n",
      "hello good night\n",
      "hello good morning\n",
      "hello good night\n",
      "hello good morning\n",
      "hello good night\n",
      "hello good morning\n",
      "hello good night\n",
      "hello good morning\n",
      "hello good night\n",
      "hello good morning\n",
      "hello good night\n",
      "hello good morning\n",
      "hello good night\n",
      "hello good morning\n",
      "hello good night\n",
      "hello good morning\n",
      "hello good night\n",
      "hello good morning\n",
      "hello good night\n",
      "hello good morning\n",
      "hello good night\n",
      "hello good morning\n",
      "hello good night\n",
      "hello good morning\n",
      "hello good night\n",
      "hello good morning\n",
      "hello good night\n",
      "hello good morning\n",
      "hello good night\n",
      "hello good morning\n",
      "hello good night\n",
      "hello good morning\n",
      "hello good night\n",
      "hello good morning\n",
      "hello good night\n",
      "hello good morning\n",
      "hello good night\n",
      "hello good morning\n",
      "hello good night\n",
      "hello good morning\n",
      "hello good night\n",
      "hello good morning\n",
      "hello good night\n",
      "hello good morning\n",
      "hello good night\n",
      "hello good morning\n",
      "hello good night\n",
      "hello good morning\n",
      "hello good night\n",
      "hello good morning\n",
      "hello good night\n",
      "hello good morning\n",
      "hello good night\n",
      "hello good morning\n",
      "hello good night\n",
      "hello good morning\n",
      "hello good night\n",
      "hello good morning\n",
      "hello good night\n",
      "hello good morning\n",
      "hello good night\n",
      "hello good morning\n",
      "hello good night\n",
      "hello good morning\n",
      "hello good night\n",
      "hello good morning\n",
      "hello good night\n",
      "hello good morning\n",
      "hello good night\n",
      "hello good morning\n",
      "hello good night\n",
      "hello good morning\n",
      "hello good night\n",
      "hello good morning\n",
      "hello good night\n",
      "hello good morning\n",
      "hello good night\n",
      "hello good morning\n",
      "hello good night\n",
      "hello good morning\n",
      "hello good night\n",
      "hello good morning\n",
      "hello good night\n",
      "hello good morning\n",
      "hello good night\n",
      "hello good morning\n",
      "hello good night\n",
      "hello good morning\n",
      "hello good night\n",
      "hello good morning\n",
      "hello good night\n",
      "hello good morning\n",
      "hello good night\n",
      "hello good morning\n",
      "hello good night\n",
      "hello good morning\n",
      "hello good night\n"
     ]
    },
    {
     "ename": "RecursionError",
     "evalue": "maximum recursion depth exceeded while calling a Python object",
     "output_type": "error",
     "traceback": [
      "\u001b[1;31m---------------------------------------------------------------------------\u001b[0m",
      "\u001b[1;31mRecursionError\u001b[0m                            Traceback (most recent call last)",
      "Cell \u001b[1;32mIn[19], line 7\u001b[0m\n\u001b[0;32m      5\u001b[0m     \u001b[38;5;28mprint\u001b[39m(\u001b[38;5;124m'\u001b[39m\u001b[38;5;124mhello good morning\u001b[39m\u001b[38;5;124m'\u001b[39m)\n\u001b[0;32m      6\u001b[0m     greet1()\n\u001b[1;32m----> 7\u001b[0m greet2()\n",
      "Cell \u001b[1;32mIn[19], line 6\u001b[0m, in \u001b[0;36mgreet2\u001b[1;34m()\u001b[0m\n\u001b[0;32m      4\u001b[0m \u001b[38;5;28;01mdef\u001b[39;00m \u001b[38;5;21mgreet2\u001b[39m():\n\u001b[0;32m      5\u001b[0m     \u001b[38;5;28mprint\u001b[39m(\u001b[38;5;124m'\u001b[39m\u001b[38;5;124mhello good morning\u001b[39m\u001b[38;5;124m'\u001b[39m)\n\u001b[1;32m----> 6\u001b[0m     greet1()\n",
      "Cell \u001b[1;32mIn[19], line 3\u001b[0m, in \u001b[0;36mgreet1\u001b[1;34m()\u001b[0m\n\u001b[0;32m      1\u001b[0m \u001b[38;5;28;01mdef\u001b[39;00m \u001b[38;5;21mgreet1\u001b[39m():\n\u001b[0;32m      2\u001b[0m     \u001b[38;5;28mprint\u001b[39m(\u001b[38;5;124m'\u001b[39m\u001b[38;5;124mhello good night\u001b[39m\u001b[38;5;124m'\u001b[39m)\n\u001b[1;32m----> 3\u001b[0m     greet2()\n",
      "Cell \u001b[1;32mIn[19], line 6\u001b[0m, in \u001b[0;36mgreet2\u001b[1;34m()\u001b[0m\n\u001b[0;32m      4\u001b[0m \u001b[38;5;28;01mdef\u001b[39;00m \u001b[38;5;21mgreet2\u001b[39m():\n\u001b[0;32m      5\u001b[0m     \u001b[38;5;28mprint\u001b[39m(\u001b[38;5;124m'\u001b[39m\u001b[38;5;124mhello good morning\u001b[39m\u001b[38;5;124m'\u001b[39m)\n\u001b[1;32m----> 6\u001b[0m     greet1()\n",
      "Cell \u001b[1;32mIn[19], line 3\u001b[0m, in \u001b[0;36mgreet1\u001b[1;34m()\u001b[0m\n\u001b[0;32m      1\u001b[0m \u001b[38;5;28;01mdef\u001b[39;00m \u001b[38;5;21mgreet1\u001b[39m():\n\u001b[0;32m      2\u001b[0m     \u001b[38;5;28mprint\u001b[39m(\u001b[38;5;124m'\u001b[39m\u001b[38;5;124mhello good night\u001b[39m\u001b[38;5;124m'\u001b[39m)\n\u001b[1;32m----> 3\u001b[0m     greet2()\n",
      "    \u001b[1;31m[... skipping similar frames: greet1 at line 3 (1482 times), greet2 at line 6 (1482 times)]\u001b[0m\n",
      "Cell \u001b[1;32mIn[19], line 6\u001b[0m, in \u001b[0;36mgreet2\u001b[1;34m()\u001b[0m\n\u001b[0;32m      4\u001b[0m \u001b[38;5;28;01mdef\u001b[39;00m \u001b[38;5;21mgreet2\u001b[39m():\n\u001b[0;32m      5\u001b[0m     \u001b[38;5;28mprint\u001b[39m(\u001b[38;5;124m'\u001b[39m\u001b[38;5;124mhello good morning\u001b[39m\u001b[38;5;124m'\u001b[39m)\n\u001b[1;32m----> 6\u001b[0m     greet1()\n",
      "Cell \u001b[1;32mIn[19], line 3\u001b[0m, in \u001b[0;36mgreet1\u001b[1;34m()\u001b[0m\n\u001b[0;32m      1\u001b[0m \u001b[38;5;28;01mdef\u001b[39;00m \u001b[38;5;21mgreet1\u001b[39m():\n\u001b[0;32m      2\u001b[0m     \u001b[38;5;28mprint\u001b[39m(\u001b[38;5;124m'\u001b[39m\u001b[38;5;124mhello good night\u001b[39m\u001b[38;5;124m'\u001b[39m)\n\u001b[1;32m----> 3\u001b[0m     greet2()\n",
      "Cell \u001b[1;32mIn[19], line 5\u001b[0m, in \u001b[0;36mgreet2\u001b[1;34m()\u001b[0m\n\u001b[0;32m      4\u001b[0m \u001b[38;5;28;01mdef\u001b[39;00m \u001b[38;5;21mgreet2\u001b[39m():\n\u001b[1;32m----> 5\u001b[0m     \u001b[38;5;28mprint\u001b[39m(\u001b[38;5;124m'\u001b[39m\u001b[38;5;124mhello good morning\u001b[39m\u001b[38;5;124m'\u001b[39m)\n\u001b[0;32m      6\u001b[0m     greet1()\n",
      "File \u001b[1;32m~\\Downloads\\anaconda\\Lib\\site-packages\\ipykernel\\iostream.py:649\u001b[0m, in \u001b[0;36mOutStream.write\u001b[1;34m(self, string)\u001b[0m\n\u001b[0;32m    646\u001b[0m     msg \u001b[38;5;241m=\u001b[39m \u001b[38;5;124m\"\u001b[39m\u001b[38;5;124mI/O operation on closed file\u001b[39m\u001b[38;5;124m\"\u001b[39m\n\u001b[0;32m    647\u001b[0m     \u001b[38;5;28;01mraise\u001b[39;00m \u001b[38;5;167;01mValueError\u001b[39;00m(msg)\n\u001b[1;32m--> 649\u001b[0m is_child \u001b[38;5;241m=\u001b[39m \u001b[38;5;129;01mnot\u001b[39;00m \u001b[38;5;28mself\u001b[39m\u001b[38;5;241m.\u001b[39m_is_master_process()\n\u001b[0;32m    650\u001b[0m \u001b[38;5;66;03m# only touch the buffer in the IO thread to avoid races\u001b[39;00m\n\u001b[0;32m    651\u001b[0m \u001b[38;5;28;01mwith\u001b[39;00m \u001b[38;5;28mself\u001b[39m\u001b[38;5;241m.\u001b[39m_buffer_lock:\n",
      "File \u001b[1;32m~\\Downloads\\anaconda\\Lib\\site-packages\\ipykernel\\iostream.py:520\u001b[0m, in \u001b[0;36mOutStream._is_master_process\u001b[1;34m(self)\u001b[0m\n\u001b[0;32m    519\u001b[0m \u001b[38;5;28;01mdef\u001b[39;00m \u001b[38;5;21m_is_master_process\u001b[39m(\u001b[38;5;28mself\u001b[39m):\n\u001b[1;32m--> 520\u001b[0m     \u001b[38;5;28;01mreturn\u001b[39;00m os\u001b[38;5;241m.\u001b[39mgetpid() \u001b[38;5;241m==\u001b[39m \u001b[38;5;28mself\u001b[39m\u001b[38;5;241m.\u001b[39m_master_pid\n",
      "\u001b[1;31mRecursionError\u001b[0m: maximum recursion depth exceeded while calling a Python object"
     ]
    }
   ],
   "source": [
    "def greet1():\n",
    "    print('hello good night')\n",
    "    greet2()\n",
    "def greet2():\n",
    "    print('hello good morning')\n",
    "    greet1()\n",
    "greet2()"
   ]
  },
  {
   "cell_type": "markdown",
   "id": "fc7b7e5e-8c65-4381-85ec-4bea803c765b",
   "metadata": {},
   "source": [
    "- python is a step by step process\n",
    "- functions without arguments\n",
    "- functions with arguments\n",
    "- function defualt arguments\n",
    "- global vs local variable concepts\n",
    "- global key word\n",
    "- return statement\n",
    "- unbound local error\n",
    "- function in functions"
   ]
  },
  {
   "cell_type": "code",
   "execution_count": 21,
   "id": "b9167da1-a183-4ff4-b124-100168c1bdcf",
   "metadata": {},
   "outputs": [
    {
     "name": "stdin",
     "output_type": "stream",
     "text": [
      "enter the distance 50\n",
      "enter the cutoff distance value = 4\n"
     ]
    },
    {
     "name": "stdout",
     "output_type": "stream",
     "text": [
      "good news your charge is applicable for only remaining of 46\n"
     ]
    },
    {
     "name": "stdin",
     "output_type": "stream",
     "text": [
      "enter the charge = 5\n"
     ]
    },
    {
     "name": "stdout",
     "output_type": "stream",
     "text": [
      "the total charge in rupees = 230\n"
     ]
    }
   ],
   "source": [
    "a=eval(input('enter the distance'))\n",
    "cutoff=eval(input('enter the cutoff distance value ='))\n",
    "if a>cutoff:\n",
    "    print('good news your charge is applicable for only remaining of',a-cutoff)\n",
    "    chargeable=a-cutoff\n",
    "    charge=eval(input('enter the charge ='))\n",
    "    print('the total charge in rupees =',chargeable*charge)\n",
    "else:\n",
    "    print('free ride')"
   ]
  },
  {
   "cell_type": "code",
   "execution_count": 25,
   "id": "cab973dd-de54-4ab5-af8b-5716358dedca",
   "metadata": {},
   "outputs": [
    {
     "name": "stdin",
     "output_type": "stream",
     "text": [
      "enter the cutoff distance value = 25\n"
     ]
    },
    {
     "name": "stdout",
     "output_type": "stream",
     "text": [
      "good news your charge is applicable for only remaining of 25\n"
     ]
    },
    {
     "name": "stdin",
     "output_type": "stream",
     "text": [
      "enter the charge = 5\n"
     ]
    },
    {
     "name": "stdout",
     "output_type": "stream",
     "text": [
      "the total charge in rupees = 125\n"
     ]
    }
   ],
   "source": [
    "# without arguments\n",
    "\n",
    "def distance():\n",
    "    cutoff=eval(input('enter the cutoff distance value ='))\n",
    "    if a>cutoff:\n",
    "        print('good news your charge is applicable for only remaining of',a-cutoff)\n",
    "        chargeable=a-cutoff\n",
    "        charge=eval(input('enter the charge ='))\n",
    "        print('the total charge in rupees =',chargeable*charge)\n",
    "    else:\n",
    "        print('free ride')\n",
    "distance()"
   ]
  },
  {
   "cell_type": "code",
   "execution_count": 27,
   "id": "786f5972-efa0-4d40-ad91-72117dba7569",
   "metadata": {},
   "outputs": [
    {
     "name": "stdout",
     "output_type": "stream",
     "text": [
      "good news your charge is applicable for only remaining of 25\n",
      "the total charge in rupees = 125\n"
     ]
    }
   ],
   "source": [
    "# with arguments\n",
    "\n",
    "def distance1(distance,cutoff,distance_charge):\n",
    "    if a>cutoff:\n",
    "        print('good news your charge is applicable for only remaining of',a-cutoff)\n",
    "        chargeable=a-cutoff\n",
    "        #harge=eval(input('enter the charge ='))\n",
    "        print('the total charge in rupees =',chargeable*charge)\n",
    "    else:\n",
    "        print('free ride')\n",
    "distance1(60,25,3)\n",
    "    "
   ]
  },
  {
   "cell_type": "code",
   "execution_count": 28,
   "id": "a832bd3f-8df0-48c7-814e-eb51ef051a25",
   "metadata": {},
   "outputs": [
    {
     "name": "stdin",
     "output_type": "stream",
     "text": [
      "enter the distance 150\n",
      "enter the cutoff distance value = 50\n"
     ]
    },
    {
     "name": "stdout",
     "output_type": "stream",
     "text": [
      "good news your charge is applicable for only remaining of 100\n"
     ]
    },
    {
     "name": "stdin",
     "output_type": "stream",
     "text": [
      "enter the charge = 10\n"
     ]
    },
    {
     "name": "stdout",
     "output_type": "stream",
     "text": [
      "the total charge in rupees = 1000\n"
     ]
    }
   ],
   "source": [
    "a=eval(input('enter the distance'))\n",
    "cutoff=eval(input('enter the cutoff distance value ='))\n",
    "def distance23():\n",
    "    if a>cutoff:\n",
    "        print('good news your charge is applicable for only remaining of',a-cutoff)\n",
    "        chargeable=a-cutoff\n",
    "        charge=eval(input('enter the charge ='))\n",
    "        print('the total charge in rupees =',chargeable*charge)\n",
    "    else:\n",
    "        print('free ride')\n",
    "distance23()"
   ]
  },
  {
   "cell_type": "code",
   "execution_count": 31,
   "id": "06c4b0b1-7c7a-47d4-9650-7d054401c428",
   "metadata": {},
   "outputs": [
    {
     "name": "stdin",
     "output_type": "stream",
     "text": [
      "enter the distance 150\n",
      "enter the cutoff distance value = 50\n"
     ]
    },
    {
     "name": "stdout",
     "output_type": "stream",
     "text": [
      "good news your charge is applicable for only remaining of 100\n"
     ]
    },
    {
     "name": "stdin",
     "output_type": "stream",
     "text": [
      "enter the charge = 10\n"
     ]
    },
    {
     "name": "stdout",
     "output_type": "stream",
     "text": [
      "the total charge in rupees = 1000\n",
      "outside function cost is 1000\n"
     ]
    }
   ],
   "source": [
    "a=eval(input('enter the distance'))\n",
    "cutoff=eval(input('enter the cutoff distance value ='))\n",
    "def distance232():\n",
    "    global d\n",
    "    if a>cutoff:\n",
    "        print('good news your charge is applicable for only remaining of',a-cutoff)\n",
    "        chargeable=a-cutoff\n",
    "        charge=eval(input('enter the charge ='))\n",
    "        d=chargeable*charge\n",
    "        print('the total charge in rupees =',d)\n",
    "    else:\n",
    "        print('free ride')\n",
    "distance232()\n",
    "print('outside function cost is',d)"
   ]
  },
  {
   "cell_type": "code",
   "execution_count": 37,
   "id": "e5a2ee78-be55-4765-9308-6fd56459928c",
   "metadata": {},
   "outputs": [
    {
     "name": "stdin",
     "output_type": "stream",
     "text": [
      "enter the distance 150\n",
      "enter the cutoff distance value = 50\n"
     ]
    },
    {
     "name": "stdout",
     "output_type": "stream",
     "text": [
      "good news your charge is applicable for only remaining of 100\n"
     ]
    },
    {
     "name": "stdin",
     "output_type": "stream",
     "text": [
      "enter the charge = 10\n"
     ]
    },
    {
     "name": "stdout",
     "output_type": "stream",
     "text": [
      "the total charge in rupees = 1000\n",
      "outside function cost is 1000\n"
     ]
    }
   ],
   "source": [
    "# return functionn \n",
    "\n",
    "a=eval(input('enter the distance'))\n",
    "cutoff=eval(input('enter the cutoff distance value ='))\n",
    "def distance232():\n",
    "    global cost\n",
    "    if a>cutoff:\n",
    "        print('good news your charge is applicable for only remaining of',a-cutoff)\n",
    "        chargeable=a-cutoff\n",
    "        charge=eval(input('enter the charge ='))\n",
    "        cost=chargeable*charge\n",
    "        print('the total charge in rupees =',cost)\n",
    "        return(cost)\n",
    "    else:\n",
    "        print('free ride')\n",
    "distance232()\n",
    "print('outside function cost is',cost)"
   ]
  },
  {
   "cell_type": "code",
   "execution_count": 38,
   "id": "97fdb055-2bf3-4f71-88ef-9a096b0da326",
   "metadata": {},
   "outputs": [
    {
     "name": "stdin",
     "output_type": "stream",
     "text": [
      "enter the distance 150\n",
      "enter the cutoff distance value = 50\n"
     ]
    },
    {
     "name": "stdout",
     "output_type": "stream",
     "text": [
      "good news your charge is applicable for only remaining of 100\n"
     ]
    },
    {
     "name": "stdin",
     "output_type": "stream",
     "text": [
      "enter the charge = 10\n"
     ]
    },
    {
     "name": "stdout",
     "output_type": "stream",
     "text": [
      "the total charge in rupees = 1000\n",
      "outside function cost is 1000\n"
     ]
    }
   ],
   "source": [
    "# return functionn \n",
    "\n",
    "a=eval(input('enter the distance'))\n",
    "cutoff=eval(input('enter the cutoff distance value ='))\n",
    "def distance2322():\n",
    "    global cost\n",
    "    if a>cutoff:\n",
    "        print('good news your charge is applicable for only remaining of',a-cutoff)\n",
    "        chargeable=a-cutoff\n",
    "        charge=eval(input('enter the charge ='))\n",
    "        cost=chargeable*charge\n",
    "        print('the total charge in rupees =',cost)\n",
    "    else:\n",
    "        print('free ride')\n",
    "        return(cost)\n",
    "distance2322()\n",
    "print('outside function cost is',cost)"
   ]
  },
  {
   "cell_type": "code",
   "execution_count": 36,
   "id": "b5602f72-7be9-4328-a53f-502e25b04dfa",
   "metadata": {},
   "outputs": [
    {
     "name": "stdin",
     "output_type": "stream",
     "text": [
      "enter the distance 150\n",
      "enter the cutoff distance value = 50\n"
     ]
    },
    {
     "name": "stdout",
     "output_type": "stream",
     "text": [
      "good news your charge is applicable for only remaining of 100\n"
     ]
    },
    {
     "name": "stdin",
     "output_type": "stream",
     "text": [
      "enter the charge = 10\n"
     ]
    },
    {
     "name": "stdout",
     "output_type": "stream",
     "text": [
      "the total charge in rupees = 1000\n",
      "outside function cost is 1000\n"
     ]
    }
   ],
   "source": [
    "# return functionn \n",
    "\n",
    "a=eval(input('enter the distance'))\n",
    "cutoff=eval(input('enter the cutoff distance value ='))\n",
    "def distance2324():\n",
    "    global cost\n",
    "    if a>cutoff:\n",
    "        print('good news your charge is applicable for only remaining of',a-cutoff)\n",
    "        chargeable=a-cutoff\n",
    "        charge=eval(input('enter the charge ='))\n",
    "        cost=chargeable*charge\n",
    "        print('the total charge in rupees =',cost)\n",
    "        return(cost)\n",
    "    else:\n",
    "        print('free ride')\n",
    "        return(cost)\n",
    "distance2324()\n",
    "print('outside function cost is',cost)"
   ]
  },
  {
   "cell_type": "code",
   "execution_count": null,
   "id": "328d7537-08be-4428-bb0a-0371b2426d16",
   "metadata": {},
   "outputs": [],
   "source": [
    "# cteeate"
   ]
  },
  {
   "cell_type": "code",
   "execution_count": 54,
   "id": "ab09f072-db77-448b-a1b9-55b6b1df4eaa",
   "metadata": {},
   "outputs": [
    {
     "name": "stdin",
     "output_type": "stream",
     "text": [
      "enter the value1=  10\n",
      "enter the value1=  20\n",
      "enter the some statemnts = 2\n"
     ]
    },
    {
     "name": "stdout",
     "output_type": "stream",
     "text": [
      "130\n"
     ]
    }
   ],
   "source": [
    "def addition():\n",
    "    print(a+b)\n",
    "def subtraction():\n",
    "    print(a-b)\n",
    "def multiplication():\n",
    "    print(a*b)\n",
    "def division():\n",
    "    print(a/b)\n",
    "def calculator():\n",
    "    a=eval(input('enter the value1= '))\n",
    "    b=eval(input('enter the value1= '))\n",
    "    c=eval(input('enter the some statemnts ='))\n",
    "    if c==1:\n",
    "        addition()\n",
    "    elif c==2:\n",
    "        subtraction()\n",
    "    elif c==3:\n",
    "        multiplication()\n",
    "    elif c==4:\n",
    "        division()\n",
    "calculator()"
   ]
  },
  {
   "cell_type": "code",
   "execution_count": 13,
   "id": "430024f4-326a-4b26-a275-f31f971958e1",
   "metadata": {},
   "outputs": [
    {
     "name": "stdout",
     "output_type": "stream",
     "text": [
      "enter 1 for addition\n",
      "enter 2 for subtraction\n",
      "enter 3 for multplication\n",
      "enter 4 for division\n"
     ]
    },
    {
     "name": "stdin",
     "output_type": "stream",
     "text": [
      "enter the value1 = 5\n",
      "enter the value2 = 4\n",
      "enter the statement from 1 to 4 = 4\n"
     ]
    },
    {
     "name": "stdout",
     "output_type": "stream",
     "text": [
      "1.25\n"
     ]
    }
   ],
   "source": [
    "def addition(n,m):\n",
    "    print(n+m)\n",
    "def subtraction(n,m):\n",
    "    print(n-m)\n",
    "def multiplication(n,m):\n",
    "    print(n*m)\n",
    "def division(n,m):\n",
    "    print(n/m)\n",
    "def calculator():\n",
    "    print('enter 1 for addition')\n",
    "    print('enter 2 for subtraction')\n",
    "    print('enter 3 for multplication')\n",
    "    print('enter 4 for division')\n",
    "    n=eval(input('enter the value1 ='))\n",
    "    m=eval(input('enter the value2 ='))\n",
    "    j=eval(input('enter the statement from 1 to 4 ='))\n",
    "    if j==1:\n",
    "        addition(n,m)\n",
    "    elif j==2:\n",
    "        subtraction(n,m)\n",
    "    elif j==3:\n",
    "        multiplication(n,m)\n",
    "    elif j==4:\n",
    "        division(n,m)\n",
    "    else:\n",
    "        print('enter a valid number')\n",
    "calculator()"
   ]
  },
  {
   "cell_type": "code",
   "execution_count": 20,
   "id": "edadcc42-cdef-4514-abd2-4411adbff371",
   "metadata": {},
   "outputs": [
    {
     "name": "stdout",
     "output_type": "stream",
     "text": [
      "enter 1 is called addition\n",
      "enter 2 is called subtraction\n",
      "enter 3 is called division\n",
      "enter 4 is called multiplication\n",
      "20\n"
     ]
    }
   ],
   "source": [
    "def addition(v,b):\n",
    "    print(v+b)\n",
    "def subtraction(v,b):\n",
    "    print(v-b)\n",
    "def division(v,b):\n",
    "    print(v/b)\n",
    "def multiplication(v,b):\n",
    "    print(v*b)\n",
    "def calculator():\n",
    "    print('enter 1 is called addition')\n",
    "    print('enter 2 is called subtraction')\n",
    "    print('enter 3 is called division')\n",
    "    print('enter 4 is called multiplication')\n",
    "    v=eval(input('enter the number1 ='))\n",
    "    b=eval(input('enter the number2 ='))\n",
    "    y=eval(input('enter the value 1 to 4 ='))\n",
    "    if y==1:\n",
    "        addition(v,b)\n",
    "    elif y==2:\n",
    "        subtraction(v,b)\n",
    "    elif y==3:\n",
    "        division(v,b)\n",
    "    elif y==4:\n",
    "        multiplication(v,b)\n",
    "    else:\n",
    "        print('enter a valid number')\n",
    "calculator()\n",
    "\n",
    "\n",
    "    "
   ]
  },
  {
   "cell_type": "code",
   "execution_count": null,
   "id": "7189da10-2b93-4891-a2b7-de0c916cee9e",
   "metadata": {},
   "outputs": [],
   "source": []
  }
 ],
 "metadata": {
  "kernelspec": {
   "display_name": "Python 3 (ipykernel)",
   "language": "python",
   "name": "python3"
  },
  "language_info": {
   "codemirror_mode": {
    "name": "ipython",
    "version": 3
   },
   "file_extension": ".py",
   "mimetype": "text/x-python",
   "name": "python",
   "nbconvert_exporter": "python",
   "pygments_lexer": "ipython3",
   "version": "3.11.7"
  }
 },
 "nbformat": 4,
 "nbformat_minor": 5
}
