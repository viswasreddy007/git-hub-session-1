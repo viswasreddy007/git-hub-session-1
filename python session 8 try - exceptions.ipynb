{
 "cells": [
  {
   "cell_type": "markdown",
   "id": "373de6fb-c188-40c7-a43a-afab45b891ca",
   "metadata": {},
   "source": [
    "# **try-expect**"
   ]
  },
  {
   "cell_type": "markdown",
   "id": "9108c01a-3c15-4b44-8105-af0299c81b42",
   "metadata": {},
   "source": [
    "**try-expect**\n",
    "\n",
    "- generally in real time we will write n numbers of python code lines\n",
    "- there is a situation we might get an error , that might be unknown\n",
    "- this unknown errors cannot cause any harm\n",
    "- even though we are getting errror we need to proceed furthuer\n",
    "- also we need to catch that error\n",
    "- because we already know python is a seqential process\n",
    "- means the lines will execute step by step\n",
    "- suppose you have an errror at particular line, the code execution will stop at that line only\n",
    "- but you know that error is not harmful\n",
    "- so you wmat to continue the execution\n",
    "- then we requird try-exception"
   ]
  },
  {
   "cell_type": "markdown",
   "id": "2aec9db9-cb4d-4425-8b07-11abd8596cef",
   "metadata": {},
   "source": [
    "- try-execpt has two blocks\n",
    "- try block as actual code\n",
    "- expect block will catch the error\n"
   ]
  },
  {
   "cell_type": "code",
   "execution_count": 1,
   "id": "f1e25b10-50b5-411b-ae64-41704a13e526",
   "metadata": {},
   "outputs": [
    {
     "name": "stdin",
     "output_type": "stream",
     "text": [
      "enter the number1 = 10\n",
      "enter the number2 = ten\n"
     ]
    },
    {
     "ename": "NameError",
     "evalue": "name 'ten' is not defined",
     "output_type": "error",
     "traceback": [
      "\u001b[1;31m---------------------------------------------------------------------------\u001b[0m",
      "\u001b[1;31mNameError\u001b[0m                                 Traceback (most recent call last)",
      "Cell \u001b[1;32mIn[1], line 2\u001b[0m\n\u001b[0;32m      1\u001b[0m a\u001b[38;5;241m=\u001b[39m\u001b[38;5;28meval\u001b[39m(\u001b[38;5;28minput\u001b[39m(\u001b[38;5;124m'\u001b[39m\u001b[38;5;124menter the number1 =\u001b[39m\u001b[38;5;124m'\u001b[39m))\n\u001b[1;32m----> 2\u001b[0m b\u001b[38;5;241m=\u001b[39m\u001b[38;5;28meval\u001b[39m(\u001b[38;5;28minput\u001b[39m(\u001b[38;5;124m'\u001b[39m\u001b[38;5;124menter the number2 =\u001b[39m\u001b[38;5;124m'\u001b[39m))\n\u001b[0;32m      3\u001b[0m \u001b[38;5;28mprint\u001b[39m(a\u001b[38;5;241m+\u001b[39mb)\n",
      "File \u001b[1;32m<string>:1\u001b[0m\n",
      "\u001b[1;31mNameError\u001b[0m: name 'ten' is not defined"
     ]
    }
   ],
   "source": [
    "a=eval(input('enter the number1 ='))\n",
    "b=eval(input('enter the number2 ='))\n",
    "print(a+b)"
   ]
  },
  {
   "cell_type": "code",
   "execution_count": 1,
   "id": "063cbb50-d4a9-407d-8ef1-246769348194",
   "metadata": {},
   "outputs": [
    {
     "name": "stdin",
     "output_type": "stream",
     "text": [
      "enter the number1 = \n"
     ]
    },
    {
     "name": "stdout",
     "output_type": "stream",
     "text": [
      "hello\n",
      "you are getting error\n",
      "check the code properly\n"
     ]
    }
   ],
   "source": [
    "try:\n",
    "    a=eval(input('enter the number1 ='))\n",
    "    b=eval(input('enter the number2 ='))\n",
    "    print(a+b+c)\n",
    "except:\n",
    "    print('hello')\n",
    "    print('you are getting error')\n",
    "    print('check the code properly')\n",
    "    "
   ]
  },
  {
   "cell_type": "markdown",
   "id": "5bb4d711-3d2c-49c5-bc30-bc3b2d03b5c2",
   "metadata": {},
   "source": [
    "# note\n",
    "### **generally try-except block is to catch the errors**"
   ]
  },
  {
   "cell_type": "code",
   "execution_count": 14,
   "id": "2cbd2c6f-e075-4439-9750-8a476072b82a",
   "metadata": {},
   "outputs": [
    {
     "name": "stdin",
     "output_type": "stream",
     "text": [
      "enter the number1 = 4\n",
      "enter the number2 = ten\n"
     ]
    },
    {
     "name": "stdout",
     "output_type": "stream",
     "text": [
      "the error is  name 'ten' is not defined\n"
     ]
    }
   ],
   "source": [
    "try:\n",
    "    a=eval(input('enter the number1 ='))\n",
    "    b=eval(input('enter the number2 ='))\n",
    "    print(a+b)\n",
    "except Exception as e:\n",
    "    print('the error is ',e)\n",
    "\n",
    "    "
   ]
  },
  {
   "cell_type": "markdown",
   "id": "790e1a97-b8ff-43a3-9138-e5996b4fa8ee",
   "metadata": {},
   "source": [
    "### - now onwards you need to use try-expection"
   ]
  },
  {
   "cell_type": "code",
   "execution_count": 15,
   "id": "388380a5-a4d5-4eb4-9d30-266744fda056",
   "metadata": {},
   "outputs": [
    {
     "name": "stdin",
     "output_type": "stream",
     "text": [
      "enter the number1= ten\n"
     ]
    },
    {
     "ename": "NameError",
     "evalue": "name 'Expection' is not defined",
     "output_type": "error",
     "traceback": [
      "\u001b[1;31m---------------------------------------------------------------------------\u001b[0m",
      "\u001b[1;31mNameError\u001b[0m                                 Traceback (most recent call last)",
      "Cell \u001b[1;32mIn[15], line 2\u001b[0m\n\u001b[0;32m      1\u001b[0m \u001b[38;5;28;01mtry\u001b[39;00m:\n\u001b[1;32m----> 2\u001b[0m     a\u001b[38;5;241m=\u001b[39m\u001b[38;5;28meval\u001b[39m(\u001b[38;5;28minput\u001b[39m(\u001b[38;5;124m'\u001b[39m\u001b[38;5;124menter the number1=\u001b[39m\u001b[38;5;124m'\u001b[39m))\n\u001b[0;32m      3\u001b[0m     \u001b[38;5;28;01mif\u001b[39;00m a\u001b[38;5;241m%\u001b[39m\u001b[38;5;241m2\u001b[39m\u001b[38;5;241m==\u001b[39m\u001b[38;5;241m0\u001b[39m:\n",
      "File \u001b[1;32m<string>:1\u001b[0m\n",
      "\u001b[1;31mNameError\u001b[0m: name 'ten' is not defined",
      "\nDuring handling of the above exception, another exception occurred:\n",
      "\u001b[1;31mNameError\u001b[0m                                 Traceback (most recent call last)",
      "Cell \u001b[1;32mIn[15], line 7\u001b[0m\n\u001b[0;32m      5\u001b[0m     \u001b[38;5;28;01melse\u001b[39;00m:\n\u001b[0;32m      6\u001b[0m         \u001b[38;5;28mprint\u001b[39m(\u001b[38;5;124m'\u001b[39m\u001b[38;5;124modd number\u001b[39m\u001b[38;5;124m'\u001b[39m)\n\u001b[1;32m----> 7\u001b[0m \u001b[38;5;28;01mexcept\u001b[39;00m Expection \u001b[38;5;28;01mas\u001b[39;00m e:\n\u001b[0;32m      8\u001b[0m     \u001b[38;5;28mprint\u001b[39m(\u001b[38;5;124m'\u001b[39m\u001b[38;5;124mthe error is\u001b[39m\u001b[38;5;124m'\u001b[39m,e)\n",
      "\u001b[1;31mNameError\u001b[0m: name 'Expection' is not defined"
     ]
    }
   ],
   "source": [
    "try:\n",
    "    a=eval(input('enter the number1='))\n",
    "    if a%2==0:\n",
    "        print('even')\n",
    "    else:\n",
    "        print('odd number')\n",
    "except Expection as e:\n",
    "    print('the error is',e)"
   ]
  },
  {
   "cell_type": "markdown",
   "id": "840e176f-6708-4e1b-969b-45ea9f0d5641",
   "metadata": {},
   "source": [
    "# try and expect"
   ]
  },
  {
   "cell_type": "markdown",
   "id": "44095105-c860-43d9-a7c5-7bea554a12f8",
   "metadata": {},
   "source": [
    "**try-expect**\n",
    "\n",
    "- generally in real time we will write n numbers of python code lines\n",
    "- there is a situation we might get an error , that might be unknown\n",
    "- this unknown errors cannot cause any harm\n",
    "- even though we are getting errror we need to proceed furthuer\n",
    "- also we need to catch that error\n",
    "- because we already know python is a seqential process\n",
    "- means the lines will execute step by step\n",
    "- suppose you have an errror at particular line, the code execution will stop at that line only\n",
    "- but you know that error is not harmful\n",
    "- so you wmat to continue the execution\n",
    "- then we requird try-exception"
   ]
  },
  {
   "cell_type": "code",
   "execution_count": null,
   "id": "d09b8923-3a7d-4996-9321-7232461c59a5",
   "metadata": {},
   "outputs": [],
   "source": []
  }
 ],
 "metadata": {
  "kernelspec": {
   "display_name": "Python 3 (ipykernel)",
   "language": "python",
   "name": "python3"
  },
  "language_info": {
   "codemirror_mode": {
    "name": "ipython",
    "version": 3
   },
   "file_extension": ".py",
   "mimetype": "text/x-python",
   "name": "python",
   "nbconvert_exporter": "python",
   "pygments_lexer": "ipython3",
   "version": "3.11.7"
  }
 },
 "nbformat": 4,
 "nbformat_minor": 5
}
